{
 "cells": [
  {
   "cell_type": "code",
   "execution_count": 2,
   "metadata": {},
   "outputs": [],
   "source": [
    "import pandas as pd\n",
    "import seaborn as sns\n",
    "import plotly.express as px\n",
    "import numpy as np\n",
    "import kaleido\n",
    "import plotly.io as pio\n",
    "pio.kaleido.scope.mathjax = None"
   ]
  },
  {
   "cell_type": "code",
   "execution_count": 27,
   "metadata": {},
   "outputs": [],
   "source": [
    "df = pd.read_csv('../results/clip_analysis_20250425_121658.csv')"
   ]
  },
  {
   "cell_type": "code",
   "execution_count": 28,
   "metadata": {},
   "outputs": [],
   "source": [
    "df['condition'] = np.where(df['word'].str.lower() == df['color'].str.lower(), 'congruent', 'incongruent')\n",
    "df.loc[df['word'] == 'XXXX', 'condition'] = 'neutral'\n"
   ]
  },
  {
   "cell_type": "code",
   "execution_count": 47,
   "metadata": {},
   "outputs": [
    {
     "data": {
      "application/vnd.plotly.v1+json": {
       "config": {
        "plotlyServerURL": "https://plot.ly"
       },
       "data": [
        {
         "alignmentgroup": "True",
         "customdata": [
          [
           "BLUE",
           "red",
           "color_only",
           "incongruent"
          ],
          [
           "BLUE",
           "red",
           "color_only",
           "incongruent"
          ]
         ],
         "hovertemplate": "color=%{customdata[1]}<br>word=%{customdata[0]}<br>Probability=%{x}<br>Prompt=%{y}<br>Experiment Condition=%{customdata[2]}<br>condition=%{customdata[3]}<extra></extra>",
         "legendgroup": "red",
         "marker": {
          "color": "red",
          "pattern": {
           "shape": ""
          }
         },
         "name": "red",
         "offsetgroup": "red",
         "orientation": "h",
         "showlegend": true,
         "text": [
          "BLUE",
          "BLUE"
         ],
         "textposition": "auto",
         "type": "bar",
         "x": {
          "bdata": "AAAAoID+6D////9//QXMPw==",
          "dtype": "f8"
         },
         "xaxis": "x",
         "y": [
          "the text's font color is blue",
          "the text's font color is red"
         ],
         "yaxis": "y"
        },
        {
         "alignmentgroup": "True",
         "customdata": [
          [
           "RED",
           "red",
           "color_only",
           "congruent"
          ],
          [
           "RED",
           "red",
           "color_only",
           "congruent"
          ]
         ],
         "hovertemplate": "color=%{customdata[1]}<br>word=%{customdata[0]}<br>Probability=%{x}<br>Prompt=%{y}<br>Experiment Condition=%{customdata[2]}<br>condition=%{customdata[3]}<extra></extra>",
         "legendgroup": "red",
         "marker": {
          "color": "red",
          "pattern": {
           "shape": ""
          }
         },
         "name": "red",
         "offsetgroup": "red",
         "orientation": "h",
         "showlegend": false,
         "text": [
          "RED",
          "RED"
         ],
         "textposition": "auto",
         "type": "bar",
         "x": {
          "bdata": "AAAAwHmP7j/5//+/ZQinPw==",
          "dtype": "f8"
         },
         "xaxis": "x2",
         "y": [
          "the text's font color is red",
          "the text's font color is blue"
         ],
         "yaxis": "y2"
        },
        {
         "alignmentgroup": "True",
         "customdata": [
          [
           "XXXX",
           "red",
           "color_only",
           "neutral"
          ],
          [
           "XXXX",
           "red",
           "color_only",
           "neutral"
          ]
         ],
         "hovertemplate": "color=%{customdata[1]}<br>word=%{customdata[0]}<br>Probability=%{x}<br>Prompt=%{y}<br>Experiment Condition=%{customdata[2]}<br>condition=%{customdata[3]}<extra></extra>",
         "legendgroup": "red",
         "marker": {
          "color": "red",
          "pattern": {
           "shape": ""
          }
         },
         "name": "red",
         "offsetgroup": "red",
         "orientation": "h",
         "showlegend": false,
         "text": [
          "XXXX",
          "XXXX"
         ],
         "textposition": "auto",
         "type": "bar",
         "x": {
          "bdata": "AAAAILQ96T/+//9/LwnLPw==",
          "dtype": "f8"
         },
         "xaxis": "x3",
         "y": [
          "the text's font color is red",
          "the text's font color is blue"
         ],
         "yaxis": "y3"
        },
        {
         "alignmentgroup": "True",
         "customdata": [
          [
           "BLUE",
           "blue",
           "color_only",
           "congruent"
          ],
          [
           "BLUE",
           "blue",
           "color_only",
           "congruent"
          ]
         ],
         "hovertemplate": "color=%{customdata[1]}<br>word=%{customdata[0]}<br>Probability=%{x}<br>Prompt=%{y}<br>Experiment Condition=%{customdata[2]}<br>condition=%{customdata[3]}<extra></extra>",
         "legendgroup": "blue",
         "marker": {
          "color": "blue",
          "pattern": {
           "shape": ""
          }
         },
         "name": "blue",
         "offsetgroup": "blue",
         "orientation": "h",
         "showlegend": true,
         "text": [
          "BLUE",
          "BLUE"
         ],
         "textposition": "auto",
         "type": "bar",
         "x": {
          "bdata": "////P/1v7j/3//9/KwCpPw==",
          "dtype": "f8"
         },
         "xaxis": "x",
         "y": [
          "the text's font color is blue",
          "the text's font color is red"
         ],
         "yaxis": "y"
        },
        {
         "alignmentgroup": "True",
         "customdata": [
          [
           "RED",
           "blue",
           "color_only",
           "incongruent"
          ],
          [
           "RED",
           "blue",
           "color_only",
           "incongruent"
          ]
         ],
         "hovertemplate": "color=%{customdata[1]}<br>word=%{customdata[0]}<br>Probability=%{x}<br>Prompt=%{y}<br>Experiment Condition=%{customdata[2]}<br>condition=%{customdata[3]}<extra></extra>",
         "legendgroup": "blue",
         "marker": {
          "color": "blue",
          "pattern": {
           "shape": ""
          }
         },
         "name": "blue",
         "offsetgroup": "blue",
         "orientation": "h",
         "showlegend": false,
         "text": [
          "RED",
          "RED"
         ],
         "textposition": "auto",
         "type": "bar",
         "x": {
          "bdata": "AAAAwGdI6D8AAABAYd7OPw==",
          "dtype": "f8"
         },
         "xaxis": "x2",
         "y": [
          "the text's font color is red",
          "the text's font color is blue"
         ],
         "yaxis": "y2"
        },
        {
         "alignmentgroup": "True",
         "customdata": [
          [
           "XXXX",
           "blue",
           "color_only",
           "neutral"
          ],
          [
           "XXXX",
           "blue",
           "color_only",
           "neutral"
          ]
         ],
         "hovertemplate": "color=%{customdata[1]}<br>word=%{customdata[0]}<br>Probability=%{x}<br>Prompt=%{y}<br>Experiment Condition=%{customdata[2]}<br>condition=%{customdata[3]}<extra></extra>",
         "legendgroup": "blue",
         "marker": {
          "color": "blue",
          "pattern": {
           "shape": ""
          }
         },
         "name": "blue",
         "offsetgroup": "blue",
         "orientation": "h",
         "showlegend": false,
         "text": [
          "XXXX",
          "XXXX"
         ],
         "textposition": "auto",
         "type": "bar",
         "x": {
          "bdata": "AAAAAIP/6j////9f8wHEPw==",
          "dtype": "f8"
         },
         "xaxis": "x3",
         "y": [
          "the text's font color is blue",
          "the text's font color is red"
         ],
         "yaxis": "y3"
        }
       ],
       "layout": {
        "annotations": [
         {
          "font": {},
          "showarrow": false,
          "text": "word=BLUE",
          "x": 0.15999999999999998,
          "xanchor": "center",
          "xref": "paper",
          "y": 1,
          "yanchor": "bottom",
          "yref": "paper"
         },
         {
          "font": {},
          "showarrow": false,
          "text": "word=RED",
          "x": 0.49999999999999994,
          "xanchor": "center",
          "xref": "paper",
          "y": 1,
          "yanchor": "bottom",
          "yref": "paper"
         },
         {
          "font": {},
          "showarrow": false,
          "text": "word=XXXX",
          "x": 0.8399999999999999,
          "xanchor": "center",
          "xref": "paper",
          "y": 1,
          "yanchor": "bottom",
          "yref": "paper"
         }
        ],
        "barmode": "group",
        "legend": {
         "title": {
          "text": "color"
         },
         "tracegroupgap": 0
        },
        "template": {
         "data": {
          "bar": [
           {
            "error_x": {
             "color": "#2a3f5f"
            },
            "error_y": {
             "color": "#2a3f5f"
            },
            "marker": {
             "line": {
              "color": "#E5ECF6",
              "width": 0.5
             },
             "pattern": {
              "fillmode": "overlay",
              "size": 10,
              "solidity": 0.2
             }
            },
            "type": "bar"
           }
          ],
          "barpolar": [
           {
            "marker": {
             "line": {
              "color": "#E5ECF6",
              "width": 0.5
             },
             "pattern": {
              "fillmode": "overlay",
              "size": 10,
              "solidity": 0.2
             }
            },
            "type": "barpolar"
           }
          ],
          "carpet": [
           {
            "aaxis": {
             "endlinecolor": "#2a3f5f",
             "gridcolor": "white",
             "linecolor": "white",
             "minorgridcolor": "white",
             "startlinecolor": "#2a3f5f"
            },
            "baxis": {
             "endlinecolor": "#2a3f5f",
             "gridcolor": "white",
             "linecolor": "white",
             "minorgridcolor": "white",
             "startlinecolor": "#2a3f5f"
            },
            "type": "carpet"
           }
          ],
          "choropleth": [
           {
            "colorbar": {
             "outlinewidth": 0,
             "ticks": ""
            },
            "type": "choropleth"
           }
          ],
          "contour": [
           {
            "colorbar": {
             "outlinewidth": 0,
             "ticks": ""
            },
            "colorscale": [
             [
              0,
              "#0d0887"
             ],
             [
              0.1111111111111111,
              "#46039f"
             ],
             [
              0.2222222222222222,
              "#7201a8"
             ],
             [
              0.3333333333333333,
              "#9c179e"
             ],
             [
              0.4444444444444444,
              "#bd3786"
             ],
             [
              0.5555555555555556,
              "#d8576b"
             ],
             [
              0.6666666666666666,
              "#ed7953"
             ],
             [
              0.7777777777777778,
              "#fb9f3a"
             ],
             [
              0.8888888888888888,
              "#fdca26"
             ],
             [
              1,
              "#f0f921"
             ]
            ],
            "type": "contour"
           }
          ],
          "contourcarpet": [
           {
            "colorbar": {
             "outlinewidth": 0,
             "ticks": ""
            },
            "type": "contourcarpet"
           }
          ],
          "heatmap": [
           {
            "colorbar": {
             "outlinewidth": 0,
             "ticks": ""
            },
            "colorscale": [
             [
              0,
              "#0d0887"
             ],
             [
              0.1111111111111111,
              "#46039f"
             ],
             [
              0.2222222222222222,
              "#7201a8"
             ],
             [
              0.3333333333333333,
              "#9c179e"
             ],
             [
              0.4444444444444444,
              "#bd3786"
             ],
             [
              0.5555555555555556,
              "#d8576b"
             ],
             [
              0.6666666666666666,
              "#ed7953"
             ],
             [
              0.7777777777777778,
              "#fb9f3a"
             ],
             [
              0.8888888888888888,
              "#fdca26"
             ],
             [
              1,
              "#f0f921"
             ]
            ],
            "type": "heatmap"
           }
          ],
          "histogram": [
           {
            "marker": {
             "pattern": {
              "fillmode": "overlay",
              "size": 10,
              "solidity": 0.2
             }
            },
            "type": "histogram"
           }
          ],
          "histogram2d": [
           {
            "colorbar": {
             "outlinewidth": 0,
             "ticks": ""
            },
            "colorscale": [
             [
              0,
              "#0d0887"
             ],
             [
              0.1111111111111111,
              "#46039f"
             ],
             [
              0.2222222222222222,
              "#7201a8"
             ],
             [
              0.3333333333333333,
              "#9c179e"
             ],
             [
              0.4444444444444444,
              "#bd3786"
             ],
             [
              0.5555555555555556,
              "#d8576b"
             ],
             [
              0.6666666666666666,
              "#ed7953"
             ],
             [
              0.7777777777777778,
              "#fb9f3a"
             ],
             [
              0.8888888888888888,
              "#fdca26"
             ],
             [
              1,
              "#f0f921"
             ]
            ],
            "type": "histogram2d"
           }
          ],
          "histogram2dcontour": [
           {
            "colorbar": {
             "outlinewidth": 0,
             "ticks": ""
            },
            "colorscale": [
             [
              0,
              "#0d0887"
             ],
             [
              0.1111111111111111,
              "#46039f"
             ],
             [
              0.2222222222222222,
              "#7201a8"
             ],
             [
              0.3333333333333333,
              "#9c179e"
             ],
             [
              0.4444444444444444,
              "#bd3786"
             ],
             [
              0.5555555555555556,
              "#d8576b"
             ],
             [
              0.6666666666666666,
              "#ed7953"
             ],
             [
              0.7777777777777778,
              "#fb9f3a"
             ],
             [
              0.8888888888888888,
              "#fdca26"
             ],
             [
              1,
              "#f0f921"
             ]
            ],
            "type": "histogram2dcontour"
           }
          ],
          "mesh3d": [
           {
            "colorbar": {
             "outlinewidth": 0,
             "ticks": ""
            },
            "type": "mesh3d"
           }
          ],
          "parcoords": [
           {
            "line": {
             "colorbar": {
              "outlinewidth": 0,
              "ticks": ""
             }
            },
            "type": "parcoords"
           }
          ],
          "pie": [
           {
            "automargin": true,
            "type": "pie"
           }
          ],
          "scatter": [
           {
            "fillpattern": {
             "fillmode": "overlay",
             "size": 10,
             "solidity": 0.2
            },
            "type": "scatter"
           }
          ],
          "scatter3d": [
           {
            "line": {
             "colorbar": {
              "outlinewidth": 0,
              "ticks": ""
             }
            },
            "marker": {
             "colorbar": {
              "outlinewidth": 0,
              "ticks": ""
             }
            },
            "type": "scatter3d"
           }
          ],
          "scattercarpet": [
           {
            "marker": {
             "colorbar": {
              "outlinewidth": 0,
              "ticks": ""
             }
            },
            "type": "scattercarpet"
           }
          ],
          "scattergeo": [
           {
            "marker": {
             "colorbar": {
              "outlinewidth": 0,
              "ticks": ""
             }
            },
            "type": "scattergeo"
           }
          ],
          "scattergl": [
           {
            "marker": {
             "colorbar": {
              "outlinewidth": 0,
              "ticks": ""
             }
            },
            "type": "scattergl"
           }
          ],
          "scattermap": [
           {
            "marker": {
             "colorbar": {
              "outlinewidth": 0,
              "ticks": ""
             }
            },
            "type": "scattermap"
           }
          ],
          "scattermapbox": [
           {
            "marker": {
             "colorbar": {
              "outlinewidth": 0,
              "ticks": ""
             }
            },
            "type": "scattermapbox"
           }
          ],
          "scatterpolar": [
           {
            "marker": {
             "colorbar": {
              "outlinewidth": 0,
              "ticks": ""
             }
            },
            "type": "scatterpolar"
           }
          ],
          "scatterpolargl": [
           {
            "marker": {
             "colorbar": {
              "outlinewidth": 0,
              "ticks": ""
             }
            },
            "type": "scatterpolargl"
           }
          ],
          "scatterternary": [
           {
            "marker": {
             "colorbar": {
              "outlinewidth": 0,
              "ticks": ""
             }
            },
            "type": "scatterternary"
           }
          ],
          "surface": [
           {
            "colorbar": {
             "outlinewidth": 0,
             "ticks": ""
            },
            "colorscale": [
             [
              0,
              "#0d0887"
             ],
             [
              0.1111111111111111,
              "#46039f"
             ],
             [
              0.2222222222222222,
              "#7201a8"
             ],
             [
              0.3333333333333333,
              "#9c179e"
             ],
             [
              0.4444444444444444,
              "#bd3786"
             ],
             [
              0.5555555555555556,
              "#d8576b"
             ],
             [
              0.6666666666666666,
              "#ed7953"
             ],
             [
              0.7777777777777778,
              "#fb9f3a"
             ],
             [
              0.8888888888888888,
              "#fdca26"
             ],
             [
              1,
              "#f0f921"
             ]
            ],
            "type": "surface"
           }
          ],
          "table": [
           {
            "cells": {
             "fill": {
              "color": "#EBF0F8"
             },
             "line": {
              "color": "white"
             }
            },
            "header": {
             "fill": {
              "color": "#C8D4E3"
             },
             "line": {
              "color": "white"
             }
            },
            "type": "table"
           }
          ]
         },
         "layout": {
          "annotationdefaults": {
           "arrowcolor": "#2a3f5f",
           "arrowhead": 0,
           "arrowwidth": 1
          },
          "autotypenumbers": "strict",
          "coloraxis": {
           "colorbar": {
            "outlinewidth": 0,
            "ticks": ""
           }
          },
          "colorscale": {
           "diverging": [
            [
             0,
             "#8e0152"
            ],
            [
             0.1,
             "#c51b7d"
            ],
            [
             0.2,
             "#de77ae"
            ],
            [
             0.3,
             "#f1b6da"
            ],
            [
             0.4,
             "#fde0ef"
            ],
            [
             0.5,
             "#f7f7f7"
            ],
            [
             0.6,
             "#e6f5d0"
            ],
            [
             0.7,
             "#b8e186"
            ],
            [
             0.8,
             "#7fbc41"
            ],
            [
             0.9,
             "#4d9221"
            ],
            [
             1,
             "#276419"
            ]
           ],
           "sequential": [
            [
             0,
             "#0d0887"
            ],
            [
             0.1111111111111111,
             "#46039f"
            ],
            [
             0.2222222222222222,
             "#7201a8"
            ],
            [
             0.3333333333333333,
             "#9c179e"
            ],
            [
             0.4444444444444444,
             "#bd3786"
            ],
            [
             0.5555555555555556,
             "#d8576b"
            ],
            [
             0.6666666666666666,
             "#ed7953"
            ],
            [
             0.7777777777777778,
             "#fb9f3a"
            ],
            [
             0.8888888888888888,
             "#fdca26"
            ],
            [
             1,
             "#f0f921"
            ]
           ],
           "sequentialminus": [
            [
             0,
             "#0d0887"
            ],
            [
             0.1111111111111111,
             "#46039f"
            ],
            [
             0.2222222222222222,
             "#7201a8"
            ],
            [
             0.3333333333333333,
             "#9c179e"
            ],
            [
             0.4444444444444444,
             "#bd3786"
            ],
            [
             0.5555555555555556,
             "#d8576b"
            ],
            [
             0.6666666666666666,
             "#ed7953"
            ],
            [
             0.7777777777777778,
             "#fb9f3a"
            ],
            [
             0.8888888888888888,
             "#fdca26"
            ],
            [
             1,
             "#f0f921"
            ]
           ]
          },
          "colorway": [
           "#636efa",
           "#EF553B",
           "#00cc96",
           "#ab63fa",
           "#FFA15A",
           "#19d3f3",
           "#FF6692",
           "#B6E880",
           "#FF97FF",
           "#FECB52"
          ],
          "font": {
           "color": "#2a3f5f"
          },
          "geo": {
           "bgcolor": "white",
           "lakecolor": "white",
           "landcolor": "#E5ECF6",
           "showlakes": true,
           "showland": true,
           "subunitcolor": "white"
          },
          "hoverlabel": {
           "align": "left"
          },
          "hovermode": "closest",
          "mapbox": {
           "style": "light"
          },
          "paper_bgcolor": "white",
          "plot_bgcolor": "#E5ECF6",
          "polar": {
           "angularaxis": {
            "gridcolor": "white",
            "linecolor": "white",
            "ticks": ""
           },
           "bgcolor": "#E5ECF6",
           "radialaxis": {
            "gridcolor": "white",
            "linecolor": "white",
            "ticks": ""
           }
          },
          "scene": {
           "xaxis": {
            "backgroundcolor": "#E5ECF6",
            "gridcolor": "white",
            "gridwidth": 2,
            "linecolor": "white",
            "showbackground": true,
            "ticks": "",
            "zerolinecolor": "white"
           },
           "yaxis": {
            "backgroundcolor": "#E5ECF6",
            "gridcolor": "white",
            "gridwidth": 2,
            "linecolor": "white",
            "showbackground": true,
            "ticks": "",
            "zerolinecolor": "white"
           },
           "zaxis": {
            "backgroundcolor": "#E5ECF6",
            "gridcolor": "white",
            "gridwidth": 2,
            "linecolor": "white",
            "showbackground": true,
            "ticks": "",
            "zerolinecolor": "white"
           }
          },
          "shapedefaults": {
           "line": {
            "color": "#2a3f5f"
           }
          },
          "ternary": {
           "aaxis": {
            "gridcolor": "white",
            "linecolor": "white",
            "ticks": ""
           },
           "baxis": {
            "gridcolor": "white",
            "linecolor": "white",
            "ticks": ""
           },
           "bgcolor": "#E5ECF6",
           "caxis": {
            "gridcolor": "white",
            "linecolor": "white",
            "ticks": ""
           }
          },
          "title": {
           "x": 0.05
          },
          "xaxis": {
           "automargin": true,
           "gridcolor": "white",
           "linecolor": "white",
           "ticks": "",
           "title": {
            "standoff": 15
           },
           "zerolinecolor": "white",
           "zerolinewidth": 2
          },
          "yaxis": {
           "automargin": true,
           "gridcolor": "white",
           "linecolor": "white",
           "ticks": "",
           "title": {
            "standoff": 15
           },
           "zerolinecolor": "white",
           "zerolinewidth": 2
          }
         }
        },
        "title": {
         "text": "Experiment \"Color Only\""
        },
        "xaxis": {
         "anchor": "y",
         "domain": [
          0,
          0.31999999999999995
         ],
         "title": {
          "text": "Probability"
         }
        },
        "xaxis2": {
         "anchor": "y2",
         "domain": [
          0.33999999999999997,
          0.6599999999999999
         ],
         "matches": "x",
         "title": {
          "text": "Probability"
         }
        },
        "xaxis3": {
         "anchor": "y3",
         "domain": [
          0.6799999999999999,
          0.9999999999999999
         ],
         "matches": "x",
         "title": {
          "text": "Probability"
         }
        },
        "yaxis": {
         "anchor": "x",
         "categoryarray": [
          "the text's font color is red and the text's meaning is red",
          "the text's font color is blue and the text's meaning is blue",
          "the text's font color is blue and the text's meaning is red",
          "the text's font color is red and the text's meaning is blue",
          "the text's meaning is red and the text's font color is red",
          "the text's meaning is blue and the text's font color is blue",
          "the text's meaning is red and the text's font color is blue",
          "the text's meaning is blue and the text's font color is red",
          "the text's font color is red",
          "the text's font color is blue",
          "the text's meaning is red",
          "the text's meaning is blue"
         ],
         "categoryorder": "array",
         "domain": [
          0,
          1
         ],
         "title": {
          "text": "Prompt"
         }
        },
        "yaxis2": {
         "anchor": "x2",
         "domain": [
          0,
          1
         ],
         "matches": "y",
         "showticklabels": false
        },
        "yaxis3": {
         "anchor": "x3",
         "domain": [
          0,
          1
         ],
         "matches": "y",
         "showticklabels": false
        }
       }
      }
     },
     "metadata": {},
     "output_type": "display_data"
    },
    {
     "data": {
      "application/vnd.plotly.v1+json": {
       "config": {
        "plotlyServerURL": "https://plot.ly"
       },
       "data": [
        {
         "alignmentgroup": "True",
         "customdata": [
          [
           "BLUE",
           "red",
           "combined",
           "incongruent"
          ],
          [
           "BLUE",
           "red",
           "combined",
           "incongruent"
          ],
          [
           "BLUE",
           "red",
           "combined",
           "incongruent"
          ],
          [
           "BLUE",
           "red",
           "combined",
           "incongruent"
          ]
         ],
         "hovertemplate": "color=%{customdata[1]}<br>word=%{customdata[0]}<br>Probability=%{x}<br>Prompt=%{y}<br>Experiment Condition=%{customdata[2]}<br>condition=%{customdata[3]}<extra></extra>",
         "legendgroup": "red",
         "marker": {
          "color": "red",
          "pattern": {
           "shape": ""
          }
         },
         "name": "red",
         "offsetgroup": "red",
         "orientation": "h",
         "showlegend": true,
         "text": [
          "BLUE",
          "BLUE",
          "BLUE",
          "BLUE"
         ],
         "textposition": "auto",
         "type": "bar",
         "x": {
          "bdata": "AAAAgFZr2j////9fQc3YP////597J8Y/8f///6E6mz8=",
          "dtype": "f8"
         },
         "xaxis": "x",
         "y": [
          "the text's meaning is blue and the text's font color is red",
          "the text's meaning is red and the text's font color is blue",
          "the text's meaning is blue and the text's font color is blue",
          "the text's meaning is red and the text's font color is red"
         ],
         "yaxis": "y"
        },
        {
         "alignmentgroup": "True",
         "customdata": [
          [
           "RED",
           "red",
           "combined",
           "congruent"
          ],
          [
           "RED",
           "red",
           "combined",
           "congruent"
          ],
          [
           "RED",
           "red",
           "combined",
           "congruent"
          ],
          [
           "RED",
           "red",
           "combined",
           "congruent"
          ]
         ],
         "hovertemplate": "color=%{customdata[1]}<br>word=%{customdata[0]}<br>Probability=%{x}<br>Prompt=%{y}<br>Experiment Condition=%{customdata[2]}<br>condition=%{customdata[3]}<extra></extra>",
         "legendgroup": "red",
         "marker": {
          "color": "red",
          "pattern": {
           "shape": ""
          }
         },
         "name": "red",
         "offsetgroup": "red",
         "orientation": "h",
         "showlegend": false,
         "text": [
          "RED",
          "RED",
          "RED",
          "RED"
         ],
         "textposition": "auto",
         "type": "bar",
         "x": {
          "bdata": "AAAAAIzi2z8AAACgoiPSP////79YeNE/yv//fx4vgD8=",
          "dtype": "f8"
         },
         "xaxis": "x2",
         "y": [
          "the text's meaning is red and the text's font color is red",
          "the text's meaning is blue and the text's font color is red",
          "the text's meaning is red and the text's font color is blue",
          "the text's meaning is blue and the text's font color is blue"
         ],
         "yaxis": "y2"
        },
        {
         "alignmentgroup": "True",
         "customdata": [
          [
           "XXXX",
           "red",
           "combined",
           "neutral"
          ],
          [
           "XXXX",
           "red",
           "combined",
           "neutral"
          ],
          [
           "XXXX",
           "red",
           "combined",
           "neutral"
          ],
          [
           "XXXX",
           "red",
           "combined",
           "neutral"
          ]
         ],
         "hovertemplate": "color=%{customdata[1]}<br>word=%{customdata[0]}<br>Probability=%{x}<br>Prompt=%{y}<br>Experiment Condition=%{customdata[2]}<br>condition=%{customdata[3]}<extra></extra>",
         "legendgroup": "red",
         "marker": {
          "color": "red",
          "pattern": {
           "shape": ""
          }
         },
         "name": "red",
         "offsetgroup": "red",
         "orientation": "h",
         "showlegend": false,
         "text": [
          "XXXX",
          "XXXX",
          "XXXX",
          "XXXX"
         ],
         "textposition": "auto",
         "type": "bar",
         "x": {
          "bdata": "////H5rb1T8AAACAV1bUPwAAAEAMTNI/9///fxMQrD8=",
          "dtype": "f8"
         },
         "xaxis": "x3",
         "y": [
          "the text's meaning is blue and the text's font color is red",
          "the text's meaning is red and the text's font color is blue",
          "the text's meaning is red and the text's font color is red",
          "the text's meaning is blue and the text's font color is blue"
         ],
         "yaxis": "y3"
        },
        {
         "alignmentgroup": "True",
         "customdata": [
          [
           "BLUE",
           "blue",
           "combined",
           "congruent"
          ],
          [
           "BLUE",
           "blue",
           "combined",
           "congruent"
          ],
          [
           "BLUE",
           "blue",
           "combined",
           "congruent"
          ],
          [
           "BLUE",
           "blue",
           "combined",
           "congruent"
          ]
         ],
         "hovertemplate": "color=%{customdata[1]}<br>word=%{customdata[0]}<br>Probability=%{x}<br>Prompt=%{y}<br>Experiment Condition=%{customdata[2]}<br>condition=%{customdata[3]}<extra></extra>",
         "legendgroup": "blue",
         "marker": {
          "color": "blue",
          "pattern": {
           "shape": ""
          }
         },
         "name": "blue",
         "offsetgroup": "blue",
         "orientation": "h",
         "showlegend": true,
         "text": [
          "BLUE",
          "BLUE",
          "BLUE",
          "BLUE"
         ],
         "textposition": "auto",
         "type": "bar",
         "x": {
          "bdata": "AAAAIIGq3z8AAABgEH7TP/7//x9M1cg/1v//Hykyez8=",
          "dtype": "f8"
         },
         "xaxis": "x",
         "y": [
          "the text's meaning is blue and the text's font color is blue",
          "the text's meaning is blue and the text's font color is red",
          "the text's meaning is red and the text's font color is blue",
          "the text's meaning is red and the text's font color is red"
         ],
         "yaxis": "y"
        },
        {
         "alignmentgroup": "True",
         "customdata": [
          [
           "RED",
           "blue",
           "combined",
           "incongruent"
          ],
          [
           "RED",
           "blue",
           "combined",
           "incongruent"
          ],
          [
           "RED",
           "blue",
           "combined",
           "incongruent"
          ],
          [
           "RED",
           "blue",
           "combined",
           "incongruent"
          ]
         ],
         "hovertemplate": "color=%{customdata[1]}<br>word=%{customdata[0]}<br>Probability=%{x}<br>Prompt=%{y}<br>Experiment Condition=%{customdata[2]}<br>condition=%{customdata[3]}<extra></extra>",
         "legendgroup": "blue",
         "marker": {
          "color": "blue",
          "pattern": {
           "shape": ""
          }
         },
         "name": "blue",
         "offsetgroup": "blue",
         "orientation": "h",
         "showlegend": false,
         "text": [
          "RED",
          "RED",
          "RED",
          "RED"
         ],
         "textposition": "auto",
         "type": "bar",
         "x": {
          "bdata": "AAAAQB+u3T////8fcfzUPwAAAIBju8U//P//f+29oz8=",
          "dtype": "f8"
         },
         "xaxis": "x2",
         "y": [
          "the text's meaning is blue and the text's font color is red",
          "the text's meaning is red and the text's font color is blue",
          "the text's meaning is red and the text's font color is red",
          "the text's meaning is blue and the text's font color is blue"
         ],
         "yaxis": "y2"
        },
        {
         "alignmentgroup": "True",
         "customdata": [
          [
           "XXXX",
           "blue",
           "combined",
           "neutral"
          ],
          [
           "XXXX",
           "blue",
           "combined",
           "neutral"
          ],
          [
           "XXXX",
           "blue",
           "combined",
           "neutral"
          ],
          [
           "XXXX",
           "blue",
           "combined",
           "neutral"
          ]
         ],
         "hovertemplate": "color=%{customdata[1]}<br>word=%{customdata[0]}<br>Probability=%{x}<br>Prompt=%{y}<br>Experiment Condition=%{customdata[2]}<br>condition=%{customdata[3]}<extra></extra>",
         "legendgroup": "blue",
         "marker": {
          "color": "blue",
          "pattern": {
           "shape": ""
          }
         },
         "name": "blue",
         "offsetgroup": "blue",
         "orientation": "h",
         "showlegend": false,
         "text": [
          "XXXX",
          "XXXX",
          "XXXX",
          "XXXX"
         ],
         "textposition": "auto",
         "type": "bar",
         "x": {
          "bdata": "AAAAID+A3T/////fD9PVP/7//7/6EcU/+///n5sdoT8=",
          "dtype": "f8"
         },
         "xaxis": "x3",
         "y": [
          "the text's meaning is blue and the text's font color is blue",
          "the text's meaning is blue and the text's font color is red",
          "the text's meaning is red and the text's font color is blue",
          "the text's meaning is red and the text's font color is red"
         ],
         "yaxis": "y3"
        }
       ],
       "layout": {
        "annotations": [
         {
          "font": {},
          "showarrow": false,
          "text": "word=BLUE",
          "x": 0.15999999999999998,
          "xanchor": "center",
          "xref": "paper",
          "y": 1,
          "yanchor": "bottom",
          "yref": "paper"
         },
         {
          "font": {},
          "showarrow": false,
          "text": "word=RED",
          "x": 0.49999999999999994,
          "xanchor": "center",
          "xref": "paper",
          "y": 1,
          "yanchor": "bottom",
          "yref": "paper"
         },
         {
          "font": {},
          "showarrow": false,
          "text": "word=XXXX",
          "x": 0.8399999999999999,
          "xanchor": "center",
          "xref": "paper",
          "y": 1,
          "yanchor": "bottom",
          "yref": "paper"
         }
        ],
        "barmode": "group",
        "legend": {
         "title": {
          "text": "color"
         },
         "tracegroupgap": 0
        },
        "template": {
         "data": {
          "bar": [
           {
            "error_x": {
             "color": "#2a3f5f"
            },
            "error_y": {
             "color": "#2a3f5f"
            },
            "marker": {
             "line": {
              "color": "#E5ECF6",
              "width": 0.5
             },
             "pattern": {
              "fillmode": "overlay",
              "size": 10,
              "solidity": 0.2
             }
            },
            "type": "bar"
           }
          ],
          "barpolar": [
           {
            "marker": {
             "line": {
              "color": "#E5ECF6",
              "width": 0.5
             },
             "pattern": {
              "fillmode": "overlay",
              "size": 10,
              "solidity": 0.2
             }
            },
            "type": "barpolar"
           }
          ],
          "carpet": [
           {
            "aaxis": {
             "endlinecolor": "#2a3f5f",
             "gridcolor": "white",
             "linecolor": "white",
             "minorgridcolor": "white",
             "startlinecolor": "#2a3f5f"
            },
            "baxis": {
             "endlinecolor": "#2a3f5f",
             "gridcolor": "white",
             "linecolor": "white",
             "minorgridcolor": "white",
             "startlinecolor": "#2a3f5f"
            },
            "type": "carpet"
           }
          ],
          "choropleth": [
           {
            "colorbar": {
             "outlinewidth": 0,
             "ticks": ""
            },
            "type": "choropleth"
           }
          ],
          "contour": [
           {
            "colorbar": {
             "outlinewidth": 0,
             "ticks": ""
            },
            "colorscale": [
             [
              0,
              "#0d0887"
             ],
             [
              0.1111111111111111,
              "#46039f"
             ],
             [
              0.2222222222222222,
              "#7201a8"
             ],
             [
              0.3333333333333333,
              "#9c179e"
             ],
             [
              0.4444444444444444,
              "#bd3786"
             ],
             [
              0.5555555555555556,
              "#d8576b"
             ],
             [
              0.6666666666666666,
              "#ed7953"
             ],
             [
              0.7777777777777778,
              "#fb9f3a"
             ],
             [
              0.8888888888888888,
              "#fdca26"
             ],
             [
              1,
              "#f0f921"
             ]
            ],
            "type": "contour"
           }
          ],
          "contourcarpet": [
           {
            "colorbar": {
             "outlinewidth": 0,
             "ticks": ""
            },
            "type": "contourcarpet"
           }
          ],
          "heatmap": [
           {
            "colorbar": {
             "outlinewidth": 0,
             "ticks": ""
            },
            "colorscale": [
             [
              0,
              "#0d0887"
             ],
             [
              0.1111111111111111,
              "#46039f"
             ],
             [
              0.2222222222222222,
              "#7201a8"
             ],
             [
              0.3333333333333333,
              "#9c179e"
             ],
             [
              0.4444444444444444,
              "#bd3786"
             ],
             [
              0.5555555555555556,
              "#d8576b"
             ],
             [
              0.6666666666666666,
              "#ed7953"
             ],
             [
              0.7777777777777778,
              "#fb9f3a"
             ],
             [
              0.8888888888888888,
              "#fdca26"
             ],
             [
              1,
              "#f0f921"
             ]
            ],
            "type": "heatmap"
           }
          ],
          "histogram": [
           {
            "marker": {
             "pattern": {
              "fillmode": "overlay",
              "size": 10,
              "solidity": 0.2
             }
            },
            "type": "histogram"
           }
          ],
          "histogram2d": [
           {
            "colorbar": {
             "outlinewidth": 0,
             "ticks": ""
            },
            "colorscale": [
             [
              0,
              "#0d0887"
             ],
             [
              0.1111111111111111,
              "#46039f"
             ],
             [
              0.2222222222222222,
              "#7201a8"
             ],
             [
              0.3333333333333333,
              "#9c179e"
             ],
             [
              0.4444444444444444,
              "#bd3786"
             ],
             [
              0.5555555555555556,
              "#d8576b"
             ],
             [
              0.6666666666666666,
              "#ed7953"
             ],
             [
              0.7777777777777778,
              "#fb9f3a"
             ],
             [
              0.8888888888888888,
              "#fdca26"
             ],
             [
              1,
              "#f0f921"
             ]
            ],
            "type": "histogram2d"
           }
          ],
          "histogram2dcontour": [
           {
            "colorbar": {
             "outlinewidth": 0,
             "ticks": ""
            },
            "colorscale": [
             [
              0,
              "#0d0887"
             ],
             [
              0.1111111111111111,
              "#46039f"
             ],
             [
              0.2222222222222222,
              "#7201a8"
             ],
             [
              0.3333333333333333,
              "#9c179e"
             ],
             [
              0.4444444444444444,
              "#bd3786"
             ],
             [
              0.5555555555555556,
              "#d8576b"
             ],
             [
              0.6666666666666666,
              "#ed7953"
             ],
             [
              0.7777777777777778,
              "#fb9f3a"
             ],
             [
              0.8888888888888888,
              "#fdca26"
             ],
             [
              1,
              "#f0f921"
             ]
            ],
            "type": "histogram2dcontour"
           }
          ],
          "mesh3d": [
           {
            "colorbar": {
             "outlinewidth": 0,
             "ticks": ""
            },
            "type": "mesh3d"
           }
          ],
          "parcoords": [
           {
            "line": {
             "colorbar": {
              "outlinewidth": 0,
              "ticks": ""
             }
            },
            "type": "parcoords"
           }
          ],
          "pie": [
           {
            "automargin": true,
            "type": "pie"
           }
          ],
          "scatter": [
           {
            "fillpattern": {
             "fillmode": "overlay",
             "size": 10,
             "solidity": 0.2
            },
            "type": "scatter"
           }
          ],
          "scatter3d": [
           {
            "line": {
             "colorbar": {
              "outlinewidth": 0,
              "ticks": ""
             }
            },
            "marker": {
             "colorbar": {
              "outlinewidth": 0,
              "ticks": ""
             }
            },
            "type": "scatter3d"
           }
          ],
          "scattercarpet": [
           {
            "marker": {
             "colorbar": {
              "outlinewidth": 0,
              "ticks": ""
             }
            },
            "type": "scattercarpet"
           }
          ],
          "scattergeo": [
           {
            "marker": {
             "colorbar": {
              "outlinewidth": 0,
              "ticks": ""
             }
            },
            "type": "scattergeo"
           }
          ],
          "scattergl": [
           {
            "marker": {
             "colorbar": {
              "outlinewidth": 0,
              "ticks": ""
             }
            },
            "type": "scattergl"
           }
          ],
          "scattermap": [
           {
            "marker": {
             "colorbar": {
              "outlinewidth": 0,
              "ticks": ""
             }
            },
            "type": "scattermap"
           }
          ],
          "scattermapbox": [
           {
            "marker": {
             "colorbar": {
              "outlinewidth": 0,
              "ticks": ""
             }
            },
            "type": "scattermapbox"
           }
          ],
          "scatterpolar": [
           {
            "marker": {
             "colorbar": {
              "outlinewidth": 0,
              "ticks": ""
             }
            },
            "type": "scatterpolar"
           }
          ],
          "scatterpolargl": [
           {
            "marker": {
             "colorbar": {
              "outlinewidth": 0,
              "ticks": ""
             }
            },
            "type": "scatterpolargl"
           }
          ],
          "scatterternary": [
           {
            "marker": {
             "colorbar": {
              "outlinewidth": 0,
              "ticks": ""
             }
            },
            "type": "scatterternary"
           }
          ],
          "surface": [
           {
            "colorbar": {
             "outlinewidth": 0,
             "ticks": ""
            },
            "colorscale": [
             [
              0,
              "#0d0887"
             ],
             [
              0.1111111111111111,
              "#46039f"
             ],
             [
              0.2222222222222222,
              "#7201a8"
             ],
             [
              0.3333333333333333,
              "#9c179e"
             ],
             [
              0.4444444444444444,
              "#bd3786"
             ],
             [
              0.5555555555555556,
              "#d8576b"
             ],
             [
              0.6666666666666666,
              "#ed7953"
             ],
             [
              0.7777777777777778,
              "#fb9f3a"
             ],
             [
              0.8888888888888888,
              "#fdca26"
             ],
             [
              1,
              "#f0f921"
             ]
            ],
            "type": "surface"
           }
          ],
          "table": [
           {
            "cells": {
             "fill": {
              "color": "#EBF0F8"
             },
             "line": {
              "color": "white"
             }
            },
            "header": {
             "fill": {
              "color": "#C8D4E3"
             },
             "line": {
              "color": "white"
             }
            },
            "type": "table"
           }
          ]
         },
         "layout": {
          "annotationdefaults": {
           "arrowcolor": "#2a3f5f",
           "arrowhead": 0,
           "arrowwidth": 1
          },
          "autotypenumbers": "strict",
          "coloraxis": {
           "colorbar": {
            "outlinewidth": 0,
            "ticks": ""
           }
          },
          "colorscale": {
           "diverging": [
            [
             0,
             "#8e0152"
            ],
            [
             0.1,
             "#c51b7d"
            ],
            [
             0.2,
             "#de77ae"
            ],
            [
             0.3,
             "#f1b6da"
            ],
            [
             0.4,
             "#fde0ef"
            ],
            [
             0.5,
             "#f7f7f7"
            ],
            [
             0.6,
             "#e6f5d0"
            ],
            [
             0.7,
             "#b8e186"
            ],
            [
             0.8,
             "#7fbc41"
            ],
            [
             0.9,
             "#4d9221"
            ],
            [
             1,
             "#276419"
            ]
           ],
           "sequential": [
            [
             0,
             "#0d0887"
            ],
            [
             0.1111111111111111,
             "#46039f"
            ],
            [
             0.2222222222222222,
             "#7201a8"
            ],
            [
             0.3333333333333333,
             "#9c179e"
            ],
            [
             0.4444444444444444,
             "#bd3786"
            ],
            [
             0.5555555555555556,
             "#d8576b"
            ],
            [
             0.6666666666666666,
             "#ed7953"
            ],
            [
             0.7777777777777778,
             "#fb9f3a"
            ],
            [
             0.8888888888888888,
             "#fdca26"
            ],
            [
             1,
             "#f0f921"
            ]
           ],
           "sequentialminus": [
            [
             0,
             "#0d0887"
            ],
            [
             0.1111111111111111,
             "#46039f"
            ],
            [
             0.2222222222222222,
             "#7201a8"
            ],
            [
             0.3333333333333333,
             "#9c179e"
            ],
            [
             0.4444444444444444,
             "#bd3786"
            ],
            [
             0.5555555555555556,
             "#d8576b"
            ],
            [
             0.6666666666666666,
             "#ed7953"
            ],
            [
             0.7777777777777778,
             "#fb9f3a"
            ],
            [
             0.8888888888888888,
             "#fdca26"
            ],
            [
             1,
             "#f0f921"
            ]
           ]
          },
          "colorway": [
           "#636efa",
           "#EF553B",
           "#00cc96",
           "#ab63fa",
           "#FFA15A",
           "#19d3f3",
           "#FF6692",
           "#B6E880",
           "#FF97FF",
           "#FECB52"
          ],
          "font": {
           "color": "#2a3f5f"
          },
          "geo": {
           "bgcolor": "white",
           "lakecolor": "white",
           "landcolor": "#E5ECF6",
           "showlakes": true,
           "showland": true,
           "subunitcolor": "white"
          },
          "hoverlabel": {
           "align": "left"
          },
          "hovermode": "closest",
          "mapbox": {
           "style": "light"
          },
          "paper_bgcolor": "white",
          "plot_bgcolor": "#E5ECF6",
          "polar": {
           "angularaxis": {
            "gridcolor": "white",
            "linecolor": "white",
            "ticks": ""
           },
           "bgcolor": "#E5ECF6",
           "radialaxis": {
            "gridcolor": "white",
            "linecolor": "white",
            "ticks": ""
           }
          },
          "scene": {
           "xaxis": {
            "backgroundcolor": "#E5ECF6",
            "gridcolor": "white",
            "gridwidth": 2,
            "linecolor": "white",
            "showbackground": true,
            "ticks": "",
            "zerolinecolor": "white"
           },
           "yaxis": {
            "backgroundcolor": "#E5ECF6",
            "gridcolor": "white",
            "gridwidth": 2,
            "linecolor": "white",
            "showbackground": true,
            "ticks": "",
            "zerolinecolor": "white"
           },
           "zaxis": {
            "backgroundcolor": "#E5ECF6",
            "gridcolor": "white",
            "gridwidth": 2,
            "linecolor": "white",
            "showbackground": true,
            "ticks": "",
            "zerolinecolor": "white"
           }
          },
          "shapedefaults": {
           "line": {
            "color": "#2a3f5f"
           }
          },
          "ternary": {
           "aaxis": {
            "gridcolor": "white",
            "linecolor": "white",
            "ticks": ""
           },
           "baxis": {
            "gridcolor": "white",
            "linecolor": "white",
            "ticks": ""
           },
           "bgcolor": "#E5ECF6",
           "caxis": {
            "gridcolor": "white",
            "linecolor": "white",
            "ticks": ""
           }
          },
          "title": {
           "x": 0.05
          },
          "xaxis": {
           "automargin": true,
           "gridcolor": "white",
           "linecolor": "white",
           "ticks": "",
           "title": {
            "standoff": 15
           },
           "zerolinecolor": "white",
           "zerolinewidth": 2
          },
          "yaxis": {
           "automargin": true,
           "gridcolor": "white",
           "linecolor": "white",
           "ticks": "",
           "title": {
            "standoff": 15
           },
           "zerolinecolor": "white",
           "zerolinewidth": 2
          }
         }
        },
        "title": {
         "text": "Experiment \"Combined\""
        },
        "xaxis": {
         "anchor": "y",
         "domain": [
          0,
          0.31999999999999995
         ],
         "title": {
          "text": "Probability"
         }
        },
        "xaxis2": {
         "anchor": "y2",
         "domain": [
          0.33999999999999997,
          0.6599999999999999
         ],
         "matches": "x",
         "title": {
          "text": "Probability"
         }
        },
        "xaxis3": {
         "anchor": "y3",
         "domain": [
          0.6799999999999999,
          0.9999999999999999
         ],
         "matches": "x",
         "title": {
          "text": "Probability"
         }
        },
        "yaxis": {
         "anchor": "x",
         "categoryarray": [
          "the text's font color is red and the text's meaning is red",
          "the text's font color is blue and the text's meaning is blue",
          "the text's font color is blue and the text's meaning is red",
          "the text's font color is red and the text's meaning is blue",
          "the text's meaning is red and the text's font color is red",
          "the text's meaning is blue and the text's font color is blue",
          "the text's meaning is red and the text's font color is blue",
          "the text's meaning is blue and the text's font color is red",
          "the text's font color is red",
          "the text's font color is blue",
          "the text's meaning is red",
          "the text's meaning is blue"
         ],
         "categoryorder": "array",
         "domain": [
          0,
          1
         ],
         "title": {
          "text": "Prompt"
         }
        },
        "yaxis2": {
         "anchor": "x2",
         "domain": [
          0,
          1
         ],
         "matches": "y",
         "showticklabels": false
        },
        "yaxis3": {
         "anchor": "x3",
         "domain": [
          0,
          1
         ],
         "matches": "y",
         "showticklabels": false
        }
       }
      }
     },
     "metadata": {},
     "output_type": "display_data"
    },
    {
     "data": {
      "application/vnd.plotly.v1+json": {
       "config": {
        "plotlyServerURL": "https://plot.ly"
       },
       "data": [
        {
         "alignmentgroup": "True",
         "customdata": [
          [
           "BLUE",
           "red",
           "combined_color_first",
           "incongruent"
          ],
          [
           "BLUE",
           "red",
           "combined_color_first",
           "incongruent"
          ],
          [
           "BLUE",
           "red",
           "combined_color_first",
           "incongruent"
          ],
          [
           "BLUE",
           "red",
           "combined_color_first",
           "incongruent"
          ]
         ],
         "hovertemplate": "color=%{customdata[1]}<br>word=%{customdata[0]}<br>Probability=%{x}<br>Prompt=%{y}<br>Experiment Condition=%{customdata[2]}<br>condition=%{customdata[3]}<extra></extra>",
         "legendgroup": "red",
         "marker": {
          "color": "red",
          "pattern": {
           "shape": ""
          }
         },
         "name": "red",
         "offsetgroup": "red",
         "orientation": "h",
         "showlegend": true,
         "text": [
          "BLUE",
          "BLUE",
          "BLUE",
          "BLUE"
         ],
         "textposition": "auto",
         "type": "bar",
         "x": {
          "bdata": "////vxQB2T8AAACgIzXYP////78Xtsg//////951oz8=",
          "dtype": "f8"
         },
         "xaxis": "x",
         "y": [
          "the text's font color is red and the text's meaning is blue",
          "the text's font color is blue and the text's meaning is red",
          "the text's font color is blue and the text's meaning is blue",
          "the text's font color is red and the text's meaning is red"
         ],
         "yaxis": "y"
        },
        {
         "alignmentgroup": "True",
         "customdata": [
          [
           "RED",
           "red",
           "combined_color_first",
           "congruent"
          ],
          [
           "RED",
           "red",
           "combined_color_first",
           "congruent"
          ],
          [
           "RED",
           "red",
           "combined_color_first",
           "congruent"
          ],
          [
           "RED",
           "red",
           "combined_color_first",
           "congruent"
          ]
         ],
         "hovertemplate": "color=%{customdata[1]}<br>word=%{customdata[0]}<br>Probability=%{x}<br>Prompt=%{y}<br>Experiment Condition=%{customdata[2]}<br>condition=%{customdata[3]}<extra></extra>",
         "legendgroup": "red",
         "marker": {
          "color": "red",
          "pattern": {
           "shape": ""
          }
         },
         "name": "red",
         "offsetgroup": "red",
         "orientation": "h",
         "showlegend": false,
         "text": [
          "RED",
          "RED",
          "RED",
          "RED"
         ],
         "textposition": "auto",
         "type": "bar",
         "x": {
          "bdata": "AAAAALYf2z8AAACAj3nVP////19zgs0/yv//nxqwhD8=",
          "dtype": "f8"
         },
         "xaxis": "x2",
         "y": [
          "the text's font color is red and the text's meaning is red",
          "the text's font color is blue and the text's meaning is red",
          "the text's font color is red and the text's meaning is blue",
          "the text's font color is blue and the text's meaning is blue"
         ],
         "yaxis": "y2"
        },
        {
         "alignmentgroup": "True",
         "customdata": [
          [
           "XXXX",
           "red",
           "combined_color_first",
           "neutral"
          ],
          [
           "XXXX",
           "red",
           "combined_color_first",
           "neutral"
          ],
          [
           "XXXX",
           "red",
           "combined_color_first",
           "neutral"
          ],
          [
           "XXXX",
           "red",
           "combined_color_first",
           "neutral"
          ]
         ],
         "hovertemplate": "color=%{customdata[1]}<br>word=%{customdata[0]}<br>Probability=%{x}<br>Prompt=%{y}<br>Experiment Condition=%{customdata[2]}<br>condition=%{customdata[3]}<extra></extra>",
         "legendgroup": "red",
         "marker": {
          "color": "red",
          "pattern": {
           "shape": ""
          }
         },
         "name": "red",
         "offsetgroup": "red",
         "orientation": "h",
         "showlegend": false,
         "text": [
          "XXXX",
          "XXXX",
          "XXXX",
          "XXXX"
         ],
         "textposition": "auto",
         "type": "bar",
         "x": {
          "bdata": "AAAAADkQ2D8AAACAWCDTPwAAAIAUxNA//////2gtsD8=",
          "dtype": "f8"
         },
         "xaxis": "x3",
         "y": [
          "the text's font color is blue and the text's meaning is red",
          "the text's font color is red and the text's meaning is red",
          "the text's font color is red and the text's meaning is blue",
          "the text's font color is blue and the text's meaning is blue"
         ],
         "yaxis": "y3"
        },
        {
         "alignmentgroup": "True",
         "customdata": [
          [
           "BLUE",
           "blue",
           "combined_color_first",
           "congruent"
          ],
          [
           "BLUE",
           "blue",
           "combined_color_first",
           "congruent"
          ],
          [
           "BLUE",
           "blue",
           "combined_color_first",
           "congruent"
          ],
          [
           "BLUE",
           "blue",
           "combined_color_first",
           "congruent"
          ]
         ],
         "hovertemplate": "color=%{customdata[1]}<br>word=%{customdata[0]}<br>Probability=%{x}<br>Prompt=%{y}<br>Experiment Condition=%{customdata[2]}<br>condition=%{customdata[3]}<extra></extra>",
         "legendgroup": "blue",
         "marker": {
          "color": "blue",
          "pattern": {
           "shape": ""
          }
         },
         "name": "blue",
         "offsetgroup": "blue",
         "orientation": "h",
         "showlegend": true,
         "text": [
          "BLUE",
          "BLUE",
          "BLUE",
          "BLUE"
         ],
         "textposition": "auto",
         "type": "bar",
         "x": {
          "bdata": "AAAAgAVg4D////+fza3RP////3/Qr8k/6v//P+NHhz8=",
          "dtype": "f8"
         },
         "xaxis": "x",
         "y": [
          "the text's font color is blue and the text's meaning is blue",
          "the text's font color is red and the text's meaning is blue",
          "the text's font color is blue and the text's meaning is red",
          "the text's font color is red and the text's meaning is red"
         ],
         "yaxis": "y"
        },
        {
         "alignmentgroup": "True",
         "customdata": [
          [
           "RED",
           "blue",
           "combined_color_first",
           "incongruent"
          ],
          [
           "RED",
           "blue",
           "combined_color_first",
           "incongruent"
          ],
          [
           "RED",
           "blue",
           "combined_color_first",
           "incongruent"
          ],
          [
           "RED",
           "blue",
           "combined_color_first",
           "incongruent"
          ]
         ],
         "hovertemplate": "color=%{customdata[1]}<br>word=%{customdata[0]}<br>Probability=%{x}<br>Prompt=%{y}<br>Experiment Condition=%{customdata[2]}<br>condition=%{customdata[3]}<extra></extra>",
         "legendgroup": "blue",
         "marker": {
          "color": "blue",
          "pattern": {
           "shape": ""
          }
         },
         "name": "blue",
         "offsetgroup": "blue",
         "orientation": "h",
         "showlegend": false,
         "text": [
          "RED",
          "RED",
          "RED",
          "RED"
         ],
         "textposition": "auto",
         "type": "bar",
         "x": {
          "bdata": "////f/wo2z8AAADg+VLWP/3////r2Mc/+P//H568pD8=",
          "dtype": "f8"
         },
         "xaxis": "x2",
         "y": [
          "the text's font color is blue and the text's meaning is red",
          "the text's font color is red and the text's meaning is blue",
          "the text's font color is red and the text's meaning is red",
          "the text's font color is blue and the text's meaning is blue"
         ],
         "yaxis": "y2"
        },
        {
         "alignmentgroup": "True",
         "customdata": [
          [
           "XXXX",
           "blue",
           "combined_color_first",
           "neutral"
          ],
          [
           "XXXX",
           "blue",
           "combined_color_first",
           "neutral"
          ],
          [
           "XXXX",
           "blue",
           "combined_color_first",
           "neutral"
          ],
          [
           "XXXX",
           "blue",
           "combined_color_first",
           "neutral"
          ]
         ],
         "hovertemplate": "color=%{customdata[1]}<br>word=%{customdata[0]}<br>Probability=%{x}<br>Prompt=%{y}<br>Experiment Condition=%{customdata[2]}<br>condition=%{customdata[3]}<extra></extra>",
         "legendgroup": "blue",
         "marker": {
          "color": "blue",
          "pattern": {
           "shape": ""
          }
         },
         "name": "blue",
         "offsetgroup": "blue",
         "orientation": "h",
         "showlegend": false,
         "text": [
          "XXXX",
          "XXXX",
          "XXXX",
          "XXXX"
         ],
         "textposition": "auto",
         "type": "bar",
         "x": {
          "bdata": "AAAA4Me03D8AAAAAyzXQP////58Lls8/+v//vzlTqj8=",
          "dtype": "f8"
         },
         "xaxis": "x3",
         "y": [
          "the text's font color is blue and the text's meaning is blue",
          "the text's font color is red and the text's meaning is blue",
          "the text's font color is blue and the text's meaning is red",
          "the text's font color is red and the text's meaning is red"
         ],
         "yaxis": "y3"
        }
       ],
       "layout": {
        "annotations": [
         {
          "font": {},
          "showarrow": false,
          "text": "word=BLUE",
          "x": 0.15999999999999998,
          "xanchor": "center",
          "xref": "paper",
          "y": 1,
          "yanchor": "bottom",
          "yref": "paper"
         },
         {
          "font": {},
          "showarrow": false,
          "text": "word=RED",
          "x": 0.49999999999999994,
          "xanchor": "center",
          "xref": "paper",
          "y": 1,
          "yanchor": "bottom",
          "yref": "paper"
         },
         {
          "font": {},
          "showarrow": false,
          "text": "word=XXXX",
          "x": 0.8399999999999999,
          "xanchor": "center",
          "xref": "paper",
          "y": 1,
          "yanchor": "bottom",
          "yref": "paper"
         }
        ],
        "barmode": "group",
        "legend": {
         "title": {
          "text": "color"
         },
         "tracegroupgap": 0
        },
        "template": {
         "data": {
          "bar": [
           {
            "error_x": {
             "color": "#2a3f5f"
            },
            "error_y": {
             "color": "#2a3f5f"
            },
            "marker": {
             "line": {
              "color": "#E5ECF6",
              "width": 0.5
             },
             "pattern": {
              "fillmode": "overlay",
              "size": 10,
              "solidity": 0.2
             }
            },
            "type": "bar"
           }
          ],
          "barpolar": [
           {
            "marker": {
             "line": {
              "color": "#E5ECF6",
              "width": 0.5
             },
             "pattern": {
              "fillmode": "overlay",
              "size": 10,
              "solidity": 0.2
             }
            },
            "type": "barpolar"
           }
          ],
          "carpet": [
           {
            "aaxis": {
             "endlinecolor": "#2a3f5f",
             "gridcolor": "white",
             "linecolor": "white",
             "minorgridcolor": "white",
             "startlinecolor": "#2a3f5f"
            },
            "baxis": {
             "endlinecolor": "#2a3f5f",
             "gridcolor": "white",
             "linecolor": "white",
             "minorgridcolor": "white",
             "startlinecolor": "#2a3f5f"
            },
            "type": "carpet"
           }
          ],
          "choropleth": [
           {
            "colorbar": {
             "outlinewidth": 0,
             "ticks": ""
            },
            "type": "choropleth"
           }
          ],
          "contour": [
           {
            "colorbar": {
             "outlinewidth": 0,
             "ticks": ""
            },
            "colorscale": [
             [
              0,
              "#0d0887"
             ],
             [
              0.1111111111111111,
              "#46039f"
             ],
             [
              0.2222222222222222,
              "#7201a8"
             ],
             [
              0.3333333333333333,
              "#9c179e"
             ],
             [
              0.4444444444444444,
              "#bd3786"
             ],
             [
              0.5555555555555556,
              "#d8576b"
             ],
             [
              0.6666666666666666,
              "#ed7953"
             ],
             [
              0.7777777777777778,
              "#fb9f3a"
             ],
             [
              0.8888888888888888,
              "#fdca26"
             ],
             [
              1,
              "#f0f921"
             ]
            ],
            "type": "contour"
           }
          ],
          "contourcarpet": [
           {
            "colorbar": {
             "outlinewidth": 0,
             "ticks": ""
            },
            "type": "contourcarpet"
           }
          ],
          "heatmap": [
           {
            "colorbar": {
             "outlinewidth": 0,
             "ticks": ""
            },
            "colorscale": [
             [
              0,
              "#0d0887"
             ],
             [
              0.1111111111111111,
              "#46039f"
             ],
             [
              0.2222222222222222,
              "#7201a8"
             ],
             [
              0.3333333333333333,
              "#9c179e"
             ],
             [
              0.4444444444444444,
              "#bd3786"
             ],
             [
              0.5555555555555556,
              "#d8576b"
             ],
             [
              0.6666666666666666,
              "#ed7953"
             ],
             [
              0.7777777777777778,
              "#fb9f3a"
             ],
             [
              0.8888888888888888,
              "#fdca26"
             ],
             [
              1,
              "#f0f921"
             ]
            ],
            "type": "heatmap"
           }
          ],
          "histogram": [
           {
            "marker": {
             "pattern": {
              "fillmode": "overlay",
              "size": 10,
              "solidity": 0.2
             }
            },
            "type": "histogram"
           }
          ],
          "histogram2d": [
           {
            "colorbar": {
             "outlinewidth": 0,
             "ticks": ""
            },
            "colorscale": [
             [
              0,
              "#0d0887"
             ],
             [
              0.1111111111111111,
              "#46039f"
             ],
             [
              0.2222222222222222,
              "#7201a8"
             ],
             [
              0.3333333333333333,
              "#9c179e"
             ],
             [
              0.4444444444444444,
              "#bd3786"
             ],
             [
              0.5555555555555556,
              "#d8576b"
             ],
             [
              0.6666666666666666,
              "#ed7953"
             ],
             [
              0.7777777777777778,
              "#fb9f3a"
             ],
             [
              0.8888888888888888,
              "#fdca26"
             ],
             [
              1,
              "#f0f921"
             ]
            ],
            "type": "histogram2d"
           }
          ],
          "histogram2dcontour": [
           {
            "colorbar": {
             "outlinewidth": 0,
             "ticks": ""
            },
            "colorscale": [
             [
              0,
              "#0d0887"
             ],
             [
              0.1111111111111111,
              "#46039f"
             ],
             [
              0.2222222222222222,
              "#7201a8"
             ],
             [
              0.3333333333333333,
              "#9c179e"
             ],
             [
              0.4444444444444444,
              "#bd3786"
             ],
             [
              0.5555555555555556,
              "#d8576b"
             ],
             [
              0.6666666666666666,
              "#ed7953"
             ],
             [
              0.7777777777777778,
              "#fb9f3a"
             ],
             [
              0.8888888888888888,
              "#fdca26"
             ],
             [
              1,
              "#f0f921"
             ]
            ],
            "type": "histogram2dcontour"
           }
          ],
          "mesh3d": [
           {
            "colorbar": {
             "outlinewidth": 0,
             "ticks": ""
            },
            "type": "mesh3d"
           }
          ],
          "parcoords": [
           {
            "line": {
             "colorbar": {
              "outlinewidth": 0,
              "ticks": ""
             }
            },
            "type": "parcoords"
           }
          ],
          "pie": [
           {
            "automargin": true,
            "type": "pie"
           }
          ],
          "scatter": [
           {
            "fillpattern": {
             "fillmode": "overlay",
             "size": 10,
             "solidity": 0.2
            },
            "type": "scatter"
           }
          ],
          "scatter3d": [
           {
            "line": {
             "colorbar": {
              "outlinewidth": 0,
              "ticks": ""
             }
            },
            "marker": {
             "colorbar": {
              "outlinewidth": 0,
              "ticks": ""
             }
            },
            "type": "scatter3d"
           }
          ],
          "scattercarpet": [
           {
            "marker": {
             "colorbar": {
              "outlinewidth": 0,
              "ticks": ""
             }
            },
            "type": "scattercarpet"
           }
          ],
          "scattergeo": [
           {
            "marker": {
             "colorbar": {
              "outlinewidth": 0,
              "ticks": ""
             }
            },
            "type": "scattergeo"
           }
          ],
          "scattergl": [
           {
            "marker": {
             "colorbar": {
              "outlinewidth": 0,
              "ticks": ""
             }
            },
            "type": "scattergl"
           }
          ],
          "scattermap": [
           {
            "marker": {
             "colorbar": {
              "outlinewidth": 0,
              "ticks": ""
             }
            },
            "type": "scattermap"
           }
          ],
          "scattermapbox": [
           {
            "marker": {
             "colorbar": {
              "outlinewidth": 0,
              "ticks": ""
             }
            },
            "type": "scattermapbox"
           }
          ],
          "scatterpolar": [
           {
            "marker": {
             "colorbar": {
              "outlinewidth": 0,
              "ticks": ""
             }
            },
            "type": "scatterpolar"
           }
          ],
          "scatterpolargl": [
           {
            "marker": {
             "colorbar": {
              "outlinewidth": 0,
              "ticks": ""
             }
            },
            "type": "scatterpolargl"
           }
          ],
          "scatterternary": [
           {
            "marker": {
             "colorbar": {
              "outlinewidth": 0,
              "ticks": ""
             }
            },
            "type": "scatterternary"
           }
          ],
          "surface": [
           {
            "colorbar": {
             "outlinewidth": 0,
             "ticks": ""
            },
            "colorscale": [
             [
              0,
              "#0d0887"
             ],
             [
              0.1111111111111111,
              "#46039f"
             ],
             [
              0.2222222222222222,
              "#7201a8"
             ],
             [
              0.3333333333333333,
              "#9c179e"
             ],
             [
              0.4444444444444444,
              "#bd3786"
             ],
             [
              0.5555555555555556,
              "#d8576b"
             ],
             [
              0.6666666666666666,
              "#ed7953"
             ],
             [
              0.7777777777777778,
              "#fb9f3a"
             ],
             [
              0.8888888888888888,
              "#fdca26"
             ],
             [
              1,
              "#f0f921"
             ]
            ],
            "type": "surface"
           }
          ],
          "table": [
           {
            "cells": {
             "fill": {
              "color": "#EBF0F8"
             },
             "line": {
              "color": "white"
             }
            },
            "header": {
             "fill": {
              "color": "#C8D4E3"
             },
             "line": {
              "color": "white"
             }
            },
            "type": "table"
           }
          ]
         },
         "layout": {
          "annotationdefaults": {
           "arrowcolor": "#2a3f5f",
           "arrowhead": 0,
           "arrowwidth": 1
          },
          "autotypenumbers": "strict",
          "coloraxis": {
           "colorbar": {
            "outlinewidth": 0,
            "ticks": ""
           }
          },
          "colorscale": {
           "diverging": [
            [
             0,
             "#8e0152"
            ],
            [
             0.1,
             "#c51b7d"
            ],
            [
             0.2,
             "#de77ae"
            ],
            [
             0.3,
             "#f1b6da"
            ],
            [
             0.4,
             "#fde0ef"
            ],
            [
             0.5,
             "#f7f7f7"
            ],
            [
             0.6,
             "#e6f5d0"
            ],
            [
             0.7,
             "#b8e186"
            ],
            [
             0.8,
             "#7fbc41"
            ],
            [
             0.9,
             "#4d9221"
            ],
            [
             1,
             "#276419"
            ]
           ],
           "sequential": [
            [
             0,
             "#0d0887"
            ],
            [
             0.1111111111111111,
             "#46039f"
            ],
            [
             0.2222222222222222,
             "#7201a8"
            ],
            [
             0.3333333333333333,
             "#9c179e"
            ],
            [
             0.4444444444444444,
             "#bd3786"
            ],
            [
             0.5555555555555556,
             "#d8576b"
            ],
            [
             0.6666666666666666,
             "#ed7953"
            ],
            [
             0.7777777777777778,
             "#fb9f3a"
            ],
            [
             0.8888888888888888,
             "#fdca26"
            ],
            [
             1,
             "#f0f921"
            ]
           ],
           "sequentialminus": [
            [
             0,
             "#0d0887"
            ],
            [
             0.1111111111111111,
             "#46039f"
            ],
            [
             0.2222222222222222,
             "#7201a8"
            ],
            [
             0.3333333333333333,
             "#9c179e"
            ],
            [
             0.4444444444444444,
             "#bd3786"
            ],
            [
             0.5555555555555556,
             "#d8576b"
            ],
            [
             0.6666666666666666,
             "#ed7953"
            ],
            [
             0.7777777777777778,
             "#fb9f3a"
            ],
            [
             0.8888888888888888,
             "#fdca26"
            ],
            [
             1,
             "#f0f921"
            ]
           ]
          },
          "colorway": [
           "#636efa",
           "#EF553B",
           "#00cc96",
           "#ab63fa",
           "#FFA15A",
           "#19d3f3",
           "#FF6692",
           "#B6E880",
           "#FF97FF",
           "#FECB52"
          ],
          "font": {
           "color": "#2a3f5f"
          },
          "geo": {
           "bgcolor": "white",
           "lakecolor": "white",
           "landcolor": "#E5ECF6",
           "showlakes": true,
           "showland": true,
           "subunitcolor": "white"
          },
          "hoverlabel": {
           "align": "left"
          },
          "hovermode": "closest",
          "mapbox": {
           "style": "light"
          },
          "paper_bgcolor": "white",
          "plot_bgcolor": "#E5ECF6",
          "polar": {
           "angularaxis": {
            "gridcolor": "white",
            "linecolor": "white",
            "ticks": ""
           },
           "bgcolor": "#E5ECF6",
           "radialaxis": {
            "gridcolor": "white",
            "linecolor": "white",
            "ticks": ""
           }
          },
          "scene": {
           "xaxis": {
            "backgroundcolor": "#E5ECF6",
            "gridcolor": "white",
            "gridwidth": 2,
            "linecolor": "white",
            "showbackground": true,
            "ticks": "",
            "zerolinecolor": "white"
           },
           "yaxis": {
            "backgroundcolor": "#E5ECF6",
            "gridcolor": "white",
            "gridwidth": 2,
            "linecolor": "white",
            "showbackground": true,
            "ticks": "",
            "zerolinecolor": "white"
           },
           "zaxis": {
            "backgroundcolor": "#E5ECF6",
            "gridcolor": "white",
            "gridwidth": 2,
            "linecolor": "white",
            "showbackground": true,
            "ticks": "",
            "zerolinecolor": "white"
           }
          },
          "shapedefaults": {
           "line": {
            "color": "#2a3f5f"
           }
          },
          "ternary": {
           "aaxis": {
            "gridcolor": "white",
            "linecolor": "white",
            "ticks": ""
           },
           "baxis": {
            "gridcolor": "white",
            "linecolor": "white",
            "ticks": ""
           },
           "bgcolor": "#E5ECF6",
           "caxis": {
            "gridcolor": "white",
            "linecolor": "white",
            "ticks": ""
           }
          },
          "title": {
           "x": 0.05
          },
          "xaxis": {
           "automargin": true,
           "gridcolor": "white",
           "linecolor": "white",
           "ticks": "",
           "title": {
            "standoff": 15
           },
           "zerolinecolor": "white",
           "zerolinewidth": 2
          },
          "yaxis": {
           "automargin": true,
           "gridcolor": "white",
           "linecolor": "white",
           "ticks": "",
           "title": {
            "standoff": 15
           },
           "zerolinecolor": "white",
           "zerolinewidth": 2
          }
         }
        },
        "title": {
         "text": "Experiment \"Combined Color First\""
        },
        "xaxis": {
         "anchor": "y",
         "domain": [
          0,
          0.31999999999999995
         ],
         "title": {
          "text": "Probability"
         }
        },
        "xaxis2": {
         "anchor": "y2",
         "domain": [
          0.33999999999999997,
          0.6599999999999999
         ],
         "matches": "x",
         "title": {
          "text": "Probability"
         }
        },
        "xaxis3": {
         "anchor": "y3",
         "domain": [
          0.6799999999999999,
          0.9999999999999999
         ],
         "matches": "x",
         "title": {
          "text": "Probability"
         }
        },
        "yaxis": {
         "anchor": "x",
         "categoryarray": [
          "the text's font color is red and the text's meaning is red",
          "the text's font color is blue and the text's meaning is blue",
          "the text's font color is blue and the text's meaning is red",
          "the text's font color is red and the text's meaning is blue",
          "the text's meaning is red and the text's font color is red",
          "the text's meaning is blue and the text's font color is blue",
          "the text's meaning is red and the text's font color is blue",
          "the text's meaning is blue and the text's font color is red",
          "the text's font color is red",
          "the text's font color is blue",
          "the text's meaning is red",
          "the text's meaning is blue"
         ],
         "categoryorder": "array",
         "domain": [
          0,
          1
         ],
         "title": {
          "text": "Prompt"
         }
        },
        "yaxis2": {
         "anchor": "x2",
         "domain": [
          0,
          1
         ],
         "matches": "y",
         "showticklabels": false
        },
        "yaxis3": {
         "anchor": "x3",
         "domain": [
          0,
          1
         ],
         "matches": "y",
         "showticklabels": false
        }
       }
      }
     },
     "metadata": {},
     "output_type": "display_data"
    },
    {
     "data": {
      "application/vnd.plotly.v1+json": {
       "config": {
        "plotlyServerURL": "https://plot.ly"
       },
       "data": [
        {
         "alignmentgroup": "True",
         "customdata": [
          [
           "BLUE",
           "red",
           "meaning_only",
           "incongruent"
          ],
          [
           "BLUE",
           "red",
           "meaning_only",
           "incongruent"
          ]
         ],
         "hovertemplate": "color=%{customdata[1]}<br>word=%{customdata[0]}<br>Probability=%{x}<br>Prompt=%{y}<br>Experiment Condition=%{customdata[2]}<br>condition=%{customdata[3]}<extra></extra>",
         "legendgroup": "red",
         "marker": {
          "color": "red",
          "pattern": {
           "shape": ""
          }
         },
         "name": "red",
         "offsetgroup": "red",
         "orientation": "h",
         "showlegend": true,
         "text": [
          "BLUE",
          "BLUE"
         ],
         "textposition": "auto",
         "type": "bar",
         "x": {
          "bdata": "AQAAwEOA7T/+//9/4v2zPw==",
          "dtype": "f8"
         },
         "xaxis": "x",
         "y": [
          "the text's meaning is blue",
          "the text's meaning is red"
         ],
         "yaxis": "y"
        },
        {
         "alignmentgroup": "True",
         "customdata": [
          [
           "RED",
           "red",
           "meaning_only",
           "congruent"
          ],
          [
           "RED",
           "red",
           "meaning_only",
           "congruent"
          ]
         ],
         "hovertemplate": "color=%{customdata[1]}<br>word=%{customdata[0]}<br>Probability=%{x}<br>Prompt=%{y}<br>Experiment Condition=%{customdata[2]}<br>condition=%{customdata[3]}<extra></extra>",
         "legendgroup": "red",
         "marker": {
          "color": "red",
          "pattern": {
           "shape": ""
          }
         },
         "name": "red",
         "offsetgroup": "red",
         "orientation": "h",
         "showlegend": false,
         "text": [
          "RED",
          "RED"
         ],
         "textposition": "auto",
         "type": "bar",
         "x": {
          "bdata": "AAAAwKmT7z/k///fjhWLPw==",
          "dtype": "f8"
         },
         "xaxis": "x2",
         "y": [
          "the text's meaning is red",
          "the text's meaning is blue"
         ],
         "yaxis": "y2"
        },
        {
         "alignmentgroup": "True",
         "customdata": [
          [
           "XXXX",
           "red",
           "meaning_only",
           "neutral"
          ],
          [
           "XXXX",
           "red",
           "meaning_only",
           "neutral"
          ]
         ],
         "hovertemplate": "color=%{customdata[1]}<br>word=%{customdata[0]}<br>Probability=%{x}<br>Prompt=%{y}<br>Experiment Condition=%{customdata[2]}<br>condition=%{customdata[3]}<extra></extra>",
         "legendgroup": "red",
         "marker": {
          "color": "red",
          "pattern": {
           "shape": ""
          }
         },
         "name": "red",
         "offsetgroup": "red",
         "orientation": "h",
         "showlegend": false,
         "text": [
          "XXXX",
          "XXXX"
         ],
         "textposition": "auto",
         "type": "bar",
         "x": {
          "bdata": "AAAAINU96j/+//9/qwjHPw==",
          "dtype": "f8"
         },
         "xaxis": "x3",
         "y": [
          "the text's meaning is red",
          "the text's meaning is blue"
         ],
         "yaxis": "y3"
        },
        {
         "alignmentgroup": "True",
         "customdata": [
          [
           "BLUE",
           "blue",
           "meaning_only",
           "congruent"
          ],
          [
           "BLUE",
           "blue",
           "meaning_only",
           "congruent"
          ]
         ],
         "hovertemplate": "color=%{customdata[1]}<br>word=%{customdata[0]}<br>Probability=%{x}<br>Prompt=%{y}<br>Experiment Condition=%{customdata[2]}<br>condition=%{customdata[3]}<extra></extra>",
         "legendgroup": "blue",
         "marker": {
          "color": "blue",
          "pattern": {
           "shape": ""
          }
         },
         "name": "blue",
         "offsetgroup": "blue",
         "orientation": "h",
         "showlegend": true,
         "text": [
          "BLUE",
          "BLUE"
         ],
         "textposition": "auto",
         "type": "bar",
         "x": {
          "bdata": "AAAAwPe47z/8///fDcKBPw==",
          "dtype": "f8"
         },
         "xaxis": "x",
         "y": [
          "the text's meaning is blue",
          "the text's meaning is red"
         ],
         "yaxis": "y"
        },
        {
         "alignmentgroup": "True",
         "customdata": [
          [
           "RED",
           "blue",
           "meaning_only",
           "incongruent"
          ],
          [
           "RED",
           "blue",
           "meaning_only",
           "incongruent"
          ]
         ],
         "hovertemplate": "color=%{customdata[1]}<br>word=%{customdata[0]}<br>Probability=%{x}<br>Prompt=%{y}<br>Experiment Condition=%{customdata[2]}<br>condition=%{customdata[3]}<extra></extra>",
         "legendgroup": "blue",
         "marker": {
          "color": "blue",
          "pattern": {
           "shape": ""
          }
         },
         "name": "blue",
         "offsetgroup": "blue",
         "orientation": "h",
         "showlegend": false,
         "text": [
          "RED",
          "RED"
         ],
         "textposition": "auto",
         "type": "bar",
         "x": {
          "bdata": "AAAAwGAB6j/+////fPrHPw==",
          "dtype": "f8"
         },
         "xaxis": "x2",
         "y": [
          "the text's meaning is red",
          "the text's meaning is blue"
         ],
         "yaxis": "y2"
        },
        {
         "alignmentgroup": "True",
         "customdata": [
          [
           "XXXX",
           "blue",
           "meaning_only",
           "neutral"
          ],
          [
           "XXXX",
           "blue",
           "meaning_only",
           "neutral"
          ]
         ],
         "hovertemplate": "color=%{customdata[1]}<br>word=%{customdata[0]}<br>Probability=%{x}<br>Prompt=%{y}<br>Experiment Condition=%{customdata[2]}<br>condition=%{customdata[3]}<extra></extra>",
         "legendgroup": "blue",
         "marker": {
          "color": "blue",
          "pattern": {
           "shape": ""
          }
         },
         "name": "blue",
         "offsetgroup": "blue",
         "orientation": "h",
         "showlegend": false,
         "text": [
          "XXXX",
          "XXXX"
         ],
         "textposition": "auto",
         "type": "bar",
         "x": {
          "bdata": "AAAAAAVA7j/2////sP+rPw==",
          "dtype": "f8"
         },
         "xaxis": "x3",
         "y": [
          "the text's meaning is blue",
          "the text's meaning is red"
         ],
         "yaxis": "y3"
        }
       ],
       "layout": {
        "annotations": [
         {
          "font": {},
          "showarrow": false,
          "text": "word=BLUE",
          "x": 0.15999999999999998,
          "xanchor": "center",
          "xref": "paper",
          "y": 1,
          "yanchor": "bottom",
          "yref": "paper"
         },
         {
          "font": {},
          "showarrow": false,
          "text": "word=RED",
          "x": 0.49999999999999994,
          "xanchor": "center",
          "xref": "paper",
          "y": 1,
          "yanchor": "bottom",
          "yref": "paper"
         },
         {
          "font": {},
          "showarrow": false,
          "text": "word=XXXX",
          "x": 0.8399999999999999,
          "xanchor": "center",
          "xref": "paper",
          "y": 1,
          "yanchor": "bottom",
          "yref": "paper"
         }
        ],
        "barmode": "group",
        "legend": {
         "title": {
          "text": "color"
         },
         "tracegroupgap": 0
        },
        "template": {
         "data": {
          "bar": [
           {
            "error_x": {
             "color": "#2a3f5f"
            },
            "error_y": {
             "color": "#2a3f5f"
            },
            "marker": {
             "line": {
              "color": "#E5ECF6",
              "width": 0.5
             },
             "pattern": {
              "fillmode": "overlay",
              "size": 10,
              "solidity": 0.2
             }
            },
            "type": "bar"
           }
          ],
          "barpolar": [
           {
            "marker": {
             "line": {
              "color": "#E5ECF6",
              "width": 0.5
             },
             "pattern": {
              "fillmode": "overlay",
              "size": 10,
              "solidity": 0.2
             }
            },
            "type": "barpolar"
           }
          ],
          "carpet": [
           {
            "aaxis": {
             "endlinecolor": "#2a3f5f",
             "gridcolor": "white",
             "linecolor": "white",
             "minorgridcolor": "white",
             "startlinecolor": "#2a3f5f"
            },
            "baxis": {
             "endlinecolor": "#2a3f5f",
             "gridcolor": "white",
             "linecolor": "white",
             "minorgridcolor": "white",
             "startlinecolor": "#2a3f5f"
            },
            "type": "carpet"
           }
          ],
          "choropleth": [
           {
            "colorbar": {
             "outlinewidth": 0,
             "ticks": ""
            },
            "type": "choropleth"
           }
          ],
          "contour": [
           {
            "colorbar": {
             "outlinewidth": 0,
             "ticks": ""
            },
            "colorscale": [
             [
              0,
              "#0d0887"
             ],
             [
              0.1111111111111111,
              "#46039f"
             ],
             [
              0.2222222222222222,
              "#7201a8"
             ],
             [
              0.3333333333333333,
              "#9c179e"
             ],
             [
              0.4444444444444444,
              "#bd3786"
             ],
             [
              0.5555555555555556,
              "#d8576b"
             ],
             [
              0.6666666666666666,
              "#ed7953"
             ],
             [
              0.7777777777777778,
              "#fb9f3a"
             ],
             [
              0.8888888888888888,
              "#fdca26"
             ],
             [
              1,
              "#f0f921"
             ]
            ],
            "type": "contour"
           }
          ],
          "contourcarpet": [
           {
            "colorbar": {
             "outlinewidth": 0,
             "ticks": ""
            },
            "type": "contourcarpet"
           }
          ],
          "heatmap": [
           {
            "colorbar": {
             "outlinewidth": 0,
             "ticks": ""
            },
            "colorscale": [
             [
              0,
              "#0d0887"
             ],
             [
              0.1111111111111111,
              "#46039f"
             ],
             [
              0.2222222222222222,
              "#7201a8"
             ],
             [
              0.3333333333333333,
              "#9c179e"
             ],
             [
              0.4444444444444444,
              "#bd3786"
             ],
             [
              0.5555555555555556,
              "#d8576b"
             ],
             [
              0.6666666666666666,
              "#ed7953"
             ],
             [
              0.7777777777777778,
              "#fb9f3a"
             ],
             [
              0.8888888888888888,
              "#fdca26"
             ],
             [
              1,
              "#f0f921"
             ]
            ],
            "type": "heatmap"
           }
          ],
          "histogram": [
           {
            "marker": {
             "pattern": {
              "fillmode": "overlay",
              "size": 10,
              "solidity": 0.2
             }
            },
            "type": "histogram"
           }
          ],
          "histogram2d": [
           {
            "colorbar": {
             "outlinewidth": 0,
             "ticks": ""
            },
            "colorscale": [
             [
              0,
              "#0d0887"
             ],
             [
              0.1111111111111111,
              "#46039f"
             ],
             [
              0.2222222222222222,
              "#7201a8"
             ],
             [
              0.3333333333333333,
              "#9c179e"
             ],
             [
              0.4444444444444444,
              "#bd3786"
             ],
             [
              0.5555555555555556,
              "#d8576b"
             ],
             [
              0.6666666666666666,
              "#ed7953"
             ],
             [
              0.7777777777777778,
              "#fb9f3a"
             ],
             [
              0.8888888888888888,
              "#fdca26"
             ],
             [
              1,
              "#f0f921"
             ]
            ],
            "type": "histogram2d"
           }
          ],
          "histogram2dcontour": [
           {
            "colorbar": {
             "outlinewidth": 0,
             "ticks": ""
            },
            "colorscale": [
             [
              0,
              "#0d0887"
             ],
             [
              0.1111111111111111,
              "#46039f"
             ],
             [
              0.2222222222222222,
              "#7201a8"
             ],
             [
              0.3333333333333333,
              "#9c179e"
             ],
             [
              0.4444444444444444,
              "#bd3786"
             ],
             [
              0.5555555555555556,
              "#d8576b"
             ],
             [
              0.6666666666666666,
              "#ed7953"
             ],
             [
              0.7777777777777778,
              "#fb9f3a"
             ],
             [
              0.8888888888888888,
              "#fdca26"
             ],
             [
              1,
              "#f0f921"
             ]
            ],
            "type": "histogram2dcontour"
           }
          ],
          "mesh3d": [
           {
            "colorbar": {
             "outlinewidth": 0,
             "ticks": ""
            },
            "type": "mesh3d"
           }
          ],
          "parcoords": [
           {
            "line": {
             "colorbar": {
              "outlinewidth": 0,
              "ticks": ""
             }
            },
            "type": "parcoords"
           }
          ],
          "pie": [
           {
            "automargin": true,
            "type": "pie"
           }
          ],
          "scatter": [
           {
            "fillpattern": {
             "fillmode": "overlay",
             "size": 10,
             "solidity": 0.2
            },
            "type": "scatter"
           }
          ],
          "scatter3d": [
           {
            "line": {
             "colorbar": {
              "outlinewidth": 0,
              "ticks": ""
             }
            },
            "marker": {
             "colorbar": {
              "outlinewidth": 0,
              "ticks": ""
             }
            },
            "type": "scatter3d"
           }
          ],
          "scattercarpet": [
           {
            "marker": {
             "colorbar": {
              "outlinewidth": 0,
              "ticks": ""
             }
            },
            "type": "scattercarpet"
           }
          ],
          "scattergeo": [
           {
            "marker": {
             "colorbar": {
              "outlinewidth": 0,
              "ticks": ""
             }
            },
            "type": "scattergeo"
           }
          ],
          "scattergl": [
           {
            "marker": {
             "colorbar": {
              "outlinewidth": 0,
              "ticks": ""
             }
            },
            "type": "scattergl"
           }
          ],
          "scattermap": [
           {
            "marker": {
             "colorbar": {
              "outlinewidth": 0,
              "ticks": ""
             }
            },
            "type": "scattermap"
           }
          ],
          "scattermapbox": [
           {
            "marker": {
             "colorbar": {
              "outlinewidth": 0,
              "ticks": ""
             }
            },
            "type": "scattermapbox"
           }
          ],
          "scatterpolar": [
           {
            "marker": {
             "colorbar": {
              "outlinewidth": 0,
              "ticks": ""
             }
            },
            "type": "scatterpolar"
           }
          ],
          "scatterpolargl": [
           {
            "marker": {
             "colorbar": {
              "outlinewidth": 0,
              "ticks": ""
             }
            },
            "type": "scatterpolargl"
           }
          ],
          "scatterternary": [
           {
            "marker": {
             "colorbar": {
              "outlinewidth": 0,
              "ticks": ""
             }
            },
            "type": "scatterternary"
           }
          ],
          "surface": [
           {
            "colorbar": {
             "outlinewidth": 0,
             "ticks": ""
            },
            "colorscale": [
             [
              0,
              "#0d0887"
             ],
             [
              0.1111111111111111,
              "#46039f"
             ],
             [
              0.2222222222222222,
              "#7201a8"
             ],
             [
              0.3333333333333333,
              "#9c179e"
             ],
             [
              0.4444444444444444,
              "#bd3786"
             ],
             [
              0.5555555555555556,
              "#d8576b"
             ],
             [
              0.6666666666666666,
              "#ed7953"
             ],
             [
              0.7777777777777778,
              "#fb9f3a"
             ],
             [
              0.8888888888888888,
              "#fdca26"
             ],
             [
              1,
              "#f0f921"
             ]
            ],
            "type": "surface"
           }
          ],
          "table": [
           {
            "cells": {
             "fill": {
              "color": "#EBF0F8"
             },
             "line": {
              "color": "white"
             }
            },
            "header": {
             "fill": {
              "color": "#C8D4E3"
             },
             "line": {
              "color": "white"
             }
            },
            "type": "table"
           }
          ]
         },
         "layout": {
          "annotationdefaults": {
           "arrowcolor": "#2a3f5f",
           "arrowhead": 0,
           "arrowwidth": 1
          },
          "autotypenumbers": "strict",
          "coloraxis": {
           "colorbar": {
            "outlinewidth": 0,
            "ticks": ""
           }
          },
          "colorscale": {
           "diverging": [
            [
             0,
             "#8e0152"
            ],
            [
             0.1,
             "#c51b7d"
            ],
            [
             0.2,
             "#de77ae"
            ],
            [
             0.3,
             "#f1b6da"
            ],
            [
             0.4,
             "#fde0ef"
            ],
            [
             0.5,
             "#f7f7f7"
            ],
            [
             0.6,
             "#e6f5d0"
            ],
            [
             0.7,
             "#b8e186"
            ],
            [
             0.8,
             "#7fbc41"
            ],
            [
             0.9,
             "#4d9221"
            ],
            [
             1,
             "#276419"
            ]
           ],
           "sequential": [
            [
             0,
             "#0d0887"
            ],
            [
             0.1111111111111111,
             "#46039f"
            ],
            [
             0.2222222222222222,
             "#7201a8"
            ],
            [
             0.3333333333333333,
             "#9c179e"
            ],
            [
             0.4444444444444444,
             "#bd3786"
            ],
            [
             0.5555555555555556,
             "#d8576b"
            ],
            [
             0.6666666666666666,
             "#ed7953"
            ],
            [
             0.7777777777777778,
             "#fb9f3a"
            ],
            [
             0.8888888888888888,
             "#fdca26"
            ],
            [
             1,
             "#f0f921"
            ]
           ],
           "sequentialminus": [
            [
             0,
             "#0d0887"
            ],
            [
             0.1111111111111111,
             "#46039f"
            ],
            [
             0.2222222222222222,
             "#7201a8"
            ],
            [
             0.3333333333333333,
             "#9c179e"
            ],
            [
             0.4444444444444444,
             "#bd3786"
            ],
            [
             0.5555555555555556,
             "#d8576b"
            ],
            [
             0.6666666666666666,
             "#ed7953"
            ],
            [
             0.7777777777777778,
             "#fb9f3a"
            ],
            [
             0.8888888888888888,
             "#fdca26"
            ],
            [
             1,
             "#f0f921"
            ]
           ]
          },
          "colorway": [
           "#636efa",
           "#EF553B",
           "#00cc96",
           "#ab63fa",
           "#FFA15A",
           "#19d3f3",
           "#FF6692",
           "#B6E880",
           "#FF97FF",
           "#FECB52"
          ],
          "font": {
           "color": "#2a3f5f"
          },
          "geo": {
           "bgcolor": "white",
           "lakecolor": "white",
           "landcolor": "#E5ECF6",
           "showlakes": true,
           "showland": true,
           "subunitcolor": "white"
          },
          "hoverlabel": {
           "align": "left"
          },
          "hovermode": "closest",
          "mapbox": {
           "style": "light"
          },
          "paper_bgcolor": "white",
          "plot_bgcolor": "#E5ECF6",
          "polar": {
           "angularaxis": {
            "gridcolor": "white",
            "linecolor": "white",
            "ticks": ""
           },
           "bgcolor": "#E5ECF6",
           "radialaxis": {
            "gridcolor": "white",
            "linecolor": "white",
            "ticks": ""
           }
          },
          "scene": {
           "xaxis": {
            "backgroundcolor": "#E5ECF6",
            "gridcolor": "white",
            "gridwidth": 2,
            "linecolor": "white",
            "showbackground": true,
            "ticks": "",
            "zerolinecolor": "white"
           },
           "yaxis": {
            "backgroundcolor": "#E5ECF6",
            "gridcolor": "white",
            "gridwidth": 2,
            "linecolor": "white",
            "showbackground": true,
            "ticks": "",
            "zerolinecolor": "white"
           },
           "zaxis": {
            "backgroundcolor": "#E5ECF6",
            "gridcolor": "white",
            "gridwidth": 2,
            "linecolor": "white",
            "showbackground": true,
            "ticks": "",
            "zerolinecolor": "white"
           }
          },
          "shapedefaults": {
           "line": {
            "color": "#2a3f5f"
           }
          },
          "ternary": {
           "aaxis": {
            "gridcolor": "white",
            "linecolor": "white",
            "ticks": ""
           },
           "baxis": {
            "gridcolor": "white",
            "linecolor": "white",
            "ticks": ""
           },
           "bgcolor": "#E5ECF6",
           "caxis": {
            "gridcolor": "white",
            "linecolor": "white",
            "ticks": ""
           }
          },
          "title": {
           "x": 0.05
          },
          "xaxis": {
           "automargin": true,
           "gridcolor": "white",
           "linecolor": "white",
           "ticks": "",
           "title": {
            "standoff": 15
           },
           "zerolinecolor": "white",
           "zerolinewidth": 2
          },
          "yaxis": {
           "automargin": true,
           "gridcolor": "white",
           "linecolor": "white",
           "ticks": "",
           "title": {
            "standoff": 15
           },
           "zerolinecolor": "white",
           "zerolinewidth": 2
          }
         }
        },
        "title": {
         "text": "Experiment \"Meaning Only\""
        },
        "xaxis": {
         "anchor": "y",
         "domain": [
          0,
          0.31999999999999995
         ],
         "title": {
          "text": "Probability"
         }
        },
        "xaxis2": {
         "anchor": "y2",
         "domain": [
          0.33999999999999997,
          0.6599999999999999
         ],
         "matches": "x",
         "title": {
          "text": "Probability"
         }
        },
        "xaxis3": {
         "anchor": "y3",
         "domain": [
          0.6799999999999999,
          0.9999999999999999
         ],
         "matches": "x",
         "title": {
          "text": "Probability"
         }
        },
        "yaxis": {
         "anchor": "x",
         "categoryarray": [
          "the text's font color is red and the text's meaning is red",
          "the text's font color is blue and the text's meaning is blue",
          "the text's font color is blue and the text's meaning is red",
          "the text's font color is red and the text's meaning is blue",
          "the text's meaning is red and the text's font color is red",
          "the text's meaning is blue and the text's font color is blue",
          "the text's meaning is red and the text's font color is blue",
          "the text's meaning is blue and the text's font color is red",
          "the text's font color is red",
          "the text's font color is blue",
          "the text's meaning is red",
          "the text's meaning is blue"
         ],
         "categoryorder": "array",
         "domain": [
          0,
          1
         ],
         "title": {
          "text": "Prompt"
         }
        },
        "yaxis2": {
         "anchor": "x2",
         "domain": [
          0,
          1
         ],
         "matches": "y",
         "showticklabels": false
        },
        "yaxis3": {
         "anchor": "x3",
         "domain": [
          0,
          1
         ],
         "matches": "y",
         "showticklabels": false
        }
       }
      }
     },
     "metadata": {},
     "output_type": "display_data"
    }
   ],
   "source": [
    "class_names = df[\"class_name\"].unique()\n",
    "for class_set, class_set_df in df.groupby(\"class_set\", ):\n",
    "    fig = px.bar(\n",
    "        class_set_df,\n",
    "        x=\"probability\",\n",
    "        y=\"class_name\",\n",
    "        color=\"color\",\n",
    "        facet_col=\"word\",\n",
    "        text=\"word\",\n",
    "        color_discrete_map={\"blue\": \"blue\", \"red\": \"red\"},\n",
    "        hover_data=df.columns.tolist(),\n",
    "        labels={\"probability\": \"Probability\", \"class_set\": \"Experiment Condition\", 'class_name': 'Prompt'},\n",
    "        barmode=\"group\",\n",
    "        category_orders={\"class_name\": class_names},\n",
    "        title=f'Experiment \"{class_set.replace('_', ' ').title()}\"',\n",
    "        orientation=\"h\",\n",
    "        #range_x=[0, 1],\n",
    "    )\n",
    "    # update x-range to be 0-1\n",
    "    #fig.update_xaxes(range=[0, 1])\n",
    "    fig.show()\n",
    "\n",
    "# # remove facets = in the titles\n",
    "\n",
    "# # the the x-axis does not need to be the same\n",
    "# fig.update_xaxes(matches=None)\n",
    "# for col in range(1, 4):\n",
    "#     for row in range(2, 4):\n",
    "#         fig.update_xaxes(matches=f\"x{col}\", row=row, col=col)  # x1 matches x2\n",
    "# fig.update_layout(height=800, width=1200, title_text=\"CLIP Stroop Test\")\n",
    "# fig.show()\n",
    "# import plotly.io as pio\n",
    "\n",
    "# pio.kaleido.scope.mathjax = None\n",
    "# fig.write_image(\"clip_stroop_test.pdf\")"
   ]
  },
  {
   "cell_type": "code",
   "execution_count": null,
   "metadata": {},
   "outputs": [],
   "source": [
    "# anova\n",
    "from statsmodels.formula.api import ols\n",
    "from statsmodels.stats.anova import anova_lm\n"
   ]
  },
  {
   "cell_type": "code",
   "execution_count": 60,
   "metadata": {},
   "outputs": [],
   "source": [
    "import pingouin"
   ]
  },
  {
   "cell_type": "code",
   "execution_count": 72,
   "metadata": {},
   "outputs": [
    {
     "name": "stdout",
     "output_type": "stream",
     "text": [
      "word_only\n"
     ]
    },
    {
     "data": {
      "text/html": [
       "<div>\n",
       "<style scoped>\n",
       "    .dataframe tbody tr th:only-of-type {\n",
       "        vertical-align: middle;\n",
       "    }\n",
       "\n",
       "    .dataframe tbody tr th {\n",
       "        vertical-align: top;\n",
       "    }\n",
       "\n",
       "    .dataframe thead th {\n",
       "        text-align: right;\n",
       "    }\n",
       "</style>\n",
       "<table border=\"1\" class=\"dataframe\">\n",
       "  <thead>\n",
       "    <tr style=\"text-align: right;\">\n",
       "      <th></th>\n",
       "      <th>df</th>\n",
       "      <th>sum_sq</th>\n",
       "      <th>mean_sq</th>\n",
       "      <th>F</th>\n",
       "      <th>PR(&gt;F)</th>\n",
       "      <th>eta_sq</th>\n",
       "      <th>partial_eta_sq</th>\n",
       "      <th>cohen_f</th>\n",
       "    </tr>\n",
       "  </thead>\n",
       "  <tbody>\n",
       "    <tr>\n",
       "      <th>C(word)</th>\n",
       "      <td>1.0</td>\n",
       "      <td>1.729828e-15</td>\n",
       "      <td>1.729828e-15</td>\n",
       "      <td>7.230957e-10</td>\n",
       "      <td>0.999981</td>\n",
       "      <td>8.883044e-16</td>\n",
       "      <td>3.615478e-10</td>\n",
       "      <td>0.000019</td>\n",
       "    </tr>\n",
       "    <tr>\n",
       "      <th>C(response)</th>\n",
       "      <td>1.0</td>\n",
       "      <td>1.181030e-05</td>\n",
       "      <td>1.181030e-05</td>\n",
       "      <td>4.936892e+00</td>\n",
       "      <td>0.156385</td>\n",
       "      <td>6.064845e-06</td>\n",
       "      <td>7.116865e-01</td>\n",
       "      <td>1.571129</td>\n",
       "    </tr>\n",
       "    <tr>\n",
       "      <th>C(color)</th>\n",
       "      <td>1.0</td>\n",
       "      <td>2.069306e-16</td>\n",
       "      <td>2.069306e-16</td>\n",
       "      <td>8.650027e-11</td>\n",
       "      <td>0.999993</td>\n",
       "      <td>1.062634e-16</td>\n",
       "      <td>4.325013e-11</td>\n",
       "      <td>0.000007</td>\n",
       "    </tr>\n",
       "    <tr>\n",
       "      <th>C(word):C(response)</th>\n",
       "      <td>1.0</td>\n",
       "      <td>1.947046e+00</td>\n",
       "      <td>1.947046e+00</td>\n",
       "      <td>8.138962e+05</td>\n",
       "      <td>0.000001</td>\n",
       "      <td>9.998505e-01</td>\n",
       "      <td>9.999975e-01</td>\n",
       "      <td>637.924832</td>\n",
       "    </tr>\n",
       "    <tr>\n",
       "      <th>C(color):C(response)</th>\n",
       "      <td>1.0</td>\n",
       "      <td>2.745798e-04</td>\n",
       "      <td>2.745798e-04</td>\n",
       "      <td>1.147787e+02</td>\n",
       "      <td>0.008600</td>\n",
       "      <td>1.410027e-04</td>\n",
       "      <td>9.828736e-01</td>\n",
       "      <td>7.575577</td>\n",
       "    </tr>\n",
       "    <tr>\n",
       "      <th>Residual</th>\n",
       "      <td>2.0</td>\n",
       "      <td>4.784507e-06</td>\n",
       "      <td>2.392253e-06</td>\n",
       "      <td>NaN</td>\n",
       "      <td>NaN</td>\n",
       "      <td>2.456948e-06</td>\n",
       "      <td>5.000000e-01</td>\n",
       "      <td>1.000000</td>\n",
       "    </tr>\n",
       "  </tbody>\n",
       "</table>\n",
       "</div>"
      ],
      "text/plain": [
       "                       df        sum_sq       mean_sq             F    PR(>F)  \\\n",
       "C(word)               1.0  1.729828e-15  1.729828e-15  7.230957e-10  0.999981   \n",
       "C(response)           1.0  1.181030e-05  1.181030e-05  4.936892e+00  0.156385   \n",
       "C(color)              1.0  2.069306e-16  2.069306e-16  8.650027e-11  0.999993   \n",
       "C(word):C(response)   1.0  1.947046e+00  1.947046e+00  8.138962e+05  0.000001   \n",
       "C(color):C(response)  1.0  2.745798e-04  2.745798e-04  1.147787e+02  0.008600   \n",
       "Residual              2.0  4.784507e-06  2.392253e-06           NaN       NaN   \n",
       "\n",
       "                            eta_sq  partial_eta_sq     cohen_f  \n",
       "C(word)               8.883044e-16    3.615478e-10    0.000019  \n",
       "C(response)           6.064845e-06    7.116865e-01    1.571129  \n",
       "C(color)              1.062634e-16    4.325013e-11    0.000007  \n",
       "C(word):C(response)   9.998505e-01    9.999975e-01  637.924832  \n",
       "C(color):C(response)  1.410027e-04    9.828736e-01    7.575577  \n",
       "Residual              2.456948e-06    5.000000e-01    1.000000  "
      ]
     },
     "metadata": {},
     "output_type": "display_data"
    },
    {
     "name": "stdout",
     "output_type": "stream",
     "text": [
      "color_only\n"
     ]
    },
    {
     "data": {
      "text/html": [
       "<div>\n",
       "<style scoped>\n",
       "    .dataframe tbody tr th:only-of-type {\n",
       "        vertical-align: middle;\n",
       "    }\n",
       "\n",
       "    .dataframe tbody tr th {\n",
       "        vertical-align: top;\n",
       "    }\n",
       "\n",
       "    .dataframe thead th {\n",
       "        text-align: right;\n",
       "    }\n",
       "</style>\n",
       "<table border=\"1\" class=\"dataframe\">\n",
       "  <thead>\n",
       "    <tr style=\"text-align: right;\">\n",
       "      <th></th>\n",
       "      <th>df</th>\n",
       "      <th>sum_sq</th>\n",
       "      <th>mean_sq</th>\n",
       "      <th>F</th>\n",
       "      <th>PR(&gt;F)</th>\n",
       "      <th>eta_sq</th>\n",
       "      <th>partial_eta_sq</th>\n",
       "      <th>cohen_f</th>\n",
       "    </tr>\n",
       "  </thead>\n",
       "  <tbody>\n",
       "    <tr>\n",
       "      <th>C(word)</th>\n",
       "      <td>1.0</td>\n",
       "      <td>4.282768e-15</td>\n",
       "      <td>4.282768e-15</td>\n",
       "      <td>8.317015e-11</td>\n",
       "      <td>0.999994</td>\n",
       "      <td>2.249893e-15</td>\n",
       "      <td>4.158507e-11</td>\n",
       "      <td>0.000006</td>\n",
       "    </tr>\n",
       "    <tr>\n",
       "      <th>C(response)</th>\n",
       "      <td>1.0</td>\n",
       "      <td>1.614999e-04</td>\n",
       "      <td>1.614999e-04</td>\n",
       "      <td>3.136284e+00</td>\n",
       "      <td>0.218582</td>\n",
       "      <td>8.484178e-05</td>\n",
       "      <td>6.106134e-01</td>\n",
       "      <td>1.252255</td>\n",
       "    </tr>\n",
       "    <tr>\n",
       "      <th>C(color)</th>\n",
       "      <td>1.0</td>\n",
       "      <td>5.504020e-16</td>\n",
       "      <td>5.504020e-16</td>\n",
       "      <td>1.068865e-11</td>\n",
       "      <td>0.999998</td>\n",
       "      <td>2.891462e-16</td>\n",
       "      <td>5.344326e-12</td>\n",
       "      <td>0.000002</td>\n",
       "    </tr>\n",
       "    <tr>\n",
       "      <th>C(word):C(response)</th>\n",
       "      <td>1.0</td>\n",
       "      <td>1.902332e+00</td>\n",
       "      <td>1.902332e+00</td>\n",
       "      <td>3.694274e+04</td>\n",
       "      <td>0.000027</td>\n",
       "      <td>9.993638e-01</td>\n",
       "      <td>9.999459e-01</td>\n",
       "      <td>135.909425</td>\n",
       "    </tr>\n",
       "    <tr>\n",
       "      <th>C(color):C(response)</th>\n",
       "      <td>1.0</td>\n",
       "      <td>9.465404e-04</td>\n",
       "      <td>9.465404e-04</td>\n",
       "      <td>1.838155e+01</td>\n",
       "      <td>0.050331</td>\n",
       "      <td>4.972520e-04</td>\n",
       "      <td>9.018720e-01</td>\n",
       "      <td>3.031629</td>\n",
       "    </tr>\n",
       "    <tr>\n",
       "      <th>Residual</th>\n",
       "      <td>2.0</td>\n",
       "      <td>1.029881e-04</td>\n",
       "      <td>5.149405e-05</td>\n",
       "      <td>NaN</td>\n",
       "      <td>NaN</td>\n",
       "      <td>5.410339e-05</td>\n",
       "      <td>5.000000e-01</td>\n",
       "      <td>1.000000</td>\n",
       "    </tr>\n",
       "  </tbody>\n",
       "</table>\n",
       "</div>"
      ],
      "text/plain": [
       "                       df        sum_sq       mean_sq             F    PR(>F)  \\\n",
       "C(word)               1.0  4.282768e-15  4.282768e-15  8.317015e-11  0.999994   \n",
       "C(response)           1.0  1.614999e-04  1.614999e-04  3.136284e+00  0.218582   \n",
       "C(color)              1.0  5.504020e-16  5.504020e-16  1.068865e-11  0.999998   \n",
       "C(word):C(response)   1.0  1.902332e+00  1.902332e+00  3.694274e+04  0.000027   \n",
       "C(color):C(response)  1.0  9.465404e-04  9.465404e-04  1.838155e+01  0.050331   \n",
       "Residual              2.0  1.029881e-04  5.149405e-05           NaN       NaN   \n",
       "\n",
       "                            eta_sq  partial_eta_sq     cohen_f  \n",
       "C(word)               2.249893e-15    4.158507e-11    0.000006  \n",
       "C(response)           8.484178e-05    6.106134e-01    1.252255  \n",
       "C(color)              2.891462e-16    5.344326e-12    0.000002  \n",
       "C(word):C(response)   9.993638e-01    9.999459e-01  135.909425  \n",
       "C(color):C(response)  4.972520e-04    9.018720e-01    3.031629  \n",
       "Residual              5.410339e-05    5.000000e-01    1.000000  "
      ]
     },
     "metadata": {},
     "output_type": "display_data"
    }
   ],
   "source": [
    "# analyzing the wrod only and color only conditions:\n",
    "\n",
    "def extended_anova(df, equation):\n",
    "    model = ols(equation, data=df).fit()\n",
    "    anova_table = anova_lm(model)\n",
    "    # Calculate eta squared\n",
    "    ss_total = anova_table['sum_sq'].sum()\n",
    "    ss_error = anova_table.loc['Residual', 'sum_sq']\n",
    "    anova_table['eta_sq'] = anova_table['sum_sq'] / ss_total\n",
    "    anova_table['partial_eta_sq'] = anova_table['sum_sq'] / (anova_table['sum_sq'] + ss_error)\n",
    "    anova_table['cohen_f'] = np.sqrt(anova_table['partial_eta_sq'] / (1 - anova_table['partial_eta_sq']))\n",
    "    return anova_table\n",
    "    \n",
    "\n",
    "\n",
    "\n",
    "for class_set in ['word_only', 'color_only']:\n",
    "    print(class_set)\n",
    "    subset = df.query(f'(class_set == \"{class_set}\") & (word != \"XXXX\")').copy()\n",
    "    subset.loc[:, 'response'] = np.where(subset['class_name'].str.contains('blue'), 'blue', 'red')\n",
    "    anova_table = extended_anova(subset, 'probability ~  C(word) * C(response) + C(color)*C(response)')\n",
    "    display(anova_table)\n",
    "\n"
   ]
  },
  {
   "cell_type": "code",
   "execution_count": 77,
   "metadata": {},
   "outputs": [
    {
     "data": {
      "text/html": [
       "<div>\n",
       "<style scoped>\n",
       "    .dataframe tbody tr th:only-of-type {\n",
       "        vertical-align: middle;\n",
       "    }\n",
       "\n",
       "    .dataframe tbody tr th {\n",
       "        vertical-align: top;\n",
       "    }\n",
       "\n",
       "    .dataframe thead th {\n",
       "        text-align: right;\n",
       "    }\n",
       "</style>\n",
       "<table border=\"1\" class=\"dataframe\">\n",
       "  <thead>\n",
       "    <tr style=\"text-align: right;\">\n",
       "      <th></th>\n",
       "      <th>df</th>\n",
       "      <th>sum_sq</th>\n",
       "      <th>mean_sq</th>\n",
       "      <th>F</th>\n",
       "      <th>PR(&gt;F)</th>\n",
       "      <th>eta_sq</th>\n",
       "      <th>partial_eta_sq</th>\n",
       "      <th>cohen_f</th>\n",
       "    </tr>\n",
       "  </thead>\n",
       "  <tbody>\n",
       "    <tr>\n",
       "      <th>C(color)</th>\n",
       "      <td>1.0</td>\n",
       "      <td>1.667069e-15</td>\n",
       "      <td>1.667069e-15</td>\n",
       "      <td>4.467583e-11</td>\n",
       "      <td>9.999950e-01</td>\n",
       "      <td>1.150703e-15</td>\n",
       "      <td>1.116896e-11</td>\n",
       "      <td>0.000003</td>\n",
       "    </tr>\n",
       "    <tr>\n",
       "      <th>C(response)</th>\n",
       "      <td>1.0</td>\n",
       "      <td>5.146677e-03</td>\n",
       "      <td>5.146677e-03</td>\n",
       "      <td>1.379259e+02</td>\n",
       "      <td>3.007143e-04</td>\n",
       "      <td>3.552518e-03</td>\n",
       "      <td>9.718163e-01</td>\n",
       "      <td>5.872093</td>\n",
       "    </tr>\n",
       "    <tr>\n",
       "      <th>C(color):C(response)</th>\n",
       "      <td>1.0</td>\n",
       "      <td>1.443444e+00</td>\n",
       "      <td>1.443444e+00</td>\n",
       "      <td>3.868290e+04</td>\n",
       "      <td>4.009020e-09</td>\n",
       "      <td>9.963445e-01</td>\n",
       "      <td>9.998966e-01</td>\n",
       "      <td>98.339850</td>\n",
       "    </tr>\n",
       "    <tr>\n",
       "      <th>Residual</th>\n",
       "      <td>4.0</td>\n",
       "      <td>1.492592e-04</td>\n",
       "      <td>3.731479e-05</td>\n",
       "      <td>NaN</td>\n",
       "      <td>NaN</td>\n",
       "      <td>1.030269e-04</td>\n",
       "      <td>5.000000e-01</td>\n",
       "      <td>1.000000</td>\n",
       "    </tr>\n",
       "  </tbody>\n",
       "</table>\n",
       "</div>"
      ],
      "text/plain": [
       "                       df        sum_sq       mean_sq             F  \\\n",
       "C(color)              1.0  1.667069e-15  1.667069e-15  4.467583e-11   \n",
       "C(response)           1.0  5.146677e-03  5.146677e-03  1.379259e+02   \n",
       "C(color):C(response)  1.0  1.443444e+00  1.443444e+00  3.868290e+04   \n",
       "Residual              4.0  1.492592e-04  3.731479e-05           NaN   \n",
       "\n",
       "                            PR(>F)        eta_sq  partial_eta_sq    cohen_f  \n",
       "C(color)              9.999950e-01  1.150703e-15    1.116896e-11   0.000003  \n",
       "C(response)           3.007143e-04  3.552518e-03    9.718163e-01   5.872093  \n",
       "C(color):C(response)  4.009020e-09  9.963445e-01    9.998966e-01  98.339850  \n",
       "Residual                       NaN  1.030269e-04    5.000000e-01   1.000000  "
      ]
     },
     "metadata": {},
     "output_type": "display_data"
    }
   ],
   "source": [
    "# statistical analysis\n",
    "\n",
    "subset = df.query('(class_set in [\"word_only\", \"color_only\"]) & (word == \"XXXX\")').copy()\n",
    "subset.loc[:, 'response'] = np.where(subset['class_name'].str.contains('blue'), 'blue', 'red')\n",
    "anova_table = extended_anova(subset, 'probability ~  C(color)*C(response)')\n",
    "display(anova_table)\n"
   ]
  },
  {
   "cell_type": "code",
   "execution_count": 78,
   "metadata": {},
   "outputs": [
    {
     "data": {
      "text/html": [
       "<div>\n",
       "<style scoped>\n",
       "    .dataframe tbody tr th:only-of-type {\n",
       "        vertical-align: middle;\n",
       "    }\n",
       "\n",
       "    .dataframe tbody tr th {\n",
       "        vertical-align: top;\n",
       "    }\n",
       "\n",
       "    .dataframe thead th {\n",
       "        text-align: right;\n",
       "    }\n",
       "</style>\n",
       "<table border=\"1\" class=\"dataframe\">\n",
       "  <thead>\n",
       "    <tr style=\"text-align: right;\">\n",
       "      <th></th>\n",
       "      <th>df</th>\n",
       "      <th>sum_sq</th>\n",
       "      <th>mean_sq</th>\n",
       "      <th>F</th>\n",
       "      <th>PR(&gt;F)</th>\n",
       "      <th>eta_sq</th>\n",
       "      <th>partial_eta_sq</th>\n",
       "      <th>cohen_f</th>\n",
       "    </tr>\n",
       "  </thead>\n",
       "  <tbody>\n",
       "    <tr>\n",
       "      <th>C(word)</th>\n",
       "      <td>1.0</td>\n",
       "      <td>2.594039e-17</td>\n",
       "      <td>2.594039e-17</td>\n",
       "      <td>6.523285e-16</td>\n",
       "      <td>1.000000</td>\n",
       "      <td>2.455348e-17</td>\n",
       "      <td>9.318978e-17</td>\n",
       "      <td>9.653485e-09</td>\n",
       "    </tr>\n",
       "    <tr>\n",
       "      <th>C(response_word)</th>\n",
       "      <td>1.0</td>\n",
       "      <td>4.541195e-03</td>\n",
       "      <td>4.541195e-03</td>\n",
       "      <td>1.141984e-01</td>\n",
       "      <td>0.745322</td>\n",
       "      <td>4.298400e-03</td>\n",
       "      <td>1.605218e-02</td>\n",
       "      <td>1.277265e-01</td>\n",
       "    </tr>\n",
       "    <tr>\n",
       "      <th>C(color)</th>\n",
       "      <td>1.0</td>\n",
       "      <td>2.723118e-16</td>\n",
       "      <td>2.723118e-16</td>\n",
       "      <td>6.847883e-15</td>\n",
       "      <td>1.000000</td>\n",
       "      <td>2.577526e-16</td>\n",
       "      <td>9.782690e-16</td>\n",
       "      <td>3.127729e-08</td>\n",
       "    </tr>\n",
       "    <tr>\n",
       "      <th>C(response_color)</th>\n",
       "      <td>1.0</td>\n",
       "      <td>1.098783e-02</td>\n",
       "      <td>1.098783e-02</td>\n",
       "      <td>2.763133e-01</td>\n",
       "      <td>0.615363</td>\n",
       "      <td>1.040037e-02</td>\n",
       "      <td>3.797436e-02</td>\n",
       "      <td>1.986790e-01</td>\n",
       "    </tr>\n",
       "    <tr>\n",
       "      <th>C(word):C(response_word)</th>\n",
       "      <td>1.0</td>\n",
       "      <td>5.885323e-01</td>\n",
       "      <td>5.885323e-01</td>\n",
       "      <td>1.479995e+01</td>\n",
       "      <td>0.006316</td>\n",
       "      <td>5.570664e-01</td>\n",
       "      <td>6.788983e-01</td>\n",
       "      <td>1.454056e+00</td>\n",
       "    </tr>\n",
       "    <tr>\n",
       "      <th>C(color):C(response_color)</th>\n",
       "      <td>1.0</td>\n",
       "      <td>1.691197e-01</td>\n",
       "      <td>1.691197e-01</td>\n",
       "      <td>4.252889e+00</td>\n",
       "      <td>0.078105</td>\n",
       "      <td>1.600777e-01</td>\n",
       "      <td>3.779375e-01</td>\n",
       "      <td>7.794585e-01</td>\n",
       "    </tr>\n",
       "    <tr>\n",
       "      <th>C(word):C(response_color)</th>\n",
       "      <td>1.0</td>\n",
       "      <td>5.620330e-05</td>\n",
       "      <td>5.620330e-05</td>\n",
       "      <td>1.413356e-03</td>\n",
       "      <td>0.971061</td>\n",
       "      <td>5.319839e-05</td>\n",
       "      <td>2.018673e-04</td>\n",
       "      <td>1.420944e-02</td>\n",
       "    </tr>\n",
       "    <tr>\n",
       "      <th>C(color):C(response_word)</th>\n",
       "      <td>1.0</td>\n",
       "      <td>4.886975e-03</td>\n",
       "      <td>4.886975e-03</td>\n",
       "      <td>1.228938e-01</td>\n",
       "      <td>0.736229</td>\n",
       "      <td>4.625693e-03</td>\n",
       "      <td>1.725335e-02</td>\n",
       "      <td>1.325000e-01</td>\n",
       "    </tr>\n",
       "    <tr>\n",
       "      <th>Residual</th>\n",
       "      <td>7.0</td>\n",
       "      <td>2.783608e-01</td>\n",
       "      <td>3.976583e-02</td>\n",
       "      <td>NaN</td>\n",
       "      <td>NaN</td>\n",
       "      <td>2.634783e-01</td>\n",
       "      <td>5.000000e-01</td>\n",
       "      <td>1.000000e+00</td>\n",
       "    </tr>\n",
       "  </tbody>\n",
       "</table>\n",
       "</div>"
      ],
      "text/plain": [
       "                             df        sum_sq       mean_sq             F  \\\n",
       "C(word)                     1.0  2.594039e-17  2.594039e-17  6.523285e-16   \n",
       "C(response_word)            1.0  4.541195e-03  4.541195e-03  1.141984e-01   \n",
       "C(color)                    1.0  2.723118e-16  2.723118e-16  6.847883e-15   \n",
       "C(response_color)           1.0  1.098783e-02  1.098783e-02  2.763133e-01   \n",
       "C(word):C(response_word)    1.0  5.885323e-01  5.885323e-01  1.479995e+01   \n",
       "C(color):C(response_color)  1.0  1.691197e-01  1.691197e-01  4.252889e+00   \n",
       "C(word):C(response_color)   1.0  5.620330e-05  5.620330e-05  1.413356e-03   \n",
       "C(color):C(response_word)   1.0  4.886975e-03  4.886975e-03  1.228938e-01   \n",
       "Residual                    7.0  2.783608e-01  3.976583e-02           NaN   \n",
       "\n",
       "                              PR(>F)        eta_sq  partial_eta_sq  \\\n",
       "C(word)                     1.000000  2.455348e-17    9.318978e-17   \n",
       "C(response_word)            0.745322  4.298400e-03    1.605218e-02   \n",
       "C(color)                    1.000000  2.577526e-16    9.782690e-16   \n",
       "C(response_color)           0.615363  1.040037e-02    3.797436e-02   \n",
       "C(word):C(response_word)    0.006316  5.570664e-01    6.788983e-01   \n",
       "C(color):C(response_color)  0.078105  1.600777e-01    3.779375e-01   \n",
       "C(word):C(response_color)   0.971061  5.319839e-05    2.018673e-04   \n",
       "C(color):C(response_word)   0.736229  4.625693e-03    1.725335e-02   \n",
       "Residual                         NaN  2.634783e-01    5.000000e-01   \n",
       "\n",
       "                                 cohen_f  \n",
       "C(word)                     9.653485e-09  \n",
       "C(response_word)            1.277265e-01  \n",
       "C(color)                    3.127729e-08  \n",
       "C(response_color)           1.986790e-01  \n",
       "C(word):C(response_word)    1.454056e+00  \n",
       "C(color):C(response_color)  7.794585e-01  \n",
       "C(word):C(response_color)   1.420944e-02  \n",
       "C(color):C(response_word)   1.325000e-01  \n",
       "Residual                    1.000000e+00  "
      ]
     },
     "metadata": {},
     "output_type": "display_data"
    }
   ],
   "source": [
    "subset = df.query('(class_set in [\"combined\"]) & (word != \"XXXX\")').copy()\n",
    "subset.loc[:, 'response_word'] = subset['class_name'].str.extract('word is (\\\\w+)')\n",
    "subset.loc[:, 'response_color'] = subset['class_name'].str.extract('(\\\\w+) color')\n",
    "anova_table = extended_anova(subset, 'probability ~  C(word) * C(response_word) + C(color)*C(response_color) + C(word)*C(response_color) + C(color)*C(response_word)')\n",
    "display(anova_table)\n"
   ]
  },
  {
   "cell_type": "code",
   "execution_count": 79,
   "metadata": {},
   "outputs": [
    {
     "data": {
      "text/html": [
       "<div>\n",
       "<style scoped>\n",
       "    .dataframe tbody tr th:only-of-type {\n",
       "        vertical-align: middle;\n",
       "    }\n",
       "\n",
       "    .dataframe tbody tr th {\n",
       "        vertical-align: top;\n",
       "    }\n",
       "\n",
       "    .dataframe thead th {\n",
       "        text-align: right;\n",
       "    }\n",
       "</style>\n",
       "<table border=\"1\" class=\"dataframe\">\n",
       "  <thead>\n",
       "    <tr style=\"text-align: right;\">\n",
       "      <th></th>\n",
       "      <th>df</th>\n",
       "      <th>sum_sq</th>\n",
       "      <th>mean_sq</th>\n",
       "      <th>F</th>\n",
       "      <th>PR(&gt;F)</th>\n",
       "      <th>eta_sq</th>\n",
       "      <th>partial_eta_sq</th>\n",
       "      <th>cohen_f</th>\n",
       "    </tr>\n",
       "  </thead>\n",
       "  <tbody>\n",
       "    <tr>\n",
       "      <th>C(color)</th>\n",
       "      <td>1.0</td>\n",
       "      <td>5.013351e-16</td>\n",
       "      <td>5.013351e-16</td>\n",
       "      <td>3.526719e-14</td>\n",
       "      <td>1.000000</td>\n",
       "      <td>1.581440e-15</td>\n",
       "      <td>1.763359e-14</td>\n",
       "      <td>1.327915e-07</td>\n",
       "    </tr>\n",
       "    <tr>\n",
       "      <th>C(response_color)</th>\n",
       "      <td>1.0</td>\n",
       "      <td>4.728045e-05</td>\n",
       "      <td>4.728045e-05</td>\n",
       "      <td>3.326016e-03</td>\n",
       "      <td>0.959254</td>\n",
       "      <td>1.491442e-04</td>\n",
       "      <td>1.660247e-03</td>\n",
       "      <td>4.077999e-02</td>\n",
       "    </tr>\n",
       "    <tr>\n",
       "      <th>C(response_word)</th>\n",
       "      <td>1.0</td>\n",
       "      <td>2.591455e-02</td>\n",
       "      <td>2.591455e-02</td>\n",
       "      <td>1.822999e+00</td>\n",
       "      <td>0.309456</td>\n",
       "      <td>8.174636e-02</td>\n",
       "      <td>4.768505e-01</td>\n",
       "      <td>9.547249e-01</td>\n",
       "    </tr>\n",
       "    <tr>\n",
       "      <th>C(color):C(response_color)</th>\n",
       "      <td>1.0</td>\n",
       "      <td>1.506669e-01</td>\n",
       "      <td>1.506669e-01</td>\n",
       "      <td>1.059890e+01</td>\n",
       "      <td>0.082800</td>\n",
       "      <td>4.752724e-01</td>\n",
       "      <td>8.412559e-01</td>\n",
       "      <td>2.302053e+00</td>\n",
       "    </tr>\n",
       "    <tr>\n",
       "      <th>C(color):C(response_word)</th>\n",
       "      <td>1.0</td>\n",
       "      <td>1.119523e-01</td>\n",
       "      <td>1.119523e-01</td>\n",
       "      <td>7.875455e+00</td>\n",
       "      <td>0.106984</td>\n",
       "      <td>3.531487e-01</td>\n",
       "      <td>7.974777e-01</td>\n",
       "      <td>1.984371e+00</td>\n",
       "    </tr>\n",
       "    <tr>\n",
       "      <th>Residual</th>\n",
       "      <td>2.0</td>\n",
       "      <td>2.843068e-02</td>\n",
       "      <td>1.421534e-02</td>\n",
       "      <td>NaN</td>\n",
       "      <td>NaN</td>\n",
       "      <td>8.968338e-02</td>\n",
       "      <td>5.000000e-01</td>\n",
       "      <td>1.000000e+00</td>\n",
       "    </tr>\n",
       "  </tbody>\n",
       "</table>\n",
       "</div>"
      ],
      "text/plain": [
       "                             df        sum_sq       mean_sq             F  \\\n",
       "C(color)                    1.0  5.013351e-16  5.013351e-16  3.526719e-14   \n",
       "C(response_color)           1.0  4.728045e-05  4.728045e-05  3.326016e-03   \n",
       "C(response_word)            1.0  2.591455e-02  2.591455e-02  1.822999e+00   \n",
       "C(color):C(response_color)  1.0  1.506669e-01  1.506669e-01  1.059890e+01   \n",
       "C(color):C(response_word)   1.0  1.119523e-01  1.119523e-01  7.875455e+00   \n",
       "Residual                    2.0  2.843068e-02  1.421534e-02           NaN   \n",
       "\n",
       "                              PR(>F)        eta_sq  partial_eta_sq  \\\n",
       "C(color)                    1.000000  1.581440e-15    1.763359e-14   \n",
       "C(response_color)           0.959254  1.491442e-04    1.660247e-03   \n",
       "C(response_word)            0.309456  8.174636e-02    4.768505e-01   \n",
       "C(color):C(response_color)  0.082800  4.752724e-01    8.412559e-01   \n",
       "C(color):C(response_word)   0.106984  3.531487e-01    7.974777e-01   \n",
       "Residual                         NaN  8.968338e-02    5.000000e-01   \n",
       "\n",
       "                                 cohen_f  \n",
       "C(color)                    1.327915e-07  \n",
       "C(response_color)           4.077999e-02  \n",
       "C(response_word)            9.547249e-01  \n",
       "C(color):C(response_color)  2.302053e+00  \n",
       "C(color):C(response_word)   1.984371e+00  \n",
       "Residual                    1.000000e+00  "
      ]
     },
     "metadata": {},
     "output_type": "display_data"
    }
   ],
   "source": [
    "# repeat for XXXX\n",
    "subset = df.query('(class_set in [\"combined\"]) & (word == \"XXXX\")').copy()\n",
    "subset.loc[:, 'response_word'] = subset['class_name'].str.extract('word is (\\\\w+)')\n",
    "subset.loc[:, 'response_color'] = subset['class_name'].str.extract('(\\\\w+) color')\n",
    "anova_table = extended_anova(subset, 'probability ~  C(color)*C(response_color) + C(color)*C(response_word)')\n",
    "display(anova_table)"
   ]
  }
 ],
 "metadata": {
  "kernelspec": {
   "display_name": ".venv",
   "language": "python",
   "name": "python3"
  },
  "language_info": {
   "codemirror_mode": {
    "name": "ipython",
    "version": 3
   },
   "file_extension": ".py",
   "mimetype": "text/x-python",
   "name": "python",
   "nbconvert_exporter": "python",
   "pygments_lexer": "ipython3",
   "version": "3.12.9"
  }
 },
 "nbformat": 4,
 "nbformat_minor": 2
}
