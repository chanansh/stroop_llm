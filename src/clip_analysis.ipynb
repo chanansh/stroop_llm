{
 "cells": [
  {
   "cell_type": "code",
   "execution_count": 1,
   "metadata": {},
   "outputs": [],
   "source": [
    "import pandas as pd\n",
    "import seaborn as sns\n",
    "import plotly.express as px\n",
    "import numpy as np"
   ]
  },
  {
   "cell_type": "code",
   "execution_count": 20,
   "metadata": {},
   "outputs": [],
   "source": [
    "df = pd.read_csv('../results/clip_analysis.csv')"
   ]
  },
  {
   "cell_type": "code",
   "execution_count": 3,
   "metadata": {},
   "outputs": [
    {
     "data": {
      "text/html": [
       "<div>\n",
       "<style scoped>\n",
       "    .dataframe tbody tr th:only-of-type {\n",
       "        vertical-align: middle;\n",
       "    }\n",
       "\n",
       "    .dataframe tbody tr th {\n",
       "        vertical-align: top;\n",
       "    }\n",
       "\n",
       "    .dataframe thead th {\n",
       "        text-align: right;\n",
       "    }\n",
       "</style>\n",
       "<table border=\"1\" class=\"dataframe\">\n",
       "  <thead>\n",
       "    <tr style=\"text-align: right;\">\n",
       "      <th></th>\n",
       "      <th>word</th>\n",
       "      <th>color</th>\n",
       "      <th>class_set</th>\n",
       "      <th>class_name</th>\n",
       "      <th>probability</th>\n",
       "      <th>condition</th>\n",
       "    </tr>\n",
       "  </thead>\n",
       "  <tbody>\n",
       "    <tr>\n",
       "      <th>0</th>\n",
       "      <td>BLUE</td>\n",
       "      <td>red</td>\n",
       "      <td>word_only</td>\n",
       "      <td>the word is blue</td>\n",
       "      <td>0.985489</td>\n",
       "      <td>incongruent</td>\n",
       "    </tr>\n",
       "    <tr>\n",
       "      <th>1</th>\n",
       "      <td>BLUE</td>\n",
       "      <td>red</td>\n",
       "      <td>word_only</td>\n",
       "      <td>the word is red</td>\n",
       "      <td>0.014511</td>\n",
       "      <td>incongruent</td>\n",
       "    </tr>\n",
       "    <tr>\n",
       "      <th>2</th>\n",
       "      <td>BLUE</td>\n",
       "      <td>red</td>\n",
       "      <td>color_only</td>\n",
       "      <td>the color is blue</td>\n",
       "      <td>0.968680</td>\n",
       "      <td>incongruent</td>\n",
       "    </tr>\n",
       "    <tr>\n",
       "      <th>3</th>\n",
       "      <td>BLUE</td>\n",
       "      <td>red</td>\n",
       "      <td>color_only</td>\n",
       "      <td>the color is red</td>\n",
       "      <td>0.031320</td>\n",
       "      <td>incongruent</td>\n",
       "    </tr>\n",
       "    <tr>\n",
       "      <th>4</th>\n",
       "      <td>BLUE</td>\n",
       "      <td>red</td>\n",
       "      <td>combined</td>\n",
       "      <td>the word is blue in red color</td>\n",
       "      <td>0.766408</td>\n",
       "      <td>incongruent</td>\n",
       "    </tr>\n",
       "    <tr>\n",
       "      <th>5</th>\n",
       "      <td>BLUE</td>\n",
       "      <td>red</td>\n",
       "      <td>combined</td>\n",
       "      <td>the word is blue in blue color</td>\n",
       "      <td>0.129493</td>\n",
       "      <td>incongruent</td>\n",
       "    </tr>\n",
       "    <tr>\n",
       "      <th>6</th>\n",
       "      <td>BLUE</td>\n",
       "      <td>red</td>\n",
       "      <td>combined</td>\n",
       "      <td>the word is red in blue color</td>\n",
       "      <td>0.100890</td>\n",
       "      <td>incongruent</td>\n",
       "    </tr>\n",
       "    <tr>\n",
       "      <th>7</th>\n",
       "      <td>BLUE</td>\n",
       "      <td>red</td>\n",
       "      <td>combined</td>\n",
       "      <td>the word is red in red color</td>\n",
       "      <td>0.003209</td>\n",
       "      <td>incongruent</td>\n",
       "    </tr>\n",
       "    <tr>\n",
       "      <th>8</th>\n",
       "      <td>BLUE</td>\n",
       "      <td>blue</td>\n",
       "      <td>word_only</td>\n",
       "      <td>the word is blue</td>\n",
       "      <td>0.998753</td>\n",
       "      <td>congruent</td>\n",
       "    </tr>\n",
       "    <tr>\n",
       "      <th>9</th>\n",
       "      <td>BLUE</td>\n",
       "      <td>blue</td>\n",
       "      <td>word_only</td>\n",
       "      <td>the word is red</td>\n",
       "      <td>0.001247</td>\n",
       "      <td>congruent</td>\n",
       "    </tr>\n",
       "    <tr>\n",
       "      <th>10</th>\n",
       "      <td>BLUE</td>\n",
       "      <td>blue</td>\n",
       "      <td>color_only</td>\n",
       "      <td>the color is blue</td>\n",
       "      <td>0.997611</td>\n",
       "      <td>congruent</td>\n",
       "    </tr>\n",
       "    <tr>\n",
       "      <th>11</th>\n",
       "      <td>BLUE</td>\n",
       "      <td>blue</td>\n",
       "      <td>color_only</td>\n",
       "      <td>the color is red</td>\n",
       "      <td>0.002389</td>\n",
       "      <td>congruent</td>\n",
       "    </tr>\n",
       "    <tr>\n",
       "      <th>12</th>\n",
       "      <td>BLUE</td>\n",
       "      <td>blue</td>\n",
       "      <td>combined</td>\n",
       "      <td>the word is blue in blue color</td>\n",
       "      <td>0.611574</td>\n",
       "      <td>congruent</td>\n",
       "    </tr>\n",
       "    <tr>\n",
       "      <th>13</th>\n",
       "      <td>BLUE</td>\n",
       "      <td>blue</td>\n",
       "      <td>combined</td>\n",
       "      <td>the word is blue in red color</td>\n",
       "      <td>0.327072</td>\n",
       "      <td>congruent</td>\n",
       "    </tr>\n",
       "    <tr>\n",
       "      <th>14</th>\n",
       "      <td>BLUE</td>\n",
       "      <td>blue</td>\n",
       "      <td>combined</td>\n",
       "      <td>the word is red in blue color</td>\n",
       "      <td>0.060718</td>\n",
       "      <td>congruent</td>\n",
       "    </tr>\n",
       "    <tr>\n",
       "      <th>15</th>\n",
       "      <td>BLUE</td>\n",
       "      <td>blue</td>\n",
       "      <td>combined</td>\n",
       "      <td>the word is red in red color</td>\n",
       "      <td>0.000637</td>\n",
       "      <td>congruent</td>\n",
       "    </tr>\n",
       "    <tr>\n",
       "      <th>16</th>\n",
       "      <td>RED</td>\n",
       "      <td>red</td>\n",
       "      <td>word_only</td>\n",
       "      <td>the word is red</td>\n",
       "      <td>0.999637</td>\n",
       "      <td>congruent</td>\n",
       "    </tr>\n",
       "    <tr>\n",
       "      <th>17</th>\n",
       "      <td>RED</td>\n",
       "      <td>red</td>\n",
       "      <td>word_only</td>\n",
       "      <td>the word is blue</td>\n",
       "      <td>0.000363</td>\n",
       "      <td>congruent</td>\n",
       "    </tr>\n",
       "    <tr>\n",
       "      <th>18</th>\n",
       "      <td>RED</td>\n",
       "      <td>red</td>\n",
       "      <td>color_only</td>\n",
       "      <td>the color is red</td>\n",
       "      <td>0.999421</td>\n",
       "      <td>congruent</td>\n",
       "    </tr>\n",
       "    <tr>\n",
       "      <th>19</th>\n",
       "      <td>RED</td>\n",
       "      <td>red</td>\n",
       "      <td>color_only</td>\n",
       "      <td>the color is blue</td>\n",
       "      <td>0.000579</td>\n",
       "      <td>congruent</td>\n",
       "    </tr>\n",
       "    <tr>\n",
       "      <th>20</th>\n",
       "      <td>RED</td>\n",
       "      <td>red</td>\n",
       "      <td>combined</td>\n",
       "      <td>the word is red in red color</td>\n",
       "      <td>0.645096</td>\n",
       "      <td>congruent</td>\n",
       "    </tr>\n",
       "    <tr>\n",
       "      <th>21</th>\n",
       "      <td>RED</td>\n",
       "      <td>red</td>\n",
       "      <td>combined</td>\n",
       "      <td>the word is red in blue color</td>\n",
       "      <td>0.253324</td>\n",
       "      <td>congruent</td>\n",
       "    </tr>\n",
       "    <tr>\n",
       "      <th>22</th>\n",
       "      <td>RED</td>\n",
       "      <td>red</td>\n",
       "      <td>combined</td>\n",
       "      <td>the word is blue in red color</td>\n",
       "      <td>0.101351</td>\n",
       "      <td>congruent</td>\n",
       "    </tr>\n",
       "    <tr>\n",
       "      <th>23</th>\n",
       "      <td>RED</td>\n",
       "      <td>red</td>\n",
       "      <td>combined</td>\n",
       "      <td>the word is blue in blue color</td>\n",
       "      <td>0.000229</td>\n",
       "      <td>congruent</td>\n",
       "    </tr>\n",
       "    <tr>\n",
       "      <th>24</th>\n",
       "      <td>RED</td>\n",
       "      <td>blue</td>\n",
       "      <td>word_only</td>\n",
       "      <td>the word is red</td>\n",
       "      <td>0.989466</td>\n",
       "      <td>incongruent</td>\n",
       "    </tr>\n",
       "    <tr>\n",
       "      <th>25</th>\n",
       "      <td>RED</td>\n",
       "      <td>blue</td>\n",
       "      <td>word_only</td>\n",
       "      <td>the word is blue</td>\n",
       "      <td>0.010534</td>\n",
       "      <td>incongruent</td>\n",
       "    </tr>\n",
       "    <tr>\n",
       "      <th>26</th>\n",
       "      <td>RED</td>\n",
       "      <td>blue</td>\n",
       "      <td>color_only</td>\n",
       "      <td>the color is red</td>\n",
       "      <td>0.984842</td>\n",
       "      <td>incongruent</td>\n",
       "    </tr>\n",
       "    <tr>\n",
       "      <th>27</th>\n",
       "      <td>RED</td>\n",
       "      <td>blue</td>\n",
       "      <td>color_only</td>\n",
       "      <td>the color is blue</td>\n",
       "      <td>0.015158</td>\n",
       "      <td>incongruent</td>\n",
       "    </tr>\n",
       "    <tr>\n",
       "      <th>28</th>\n",
       "      <td>RED</td>\n",
       "      <td>blue</td>\n",
       "      <td>combined</td>\n",
       "      <td>the word is red in blue color</td>\n",
       "      <td>0.632105</td>\n",
       "      <td>incongruent</td>\n",
       "    </tr>\n",
       "    <tr>\n",
       "      <th>29</th>\n",
       "      <td>RED</td>\n",
       "      <td>blue</td>\n",
       "      <td>combined</td>\n",
       "      <td>the word is blue in red color</td>\n",
       "      <td>0.196627</td>\n",
       "      <td>incongruent</td>\n",
       "    </tr>\n",
       "    <tr>\n",
       "      <th>30</th>\n",
       "      <td>RED</td>\n",
       "      <td>blue</td>\n",
       "      <td>combined</td>\n",
       "      <td>the word is red in red color</td>\n",
       "      <td>0.169246</td>\n",
       "      <td>incongruent</td>\n",
       "    </tr>\n",
       "    <tr>\n",
       "      <th>31</th>\n",
       "      <td>RED</td>\n",
       "      <td>blue</td>\n",
       "      <td>combined</td>\n",
       "      <td>the word is blue in blue color</td>\n",
       "      <td>0.002023</td>\n",
       "      <td>incongruent</td>\n",
       "    </tr>\n",
       "    <tr>\n",
       "      <th>32</th>\n",
       "      <td>XXXX</td>\n",
       "      <td>red</td>\n",
       "      <td>word_only</td>\n",
       "      <td>the word is red</td>\n",
       "      <td>0.896383</td>\n",
       "      <td>neutral</td>\n",
       "    </tr>\n",
       "    <tr>\n",
       "      <th>33</th>\n",
       "      <td>XXXX</td>\n",
       "      <td>red</td>\n",
       "      <td>word_only</td>\n",
       "      <td>the word is blue</td>\n",
       "      <td>0.103617</td>\n",
       "      <td>neutral</td>\n",
       "    </tr>\n",
       "    <tr>\n",
       "      <th>34</th>\n",
       "      <td>XXXX</td>\n",
       "      <td>red</td>\n",
       "      <td>color_only</td>\n",
       "      <td>the color is red</td>\n",
       "      <td>0.902432</td>\n",
       "      <td>neutral</td>\n",
       "    </tr>\n",
       "    <tr>\n",
       "      <th>35</th>\n",
       "      <td>XXXX</td>\n",
       "      <td>red</td>\n",
       "      <td>color_only</td>\n",
       "      <td>the color is blue</td>\n",
       "      <td>0.097568</td>\n",
       "      <td>neutral</td>\n",
       "    </tr>\n",
       "    <tr>\n",
       "      <th>36</th>\n",
       "      <td>XXXX</td>\n",
       "      <td>red</td>\n",
       "      <td>combined</td>\n",
       "      <td>the word is red in red color</td>\n",
       "      <td>0.435784</td>\n",
       "      <td>neutral</td>\n",
       "    </tr>\n",
       "    <tr>\n",
       "      <th>37</th>\n",
       "      <td>XXXX</td>\n",
       "      <td>red</td>\n",
       "      <td>combined</td>\n",
       "      <td>the word is blue in red color</td>\n",
       "      <td>0.343548</td>\n",
       "      <td>neutral</td>\n",
       "    </tr>\n",
       "    <tr>\n",
       "      <th>38</th>\n",
       "      <td>XXXX</td>\n",
       "      <td>red</td>\n",
       "      <td>combined</td>\n",
       "      <td>the word is red in blue color</td>\n",
       "      <td>0.186979</td>\n",
       "      <td>neutral</td>\n",
       "    </tr>\n",
       "    <tr>\n",
       "      <th>39</th>\n",
       "      <td>XXXX</td>\n",
       "      <td>red</td>\n",
       "      <td>combined</td>\n",
       "      <td>the word is blue in blue color</td>\n",
       "      <td>0.033689</td>\n",
       "      <td>neutral</td>\n",
       "    </tr>\n",
       "    <tr>\n",
       "      <th>40</th>\n",
       "      <td>XXXX</td>\n",
       "      <td>blue</td>\n",
       "      <td>word_only</td>\n",
       "      <td>the word is blue</td>\n",
       "      <td>0.944828</td>\n",
       "      <td>neutral</td>\n",
       "    </tr>\n",
       "    <tr>\n",
       "      <th>41</th>\n",
       "      <td>XXXX</td>\n",
       "      <td>blue</td>\n",
       "      <td>word_only</td>\n",
       "      <td>the word is red</td>\n",
       "      <td>0.055172</td>\n",
       "      <td>neutral</td>\n",
       "    </tr>\n",
       "    <tr>\n",
       "      <th>42</th>\n",
       "      <td>XXXX</td>\n",
       "      <td>blue</td>\n",
       "      <td>color_only</td>\n",
       "      <td>the color is blue</td>\n",
       "      <td>0.955442</td>\n",
       "      <td>neutral</td>\n",
       "    </tr>\n",
       "    <tr>\n",
       "      <th>43</th>\n",
       "      <td>XXXX</td>\n",
       "      <td>blue</td>\n",
       "      <td>color_only</td>\n",
       "      <td>the color is red</td>\n",
       "      <td>0.044558</td>\n",
       "      <td>neutral</td>\n",
       "    </tr>\n",
       "    <tr>\n",
       "      <th>44</th>\n",
       "      <td>XXXX</td>\n",
       "      <td>blue</td>\n",
       "      <td>combined</td>\n",
       "      <td>the word is blue in blue color</td>\n",
       "      <td>0.642929</td>\n",
       "      <td>neutral</td>\n",
       "    </tr>\n",
       "    <tr>\n",
       "      <th>45</th>\n",
       "      <td>XXXX</td>\n",
       "      <td>blue</td>\n",
       "      <td>combined</td>\n",
       "      <td>the word is blue in red color</td>\n",
       "      <td>0.207494</td>\n",
       "      <td>neutral</td>\n",
       "    </tr>\n",
       "    <tr>\n",
       "      <th>46</th>\n",
       "      <td>XXXX</td>\n",
       "      <td>blue</td>\n",
       "      <td>combined</td>\n",
       "      <td>the word is red in blue color</td>\n",
       "      <td>0.126678</td>\n",
       "      <td>neutral</td>\n",
       "    </tr>\n",
       "    <tr>\n",
       "      <th>47</th>\n",
       "      <td>XXXX</td>\n",
       "      <td>blue</td>\n",
       "      <td>combined</td>\n",
       "      <td>the word is red in red color</td>\n",
       "      <td>0.022899</td>\n",
       "      <td>neutral</td>\n",
       "    </tr>\n",
       "  </tbody>\n",
       "</table>\n",
       "</div>"
      ],
      "text/plain": [
       "    word color   class_set                      class_name  probability  \\\n",
       "0   BLUE   red   word_only                the word is blue     0.985489   \n",
       "1   BLUE   red   word_only                 the word is red     0.014511   \n",
       "2   BLUE   red  color_only               the color is blue     0.968680   \n",
       "3   BLUE   red  color_only                the color is red     0.031320   \n",
       "4   BLUE   red    combined   the word is blue in red color     0.766408   \n",
       "5   BLUE   red    combined  the word is blue in blue color     0.129493   \n",
       "6   BLUE   red    combined   the word is red in blue color     0.100890   \n",
       "7   BLUE   red    combined    the word is red in red color     0.003209   \n",
       "8   BLUE  blue   word_only                the word is blue     0.998753   \n",
       "9   BLUE  blue   word_only                 the word is red     0.001247   \n",
       "10  BLUE  blue  color_only               the color is blue     0.997611   \n",
       "11  BLUE  blue  color_only                the color is red     0.002389   \n",
       "12  BLUE  blue    combined  the word is blue in blue color     0.611574   \n",
       "13  BLUE  blue    combined   the word is blue in red color     0.327072   \n",
       "14  BLUE  blue    combined   the word is red in blue color     0.060718   \n",
       "15  BLUE  blue    combined    the word is red in red color     0.000637   \n",
       "16   RED   red   word_only                 the word is red     0.999637   \n",
       "17   RED   red   word_only                the word is blue     0.000363   \n",
       "18   RED   red  color_only                the color is red     0.999421   \n",
       "19   RED   red  color_only               the color is blue     0.000579   \n",
       "20   RED   red    combined    the word is red in red color     0.645096   \n",
       "21   RED   red    combined   the word is red in blue color     0.253324   \n",
       "22   RED   red    combined   the word is blue in red color     0.101351   \n",
       "23   RED   red    combined  the word is blue in blue color     0.000229   \n",
       "24   RED  blue   word_only                 the word is red     0.989466   \n",
       "25   RED  blue   word_only                the word is blue     0.010534   \n",
       "26   RED  blue  color_only                the color is red     0.984842   \n",
       "27   RED  blue  color_only               the color is blue     0.015158   \n",
       "28   RED  blue    combined   the word is red in blue color     0.632105   \n",
       "29   RED  blue    combined   the word is blue in red color     0.196627   \n",
       "30   RED  blue    combined    the word is red in red color     0.169246   \n",
       "31   RED  blue    combined  the word is blue in blue color     0.002023   \n",
       "32  XXXX   red   word_only                 the word is red     0.896383   \n",
       "33  XXXX   red   word_only                the word is blue     0.103617   \n",
       "34  XXXX   red  color_only                the color is red     0.902432   \n",
       "35  XXXX   red  color_only               the color is blue     0.097568   \n",
       "36  XXXX   red    combined    the word is red in red color     0.435784   \n",
       "37  XXXX   red    combined   the word is blue in red color     0.343548   \n",
       "38  XXXX   red    combined   the word is red in blue color     0.186979   \n",
       "39  XXXX   red    combined  the word is blue in blue color     0.033689   \n",
       "40  XXXX  blue   word_only                the word is blue     0.944828   \n",
       "41  XXXX  blue   word_only                 the word is red     0.055172   \n",
       "42  XXXX  blue  color_only               the color is blue     0.955442   \n",
       "43  XXXX  blue  color_only                the color is red     0.044558   \n",
       "44  XXXX  blue    combined  the word is blue in blue color     0.642929   \n",
       "45  XXXX  blue    combined   the word is blue in red color     0.207494   \n",
       "46  XXXX  blue    combined   the word is red in blue color     0.126678   \n",
       "47  XXXX  blue    combined    the word is red in red color     0.022899   \n",
       "\n",
       "      condition  \n",
       "0   incongruent  \n",
       "1   incongruent  \n",
       "2   incongruent  \n",
       "3   incongruent  \n",
       "4   incongruent  \n",
       "5   incongruent  \n",
       "6   incongruent  \n",
       "7   incongruent  \n",
       "8     congruent  \n",
       "9     congruent  \n",
       "10    congruent  \n",
       "11    congruent  \n",
       "12    congruent  \n",
       "13    congruent  \n",
       "14    congruent  \n",
       "15    congruent  \n",
       "16    congruent  \n",
       "17    congruent  \n",
       "18    congruent  \n",
       "19    congruent  \n",
       "20    congruent  \n",
       "21    congruent  \n",
       "22    congruent  \n",
       "23    congruent  \n",
       "24  incongruent  \n",
       "25  incongruent  \n",
       "26  incongruent  \n",
       "27  incongruent  \n",
       "28  incongruent  \n",
       "29  incongruent  \n",
       "30  incongruent  \n",
       "31  incongruent  \n",
       "32      neutral  \n",
       "33      neutral  \n",
       "34      neutral  \n",
       "35      neutral  \n",
       "36      neutral  \n",
       "37      neutral  \n",
       "38      neutral  \n",
       "39      neutral  \n",
       "40      neutral  \n",
       "41      neutral  \n",
       "42      neutral  \n",
       "43      neutral  \n",
       "44      neutral  \n",
       "45      neutral  \n",
       "46      neutral  \n",
       "47      neutral  "
      ]
     },
     "execution_count": 3,
     "metadata": {},
     "output_type": "execute_result"
    }
   ],
   "source": [
    "df['condition'] = np.where(df['word'].str.lower() == df['color'].str.lower(), 'congruent', 'incongruent')\n",
    "df.loc[df['word'] == 'XXXX', 'condition'] = 'neutral'\n",
    "df\n",
    "\n"
   ]
  },
  {
   "cell_type": "code",
   "execution_count": 38,
   "metadata": {},
   "outputs": [
    {
     "data": {
      "application/vnd.plotly.v1+json": {
       "config": {
        "plotlyServerURL": "https://plot.ly"
       },
       "data": [
        {
         "alignmentgroup": "True",
         "customdata": [
          [
           "BLUE",
           "red",
           "word_only"
          ],
          [
           "BLUE",
           "red",
           "word_only"
          ]
         ],
         "hovertemplate": "color=%{customdata[1]}<br>word=%{customdata[0]}<br>class_set=%{customdata[2]}<br>class_name=%{x}<br>probability=%{y}<extra></extra>",
         "legendgroup": "red",
         "marker": {
          "color": "red",
          "pattern": {
           "shape": ""
          }
         },
         "name": "red",
         "offsetgroup": "red",
         "orientation": "v",
         "showlegend": true,
         "textposition": "auto",
         "type": "bar",
         "x": [
          "the word is blue",
          "the word is red"
         ],
         "xaxis": "x7",
         "y": {
          "bdata": "AQAAICGJ7z/M//8fureNPw==",
          "dtype": "f8"
         },
         "yaxis": "y7"
        },
        {
         "alignmentgroup": "True",
         "customdata": [
          [
           "BLUE",
           "red",
           "color_only"
          ],
          [
           "BLUE",
           "red",
           "color_only"
          ]
         ],
         "hovertemplate": "color=%{customdata[1]}<br>word=%{customdata[0]}<br>class_set=%{customdata[2]}<br>class_name=%{x}<br>probability=%{y}<extra></extra>",
         "legendgroup": "red",
         "marker": {
          "color": "red",
          "pattern": {
           "shape": ""
          }
         },
         "name": "red",
         "offsetgroup": "red",
         "orientation": "v",
         "showlegend": false,
         "textposition": "auto",
         "type": "bar",
         "x": [
          "the color is blue",
          "the color is red"
         ],
         "xaxis": "x8",
         "y": {
          "bdata": "AAAAoG3/7j/+//+fIwmgPw==",
          "dtype": "f8"
         },
         "yaxis": "y8"
        },
        {
         "alignmentgroup": "True",
         "customdata": [
          [
           "BLUE",
           "red",
           "combined"
          ],
          [
           "BLUE",
           "red",
           "combined"
          ],
          [
           "BLUE",
           "red",
           "combined"
          ],
          [
           "BLUE",
           "red",
           "combined"
          ]
         ],
         "hovertemplate": "color=%{customdata[1]}<br>word=%{customdata[0]}<br>class_set=%{customdata[2]}<br>class_name=%{x}<br>probability=%{y}<extra></extra>",
         "legendgroup": "red",
         "marker": {
          "color": "red",
          "pattern": {
           "shape": ""
          }
         },
         "name": "red",
         "offsetgroup": "red",
         "orientation": "v",
         "showlegend": false,
         "textposition": "auto",
         "type": "bar",
         "x": [
          "the word is blue in red color",
          "the word is blue in blue color",
          "the word is red in blue color",
          "the word is red in red color"
         ],
         "xaxis": "x9",
         "y": {
          "bdata": "AAAAoGqG6D////+fOpPAP/r//3/o07k/ov//v8JJaj8=",
          "dtype": "f8"
         },
         "yaxis": "y9"
        },
        {
         "alignmentgroup": "True",
         "customdata": [
          [
           "RED",
           "red",
           "word_only"
          ],
          [
           "RED",
           "red",
           "word_only"
          ]
         ],
         "hovertemplate": "color=%{customdata[1]}<br>word=%{customdata[0]}<br>class_set=%{customdata[2]}<br>class_name=%{x}<br>probability=%{y}<extra></extra>",
         "legendgroup": "red",
         "marker": {
          "color": "red",
          "pattern": {
           "shape": ""
          }
         },
         "name": "red",
         "offsetgroup": "red",
         "orientation": "v",
         "showlegend": false,
         "textposition": "auto",
         "type": "bar",
         "x": [
          "the word is red",
          "the word is blue"
         ],
         "xaxis": "x4",
         "y": {
          "bdata": "////vwX97z/a+/8/aNE3Pw==",
          "dtype": "f8"
         },
         "yaxis": "y4"
        },
        {
         "alignmentgroup": "True",
         "customdata": [
          [
           "RED",
           "red",
           "color_only"
          ],
          [
           "RED",
           "red",
           "color_only"
          ]
         ],
         "hovertemplate": "color=%{customdata[1]}<br>word=%{customdata[0]}<br>class_set=%{customdata[2]}<br>class_name=%{x}<br>probability=%{y}<extra></extra>",
         "legendgroup": "red",
         "marker": {
          "color": "red",
          "pattern": {
           "shape": ""
          }
         },
         "name": "red",
         "offsetgroup": "red",
         "orientation": "v",
         "showlegend": false,
         "textposition": "auto",
         "type": "bar",
         "x": [
          "the color is red",
          "the color is blue"
         ],
         "xaxis": "x5",
         "y": {
          "bdata": "AAAAAEL77z8h////JPhCPw==",
          "dtype": "f8"
         },
         "yaxis": "y5"
        },
        {
         "alignmentgroup": "True",
         "customdata": [
          [
           "RED",
           "red",
           "combined"
          ],
          [
           "RED",
           "red",
           "combined"
          ],
          [
           "RED",
           "red",
           "combined"
          ],
          [
           "RED",
           "red",
           "combined"
          ]
         ],
         "hovertemplate": "color=%{customdata[1]}<br>word=%{customdata[0]}<br>class_set=%{customdata[2]}<br>class_name=%{x}<br>probability=%{y}<extra></extra>",
         "legendgroup": "red",
         "marker": {
          "color": "red",
          "pattern": {
           "shape": ""
          }
         },
         "name": "red",
         "offsetgroup": "red",
         "orientation": "v",
         "showlegend": false,
         "textposition": "auto",
         "type": "bar",
         "x": [
          "the word is red in red color",
          "the word is red in blue color",
          "the word is blue in red color",
          "the word is blue in blue color"
         ],
         "xaxis": "x6",
         "y": {
          "bdata": "AAAAYKCk5D////8fdTbQP/7//38n8rk/uf7//1MCLj8=",
          "dtype": "f8"
         },
         "yaxis": "y6"
        },
        {
         "alignmentgroup": "True",
         "customdata": [
          [
           "XXXX",
           "red",
           "word_only"
          ],
          [
           "XXXX",
           "red",
           "word_only"
          ]
         ],
         "hovertemplate": "color=%{customdata[1]}<br>word=%{customdata[0]}<br>class_set=%{customdata[2]}<br>class_name=%{x}<br>probability=%{y}<extra></extra>",
         "legendgroup": "red",
         "marker": {
          "color": "red",
          "pattern": {
           "shape": ""
          }
         },
         "name": "red",
         "offsetgroup": "red",
         "orientation": "v",
         "showlegend": false,
         "textposition": "auto",
         "type": "bar",
         "x": [
          "the word is red",
          "the word is blue"
         ],
         "xaxis": "x",
         "y": {
          "bdata": "AAAAgCqv7D/8//9/rIa6Pw==",
          "dtype": "f8"
         },
         "yaxis": "y"
        },
        {
         "alignmentgroup": "True",
         "customdata": [
          [
           "XXXX",
           "red",
           "color_only"
          ],
          [
           "XXXX",
           "red",
           "color_only"
          ]
         ],
         "hovertemplate": "color=%{customdata[1]}<br>word=%{customdata[0]}<br>class_set=%{customdata[2]}<br>class_name=%{x}<br>probability=%{y}<extra></extra>",
         "legendgroup": "red",
         "marker": {
          "color": "red",
          "pattern": {
           "shape": ""
          }
         },
         "name": "red",
         "offsetgroup": "red",
         "orientation": "v",
         "showlegend": false,
         "textposition": "auto",
         "type": "bar",
         "x": [
          "the color is red",
          "the color is blue"
         ],
         "xaxis": "x2",
         "y": {
          "bdata": "////f7jg7D/+////O/q4Pw==",
          "dtype": "f8"
         },
         "yaxis": "y2"
        },
        {
         "alignmentgroup": "True",
         "customdata": [
          [
           "XXXX",
           "red",
           "combined"
          ],
          [
           "XXXX",
           "red",
           "combined"
          ],
          [
           "XXXX",
           "red",
           "combined"
          ],
          [
           "XXXX",
           "red",
           "combined"
          ]
         ],
         "hovertemplate": "color=%{customdata[1]}<br>word=%{customdata[0]}<br>class_set=%{customdata[2]}<br>class_name=%{x}<br>probability=%{y}<extra></extra>",
         "legendgroup": "red",
         "marker": {
          "color": "red",
          "pattern": {
           "shape": ""
          }
         },
         "name": "red",
         "offsetgroup": "red",
         "orientation": "v",
         "showlegend": false,
         "textposition": "auto",
         "type": "bar",
         "x": [
          "the word is red in red color",
          "the word is blue in red color",
          "the word is red in blue color",
          "the word is blue in blue color"
         ],
         "xaxis": "x3",
         "y": {
          "bdata": "AAAAYOHj2z////8fsPzVP/3////t7sc/////X74/oT8=",
          "dtype": "f8"
         },
         "yaxis": "y3"
        },
        {
         "alignmentgroup": "True",
         "customdata": [
          [
           "BLUE",
           "blue",
           "word_only"
          ],
          [
           "BLUE",
           "blue",
           "word_only"
          ]
         ],
         "hovertemplate": "color=%{customdata[1]}<br>word=%{customdata[0]}<br>class_set=%{customdata[2]}<br>class_name=%{x}<br>probability=%{y}<extra></extra>",
         "legendgroup": "blue",
         "marker": {
          "color": "blue",
          "pattern": {
           "shape": ""
          }
         },
         "name": "blue",
         "offsetgroup": "blue",
         "orientation": "v",
         "showlegend": true,
         "textposition": "auto",
         "type": "bar",
         "x": [
          "the word is blue",
          "the word is red"
         ],
         "xaxis": "x7",
         "y": {
          "bdata": "AAAAQMn17z/Q//9fg21UPw==",
          "dtype": "f8"
         },
         "yaxis": "y7"
        },
        {
         "alignmentgroup": "True",
         "customdata": [
          [
           "BLUE",
           "blue",
           "color_only"
          ],
          [
           "BLUE",
           "blue",
           "color_only"
          ]
         ],
         "hovertemplate": "color=%{customdata[1]}<br>word=%{customdata[0]}<br>class_set=%{customdata[2]}<br>class_name=%{x}<br>probability=%{y}<extra></extra>",
         "legendgroup": "blue",
         "marker": {
          "color": "blue",
          "pattern": {
           "shape": ""
          }
         },
         "name": "blue",
         "offsetgroup": "blue",
         "orientation": "v",
         "showlegend": false,
         "textposition": "auto",
         "type": "bar",
         "x": [
          "the color is blue",
          "the color is red"
         ],
         "xaxis": "x8",
         "y": {
          "bdata": "AAAAwG3s7z/z//9fKZJjPw==",
          "dtype": "f8"
         },
         "yaxis": "y8"
        },
        {
         "alignmentgroup": "True",
         "customdata": [
          [
           "BLUE",
           "blue",
           "combined"
          ],
          [
           "BLUE",
           "blue",
           "combined"
          ],
          [
           "BLUE",
           "blue",
           "combined"
          ],
          [
           "BLUE",
           "blue",
           "combined"
          ]
         ],
         "hovertemplate": "color=%{customdata[1]}<br>word=%{customdata[0]}<br>class_set=%{customdata[2]}<br>class_name=%{x}<br>probability=%{y}<extra></extra>",
         "legendgroup": "blue",
         "marker": {
          "color": "blue",
          "pattern": {
           "shape": ""
          }
         },
         "name": "blue",
         "offsetgroup": "blue",
         "orientation": "v",
         "showlegend": false,
         "textposition": "auto",
         "type": "bar",
         "x": [
          "the word is blue in blue color",
          "the word is blue in red color",
          "the word is red in blue color",
          "the word is red in red color"
         ],
         "xaxis": "x9",
         "y": {
          "bdata": "AAAAoAKS4z8AAADgv+7UP/j//19lFq8/2Pz/PyDcRD8=",
          "dtype": "f8"
         },
         "yaxis": "y9"
        },
        {
         "alignmentgroup": "True",
         "customdata": [
          [
           "RED",
           "blue",
           "word_only"
          ],
          [
           "RED",
           "blue",
           "word_only"
          ]
         ],
         "hovertemplate": "color=%{customdata[1]}<br>word=%{customdata[0]}<br>class_set=%{customdata[2]}<br>class_name=%{x}<br>probability=%{y}<extra></extra>",
         "legendgroup": "blue",
         "marker": {
          "color": "blue",
          "pattern": {
           "shape": ""
          }
         },
         "name": "blue",
         "offsetgroup": "blue",
         "orientation": "v",
         "showlegend": false,
         "textposition": "auto",
         "type": "bar",
         "x": [
          "the word is red",
          "the word is blue"
         ],
         "xaxis": "x4",
         "y": {
          "bdata": "AAAA4LSp7z/r//9/v5KFPw==",
          "dtype": "f8"
         },
         "yaxis": "y4"
        },
        {
         "alignmentgroup": "True",
         "customdata": [
          [
           "RED",
           "blue",
           "color_only"
          ],
          [
           "RED",
           "blue",
           "color_only"
          ]
         ],
         "hovertemplate": "color=%{customdata[1]}<br>word=%{customdata[0]}<br>class_set=%{customdata[2]}<br>class_name=%{x}<br>probability=%{y}<extra></extra>",
         "legendgroup": "blue",
         "marker": {
          "color": "blue",
          "pattern": {
           "shape": ""
          }
         },
         "name": "blue",
         "offsetgroup": "blue",
         "orientation": "v",
         "showlegend": false,
         "textposition": "auto",
         "type": "bar",
         "x": [
          "the color is red",
          "the color is blue"
         ],
         "xaxis": "x5",
         "y": {
          "bdata": "AQAAANSD7z/p//9fBwuPPw==",
          "dtype": "f8"
         },
         "yaxis": "y5"
        },
        {
         "alignmentgroup": "True",
         "customdata": [
          [
           "RED",
           "blue",
           "combined"
          ],
          [
           "RED",
           "blue",
           "combined"
          ],
          [
           "RED",
           "blue",
           "combined"
          ],
          [
           "RED",
           "blue",
           "combined"
          ]
         ],
         "hovertemplate": "color=%{customdata[1]}<br>word=%{customdata[0]}<br>class_set=%{customdata[2]}<br>class_name=%{x}<br>probability=%{y}<extra></extra>",
         "legendgroup": "blue",
         "marker": {
          "color": "blue",
          "pattern": {
           "shape": ""
          }
         },
         "name": "blue",
         "offsetgroup": "blue",
         "orientation": "v",
         "showlegend": false,
         "textposition": "auto",
         "type": "bar",
         "x": [
          "the word is red in blue color",
          "the word is blue in red color",
          "the word is red in red color",
          "the word is blue in blue color"
         ],
         "xaxis": "x6",
         "y": {
          "bdata": "AAAAgDM65D/+////ECvJP/7//x/YqcU/Tv//f0aSYD8=",
          "dtype": "f8"
         },
         "yaxis": "y6"
        },
        {
         "alignmentgroup": "True",
         "customdata": [
          [
           "XXXX",
           "blue",
           "word_only"
          ],
          [
           "XXXX",
           "blue",
           "word_only"
          ]
         ],
         "hovertemplate": "color=%{customdata[1]}<br>word=%{customdata[0]}<br>class_set=%{customdata[2]}<br>class_name=%{x}<br>probability=%{y}<extra></extra>",
         "legendgroup": "blue",
         "marker": {
          "color": "blue",
          "pattern": {
           "shape": ""
          }
         },
         "name": "blue",
         "offsetgroup": "blue",
         "orientation": "v",
         "showlegend": false,
         "textposition": "auto",
         "type": "bar",
         "x": [
          "the word is blue",
          "the word is red"
         ],
         "xaxis": "x",
         "y": {
          "bdata": "AAAA4Ac87j/2//+fgD+sPw==",
          "dtype": "f8"
         },
         "yaxis": "y"
        },
        {
         "alignmentgroup": "True",
         "customdata": [
          [
           "XXXX",
           "blue",
           "color_only"
          ],
          [
           "XXXX",
           "blue",
           "color_only"
          ]
         ],
         "hovertemplate": "color=%{customdata[1]}<br>word=%{customdata[0]}<br>class_set=%{customdata[2]}<br>class_name=%{x}<br>probability=%{y}<extra></extra>",
         "legendgroup": "blue",
         "marker": {
          "color": "blue",
          "pattern": {
           "shape": ""
          }
         },
         "name": "blue",
         "offsetgroup": "blue",
         "orientation": "v",
         "showlegend": false,
         "textposition": "auto",
         "type": "bar",
         "x": [
          "the color is blue",
          "the color is red"
         ],
         "xaxis": "x2",
         "y": {
          "bdata": "AAAAAPyS7j/8//9/PtCmPw==",
          "dtype": "f8"
         },
         "yaxis": "y2"
        },
        {
         "alignmentgroup": "True",
         "customdata": [
          [
           "XXXX",
           "blue",
           "combined"
          ],
          [
           "XXXX",
           "blue",
           "combined"
          ],
          [
           "XXXX",
           "blue",
           "combined"
          ],
          [
           "XXXX",
           "blue",
           "combined"
          ]
         ],
         "hovertemplate": "color=%{customdata[1]}<br>word=%{customdata[0]}<br>class_set=%{customdata[2]}<br>class_name=%{x}<br>probability=%{y}<extra></extra>",
         "legendgroup": "blue",
         "marker": {
          "color": "blue",
          "pattern": {
           "shape": ""
          }
         },
         "name": "blue",
         "offsetgroup": "blue",
         "orientation": "v",
         "showlegend": false,
         "textposition": "auto",
         "type": "bar",
         "x": [
          "the word is blue in blue color",
          "the word is blue in red color",
          "the word is red in blue color",
          "the word is red in red color"
         ],
         "xaxis": "x3",
         "y": {
          "bdata": "AAAAgN+S5D/+//9/KY/KPwAAAOD/NsA/9v//f8Vylz8=",
          "dtype": "f8"
         },
         "yaxis": "y3"
        }
       ],
       "layout": {
        "annotations": [
         {
          "font": {},
          "showarrow": false,
          "text": "class_set=word_only",
          "x": 0.15666666666666665,
          "xanchor": "center",
          "xref": "paper",
          "y": 0.9999999999999998,
          "yanchor": "bottom",
          "yref": "paper"
         },
         {
          "font": {},
          "showarrow": false,
          "text": "class_set=color_only",
          "x": 0.49,
          "xanchor": "center",
          "xref": "paper",
          "y": 0.9999999999999998,
          "yanchor": "bottom",
          "yref": "paper"
         },
         {
          "font": {},
          "showarrow": false,
          "text": "class_set=combined",
          "x": 0.8233333333333333,
          "xanchor": "center",
          "xref": "paper",
          "y": 0.9999999999999998,
          "yanchor": "bottom",
          "yref": "paper"
         },
         {
          "font": {},
          "showarrow": false,
          "text": "word=XXXX",
          "textangle": 90,
          "x": 0.98,
          "xanchor": "left",
          "xref": "paper",
          "y": 0.15666666666666665,
          "yanchor": "middle",
          "yref": "paper"
         },
         {
          "font": {},
          "showarrow": false,
          "text": "word=RED",
          "textangle": 90,
          "x": 0.98,
          "xanchor": "left",
          "xref": "paper",
          "y": 0.4999999999999999,
          "yanchor": "middle",
          "yref": "paper"
         },
         {
          "font": {},
          "showarrow": false,
          "text": "word=BLUE",
          "textangle": 90,
          "x": 0.98,
          "xanchor": "left",
          "xref": "paper",
          "y": 0.8433333333333332,
          "yanchor": "middle",
          "yref": "paper"
         }
        ],
        "barmode": "group",
        "height": 800,
        "legend": {
         "title": {
          "text": "color"
         },
         "tracegroupgap": 0
        },
        "margin": {
         "t": 60
        },
        "template": {
         "data": {
          "bar": [
           {
            "error_x": {
             "color": "#2a3f5f"
            },
            "error_y": {
             "color": "#2a3f5f"
            },
            "marker": {
             "line": {
              "color": "#E5ECF6",
              "width": 0.5
             },
             "pattern": {
              "fillmode": "overlay",
              "size": 10,
              "solidity": 0.2
             }
            },
            "type": "bar"
           }
          ],
          "barpolar": [
           {
            "marker": {
             "line": {
              "color": "#E5ECF6",
              "width": 0.5
             },
             "pattern": {
              "fillmode": "overlay",
              "size": 10,
              "solidity": 0.2
             }
            },
            "type": "barpolar"
           }
          ],
          "carpet": [
           {
            "aaxis": {
             "endlinecolor": "#2a3f5f",
             "gridcolor": "white",
             "linecolor": "white",
             "minorgridcolor": "white",
             "startlinecolor": "#2a3f5f"
            },
            "baxis": {
             "endlinecolor": "#2a3f5f",
             "gridcolor": "white",
             "linecolor": "white",
             "minorgridcolor": "white",
             "startlinecolor": "#2a3f5f"
            },
            "type": "carpet"
           }
          ],
          "choropleth": [
           {
            "colorbar": {
             "outlinewidth": 0,
             "ticks": ""
            },
            "type": "choropleth"
           }
          ],
          "contour": [
           {
            "colorbar": {
             "outlinewidth": 0,
             "ticks": ""
            },
            "colorscale": [
             [
              0,
              "#0d0887"
             ],
             [
              0.1111111111111111,
              "#46039f"
             ],
             [
              0.2222222222222222,
              "#7201a8"
             ],
             [
              0.3333333333333333,
              "#9c179e"
             ],
             [
              0.4444444444444444,
              "#bd3786"
             ],
             [
              0.5555555555555556,
              "#d8576b"
             ],
             [
              0.6666666666666666,
              "#ed7953"
             ],
             [
              0.7777777777777778,
              "#fb9f3a"
             ],
             [
              0.8888888888888888,
              "#fdca26"
             ],
             [
              1,
              "#f0f921"
             ]
            ],
            "type": "contour"
           }
          ],
          "contourcarpet": [
           {
            "colorbar": {
             "outlinewidth": 0,
             "ticks": ""
            },
            "type": "contourcarpet"
           }
          ],
          "heatmap": [
           {
            "colorbar": {
             "outlinewidth": 0,
             "ticks": ""
            },
            "colorscale": [
             [
              0,
              "#0d0887"
             ],
             [
              0.1111111111111111,
              "#46039f"
             ],
             [
              0.2222222222222222,
              "#7201a8"
             ],
             [
              0.3333333333333333,
              "#9c179e"
             ],
             [
              0.4444444444444444,
              "#bd3786"
             ],
             [
              0.5555555555555556,
              "#d8576b"
             ],
             [
              0.6666666666666666,
              "#ed7953"
             ],
             [
              0.7777777777777778,
              "#fb9f3a"
             ],
             [
              0.8888888888888888,
              "#fdca26"
             ],
             [
              1,
              "#f0f921"
             ]
            ],
            "type": "heatmap"
           }
          ],
          "histogram": [
           {
            "marker": {
             "pattern": {
              "fillmode": "overlay",
              "size": 10,
              "solidity": 0.2
             }
            },
            "type": "histogram"
           }
          ],
          "histogram2d": [
           {
            "colorbar": {
             "outlinewidth": 0,
             "ticks": ""
            },
            "colorscale": [
             [
              0,
              "#0d0887"
             ],
             [
              0.1111111111111111,
              "#46039f"
             ],
             [
              0.2222222222222222,
              "#7201a8"
             ],
             [
              0.3333333333333333,
              "#9c179e"
             ],
             [
              0.4444444444444444,
              "#bd3786"
             ],
             [
              0.5555555555555556,
              "#d8576b"
             ],
             [
              0.6666666666666666,
              "#ed7953"
             ],
             [
              0.7777777777777778,
              "#fb9f3a"
             ],
             [
              0.8888888888888888,
              "#fdca26"
             ],
             [
              1,
              "#f0f921"
             ]
            ],
            "type": "histogram2d"
           }
          ],
          "histogram2dcontour": [
           {
            "colorbar": {
             "outlinewidth": 0,
             "ticks": ""
            },
            "colorscale": [
             [
              0,
              "#0d0887"
             ],
             [
              0.1111111111111111,
              "#46039f"
             ],
             [
              0.2222222222222222,
              "#7201a8"
             ],
             [
              0.3333333333333333,
              "#9c179e"
             ],
             [
              0.4444444444444444,
              "#bd3786"
             ],
             [
              0.5555555555555556,
              "#d8576b"
             ],
             [
              0.6666666666666666,
              "#ed7953"
             ],
             [
              0.7777777777777778,
              "#fb9f3a"
             ],
             [
              0.8888888888888888,
              "#fdca26"
             ],
             [
              1,
              "#f0f921"
             ]
            ],
            "type": "histogram2dcontour"
           }
          ],
          "mesh3d": [
           {
            "colorbar": {
             "outlinewidth": 0,
             "ticks": ""
            },
            "type": "mesh3d"
           }
          ],
          "parcoords": [
           {
            "line": {
             "colorbar": {
              "outlinewidth": 0,
              "ticks": ""
             }
            },
            "type": "parcoords"
           }
          ],
          "pie": [
           {
            "automargin": true,
            "type": "pie"
           }
          ],
          "scatter": [
           {
            "fillpattern": {
             "fillmode": "overlay",
             "size": 10,
             "solidity": 0.2
            },
            "type": "scatter"
           }
          ],
          "scatter3d": [
           {
            "line": {
             "colorbar": {
              "outlinewidth": 0,
              "ticks": ""
             }
            },
            "marker": {
             "colorbar": {
              "outlinewidth": 0,
              "ticks": ""
             }
            },
            "type": "scatter3d"
           }
          ],
          "scattercarpet": [
           {
            "marker": {
             "colorbar": {
              "outlinewidth": 0,
              "ticks": ""
             }
            },
            "type": "scattercarpet"
           }
          ],
          "scattergeo": [
           {
            "marker": {
             "colorbar": {
              "outlinewidth": 0,
              "ticks": ""
             }
            },
            "type": "scattergeo"
           }
          ],
          "scattergl": [
           {
            "marker": {
             "colorbar": {
              "outlinewidth": 0,
              "ticks": ""
             }
            },
            "type": "scattergl"
           }
          ],
          "scattermap": [
           {
            "marker": {
             "colorbar": {
              "outlinewidth": 0,
              "ticks": ""
             }
            },
            "type": "scattermap"
           }
          ],
          "scattermapbox": [
           {
            "marker": {
             "colorbar": {
              "outlinewidth": 0,
              "ticks": ""
             }
            },
            "type": "scattermapbox"
           }
          ],
          "scatterpolar": [
           {
            "marker": {
             "colorbar": {
              "outlinewidth": 0,
              "ticks": ""
             }
            },
            "type": "scatterpolar"
           }
          ],
          "scatterpolargl": [
           {
            "marker": {
             "colorbar": {
              "outlinewidth": 0,
              "ticks": ""
             }
            },
            "type": "scatterpolargl"
           }
          ],
          "scatterternary": [
           {
            "marker": {
             "colorbar": {
              "outlinewidth": 0,
              "ticks": ""
             }
            },
            "type": "scatterternary"
           }
          ],
          "surface": [
           {
            "colorbar": {
             "outlinewidth": 0,
             "ticks": ""
            },
            "colorscale": [
             [
              0,
              "#0d0887"
             ],
             [
              0.1111111111111111,
              "#46039f"
             ],
             [
              0.2222222222222222,
              "#7201a8"
             ],
             [
              0.3333333333333333,
              "#9c179e"
             ],
             [
              0.4444444444444444,
              "#bd3786"
             ],
             [
              0.5555555555555556,
              "#d8576b"
             ],
             [
              0.6666666666666666,
              "#ed7953"
             ],
             [
              0.7777777777777778,
              "#fb9f3a"
             ],
             [
              0.8888888888888888,
              "#fdca26"
             ],
             [
              1,
              "#f0f921"
             ]
            ],
            "type": "surface"
           }
          ],
          "table": [
           {
            "cells": {
             "fill": {
              "color": "#EBF0F8"
             },
             "line": {
              "color": "white"
             }
            },
            "header": {
             "fill": {
              "color": "#C8D4E3"
             },
             "line": {
              "color": "white"
             }
            },
            "type": "table"
           }
          ]
         },
         "layout": {
          "annotationdefaults": {
           "arrowcolor": "#2a3f5f",
           "arrowhead": 0,
           "arrowwidth": 1
          },
          "autotypenumbers": "strict",
          "coloraxis": {
           "colorbar": {
            "outlinewidth": 0,
            "ticks": ""
           }
          },
          "colorscale": {
           "diverging": [
            [
             0,
             "#8e0152"
            ],
            [
             0.1,
             "#c51b7d"
            ],
            [
             0.2,
             "#de77ae"
            ],
            [
             0.3,
             "#f1b6da"
            ],
            [
             0.4,
             "#fde0ef"
            ],
            [
             0.5,
             "#f7f7f7"
            ],
            [
             0.6,
             "#e6f5d0"
            ],
            [
             0.7,
             "#b8e186"
            ],
            [
             0.8,
             "#7fbc41"
            ],
            [
             0.9,
             "#4d9221"
            ],
            [
             1,
             "#276419"
            ]
           ],
           "sequential": [
            [
             0,
             "#0d0887"
            ],
            [
             0.1111111111111111,
             "#46039f"
            ],
            [
             0.2222222222222222,
             "#7201a8"
            ],
            [
             0.3333333333333333,
             "#9c179e"
            ],
            [
             0.4444444444444444,
             "#bd3786"
            ],
            [
             0.5555555555555556,
             "#d8576b"
            ],
            [
             0.6666666666666666,
             "#ed7953"
            ],
            [
             0.7777777777777778,
             "#fb9f3a"
            ],
            [
             0.8888888888888888,
             "#fdca26"
            ],
            [
             1,
             "#f0f921"
            ]
           ],
           "sequentialminus": [
            [
             0,
             "#0d0887"
            ],
            [
             0.1111111111111111,
             "#46039f"
            ],
            [
             0.2222222222222222,
             "#7201a8"
            ],
            [
             0.3333333333333333,
             "#9c179e"
            ],
            [
             0.4444444444444444,
             "#bd3786"
            ],
            [
             0.5555555555555556,
             "#d8576b"
            ],
            [
             0.6666666666666666,
             "#ed7953"
            ],
            [
             0.7777777777777778,
             "#fb9f3a"
            ],
            [
             0.8888888888888888,
             "#fdca26"
            ],
            [
             1,
             "#f0f921"
            ]
           ]
          },
          "colorway": [
           "#636efa",
           "#EF553B",
           "#00cc96",
           "#ab63fa",
           "#FFA15A",
           "#19d3f3",
           "#FF6692",
           "#B6E880",
           "#FF97FF",
           "#FECB52"
          ],
          "font": {
           "color": "#2a3f5f"
          },
          "geo": {
           "bgcolor": "white",
           "lakecolor": "white",
           "landcolor": "#E5ECF6",
           "showlakes": true,
           "showland": true,
           "subunitcolor": "white"
          },
          "hoverlabel": {
           "align": "left"
          },
          "hovermode": "closest",
          "mapbox": {
           "style": "light"
          },
          "paper_bgcolor": "white",
          "plot_bgcolor": "#E5ECF6",
          "polar": {
           "angularaxis": {
            "gridcolor": "white",
            "linecolor": "white",
            "ticks": ""
           },
           "bgcolor": "#E5ECF6",
           "radialaxis": {
            "gridcolor": "white",
            "linecolor": "white",
            "ticks": ""
           }
          },
          "scene": {
           "xaxis": {
            "backgroundcolor": "#E5ECF6",
            "gridcolor": "white",
            "gridwidth": 2,
            "linecolor": "white",
            "showbackground": true,
            "ticks": "",
            "zerolinecolor": "white"
           },
           "yaxis": {
            "backgroundcolor": "#E5ECF6",
            "gridcolor": "white",
            "gridwidth": 2,
            "linecolor": "white",
            "showbackground": true,
            "ticks": "",
            "zerolinecolor": "white"
           },
           "zaxis": {
            "backgroundcolor": "#E5ECF6",
            "gridcolor": "white",
            "gridwidth": 2,
            "linecolor": "white",
            "showbackground": true,
            "ticks": "",
            "zerolinecolor": "white"
           }
          },
          "shapedefaults": {
           "line": {
            "color": "#2a3f5f"
           }
          },
          "ternary": {
           "aaxis": {
            "gridcolor": "white",
            "linecolor": "white",
            "ticks": ""
           },
           "baxis": {
            "gridcolor": "white",
            "linecolor": "white",
            "ticks": ""
           },
           "bgcolor": "#E5ECF6",
           "caxis": {
            "gridcolor": "white",
            "linecolor": "white",
            "ticks": ""
           }
          },
          "title": {
           "x": 0.05
          },
          "xaxis": {
           "automargin": true,
           "gridcolor": "white",
           "linecolor": "white",
           "ticks": "",
           "title": {
            "standoff": 15
           },
           "zerolinecolor": "white",
           "zerolinewidth": 2
          },
          "yaxis": {
           "automargin": true,
           "gridcolor": "white",
           "linecolor": "white",
           "ticks": "",
           "title": {
            "standoff": 15
           },
           "zerolinecolor": "white",
           "zerolinewidth": 2
          }
         }
        },
        "title": {
         "text": "CLIP Stroop Test"
        },
        "width": 1200,
        "xaxis": {
         "anchor": "y",
         "categoryarray": [
          "the word is blue",
          "the word is red",
          "the color is blue",
          "the color is red",
          "the word is blue in red color",
          "the word is blue in blue color",
          "the word is red in blue color",
          "the word is red in red color"
         ],
         "categoryorder": "array",
         "domain": [
          0,
          0.3133333333333333
         ],
         "title": {
          "text": "class_name"
         }
        },
        "xaxis2": {
         "anchor": "y2",
         "categoryarray": [
          "the word is blue",
          "the word is red",
          "the color is blue",
          "the color is red",
          "the word is blue in red color",
          "the word is blue in blue color",
          "the word is red in blue color",
          "the word is red in red color"
         ],
         "categoryorder": "array",
         "domain": [
          0.3333333333333333,
          0.6466666666666666
         ],
         "title": {
          "text": "class_name"
         }
        },
        "xaxis3": {
         "anchor": "y3",
         "categoryarray": [
          "the word is blue",
          "the word is red",
          "the color is blue",
          "the color is red",
          "the word is blue in red color",
          "the word is blue in blue color",
          "the word is red in blue color",
          "the word is red in red color"
         ],
         "categoryorder": "array",
         "domain": [
          0.6666666666666666,
          0.98
         ],
         "title": {
          "text": "class_name"
         }
        },
        "xaxis4": {
         "anchor": "y4",
         "domain": [
          0,
          0.3133333333333333
         ],
         "matches": "x",
         "showticklabels": false
        },
        "xaxis5": {
         "anchor": "y5",
         "domain": [
          0.3333333333333333,
          0.6466666666666666
         ],
         "matches": "x2",
         "showticklabels": false
        },
        "xaxis6": {
         "anchor": "y6",
         "domain": [
          0.6666666666666666,
          0.98
         ],
         "matches": "x3",
         "showticklabels": false
        },
        "xaxis7": {
         "anchor": "y7",
         "domain": [
          0,
          0.3133333333333333
         ],
         "matches": "x",
         "showticklabels": false
        },
        "xaxis8": {
         "anchor": "y8",
         "domain": [
          0.3333333333333333,
          0.6466666666666666
         ],
         "matches": "x2",
         "showticklabels": false
        },
        "xaxis9": {
         "anchor": "y9",
         "domain": [
          0.6666666666666666,
          0.98
         ],
         "matches": "x3",
         "showticklabels": false
        },
        "yaxis": {
         "anchor": "x",
         "domain": [
          0,
          0.3133333333333333
         ],
         "title": {
          "text": "probability"
         }
        },
        "yaxis2": {
         "anchor": "x2",
         "domain": [
          0,
          0.3133333333333333
         ],
         "matches": "y",
         "showticklabels": false
        },
        "yaxis3": {
         "anchor": "x3",
         "domain": [
          0,
          0.3133333333333333
         ],
         "matches": "y",
         "showticklabels": false
        },
        "yaxis4": {
         "anchor": "x4",
         "domain": [
          0.34333333333333327,
          0.6566666666666665
         ],
         "matches": "y",
         "title": {
          "text": "probability"
         }
        },
        "yaxis5": {
         "anchor": "x5",
         "domain": [
          0.34333333333333327,
          0.6566666666666665
         ],
         "matches": "y",
         "showticklabels": false
        },
        "yaxis6": {
         "anchor": "x6",
         "domain": [
          0.34333333333333327,
          0.6566666666666665
         ],
         "matches": "y",
         "showticklabels": false
        },
        "yaxis7": {
         "anchor": "x7",
         "domain": [
          0.6866666666666665,
          0.9999999999999998
         ],
         "matches": "y",
         "title": {
          "text": "probability"
         }
        },
        "yaxis8": {
         "anchor": "x8",
         "domain": [
          0.6866666666666665,
          0.9999999999999998
         ],
         "matches": "y",
         "showticklabels": false
        },
        "yaxis9": {
         "anchor": "x9",
         "domain": [
          0.6866666666666665,
          0.9999999999999998
         ],
         "matches": "y",
         "showticklabels": false
        }
       }
      }
     },
     "metadata": {},
     "output_type": "display_data"
    }
   ],
   "source": [
    "class_names = df['class_name'].unique()\n",
    "fig = px.bar(df, \n",
    "             y='probability', \n",
    "             x='class_name', \n",
    "             facet_col='class_set', \n",
    "             color='color', \n",
    "             color_discrete_map={'blue': 'blue', 'red': 'red'},\n",
    "             facet_row='word',\n",
    "             hover_data=df.columns.tolist(),\n",
    "             barmode='group', category_orders={'class_name': class_names})\n",
    "# the the x-axis does not need to be the same\n",
    "fig.update_xaxes(matches=None) \n",
    "for col in range(1, 4):\n",
    "    for row in range(2, 4):\n",
    "        fig.update_xaxes(matches=f'x{col}', row=row, col=col)  # x1 matches x2\n",
    "fig.update_layout(height=800, width=1200, title_text='CLIP Stroop Test')\n",
    "fig.show()\n"
   ]
  },
  {
   "cell_type": "code",
   "execution_count": 33,
   "metadata": {},
   "outputs": [
    {
     "data": {
      "text/html": [
       "<div>\n",
       "<style scoped>\n",
       "    .dataframe tbody tr th:only-of-type {\n",
       "        vertical-align: middle;\n",
       "    }\n",
       "\n",
       "    .dataframe tbody tr th {\n",
       "        vertical-align: top;\n",
       "    }\n",
       "\n",
       "    .dataframe thead th {\n",
       "        text-align: right;\n",
       "    }\n",
       "</style>\n",
       "<table border=\"1\" class=\"dataframe\">\n",
       "  <thead>\n",
       "    <tr style=\"text-align: right;\">\n",
       "      <th></th>\n",
       "      <th>word</th>\n",
       "      <th>color</th>\n",
       "      <th>class_set</th>\n",
       "      <th>class_name</th>\n",
       "      <th>probability</th>\n",
       "    </tr>\n",
       "  </thead>\n",
       "  <tbody>\n",
       "    <tr>\n",
       "      <th>20</th>\n",
       "      <td>RED</td>\n",
       "      <td>red</td>\n",
       "      <td>combined</td>\n",
       "      <td>the word is red in red color</td>\n",
       "      <td>0.645096</td>\n",
       "    </tr>\n",
       "    <tr>\n",
       "      <th>21</th>\n",
       "      <td>RED</td>\n",
       "      <td>red</td>\n",
       "      <td>combined</td>\n",
       "      <td>the word is red in blue color</td>\n",
       "      <td>0.253324</td>\n",
       "    </tr>\n",
       "    <tr>\n",
       "      <th>22</th>\n",
       "      <td>RED</td>\n",
       "      <td>red</td>\n",
       "      <td>combined</td>\n",
       "      <td>the word is blue in red color</td>\n",
       "      <td>0.101351</td>\n",
       "    </tr>\n",
       "    <tr>\n",
       "      <th>23</th>\n",
       "      <td>RED</td>\n",
       "      <td>red</td>\n",
       "      <td>combined</td>\n",
       "      <td>the word is blue in blue color</td>\n",
       "      <td>0.000229</td>\n",
       "    </tr>\n",
       "    <tr>\n",
       "      <th>28</th>\n",
       "      <td>RED</td>\n",
       "      <td>blue</td>\n",
       "      <td>combined</td>\n",
       "      <td>the word is red in blue color</td>\n",
       "      <td>0.632105</td>\n",
       "    </tr>\n",
       "    <tr>\n",
       "      <th>29</th>\n",
       "      <td>RED</td>\n",
       "      <td>blue</td>\n",
       "      <td>combined</td>\n",
       "      <td>the word is blue in red color</td>\n",
       "      <td>0.196627</td>\n",
       "    </tr>\n",
       "    <tr>\n",
       "      <th>30</th>\n",
       "      <td>RED</td>\n",
       "      <td>blue</td>\n",
       "      <td>combined</td>\n",
       "      <td>the word is red in red color</td>\n",
       "      <td>0.169246</td>\n",
       "    </tr>\n",
       "    <tr>\n",
       "      <th>31</th>\n",
       "      <td>RED</td>\n",
       "      <td>blue</td>\n",
       "      <td>combined</td>\n",
       "      <td>the word is blue in blue color</td>\n",
       "      <td>0.002023</td>\n",
       "    </tr>\n",
       "  </tbody>\n",
       "</table>\n",
       "</div>"
      ],
      "text/plain": [
       "   word color class_set                      class_name  probability\n",
       "20  RED   red  combined    the word is red in red color     0.645096\n",
       "21  RED   red  combined   the word is red in blue color     0.253324\n",
       "22  RED   red  combined   the word is blue in red color     0.101351\n",
       "23  RED   red  combined  the word is blue in blue color     0.000229\n",
       "28  RED  blue  combined   the word is red in blue color     0.632105\n",
       "29  RED  blue  combined   the word is blue in red color     0.196627\n",
       "30  RED  blue  combined    the word is red in red color     0.169246\n",
       "31  RED  blue  combined  the word is blue in blue color     0.002023"
      ]
     },
     "execution_count": 33,
     "metadata": {},
     "output_type": "execute_result"
    }
   ],
   "source": [
    "df.query(\"(word == 'RED') & class_set == 'combined'\")"
   ]
  },
  {
   "cell_type": "code",
   "execution_count": 24,
   "metadata": {},
   "outputs": [
    {
     "data": {
      "application/vnd.plotly.v1+json": {
       "config": {
        "plotlyServerURL": "https://plot.ly"
       },
       "data": [
        {
         "alignmentgroup": "True",
         "customdata": [
          [
           "BLUE",
           "red",
           "word_only"
          ],
          [
           "BLUE",
           "red",
           "word_only"
          ]
         ],
         "hovertemplate": "color=%{customdata[1]}<br>word=%{customdata[0]}<br>class_set=%{customdata[2]}<br>class_name=%{x}<br>probability=%{y}<extra></extra>",
         "legendgroup": "red",
         "marker": {
          "color": "red",
          "pattern": {
           "shape": ""
          }
         },
         "name": "red",
         "offsetgroup": "red",
         "orientation": "v",
         "showlegend": true,
         "textposition": "auto",
         "type": "bar",
         "x": [
          "the word is blue",
          "the word is red"
         ],
         "xaxis": "x",
         "y": {
          "bdata": "AQAAICGJ7z/M//8fureNPw==",
          "dtype": "f8"
         },
         "yaxis": "y"
        },
        {
         "alignmentgroup": "True",
         "customdata": [
          [
           "BLUE",
           "blue",
           "word_only"
          ],
          [
           "BLUE",
           "blue",
           "word_only"
          ]
         ],
         "hovertemplate": "color=%{customdata[1]}<br>word=%{customdata[0]}<br>class_set=%{customdata[2]}<br>class_name=%{x}<br>probability=%{y}<extra></extra>",
         "legendgroup": "blue",
         "marker": {
          "color": "blue",
          "pattern": {
           "shape": ""
          }
         },
         "name": "blue",
         "offsetgroup": "blue",
         "orientation": "v",
         "showlegend": true,
         "textposition": "auto",
         "type": "bar",
         "x": [
          "the word is blue",
          "the word is red"
         ],
         "xaxis": "x",
         "y": {
          "bdata": "AAAAQMn17z/Q//9fg21UPw==",
          "dtype": "f8"
         },
         "yaxis": "y"
        }
       ],
       "layout": {
        "annotations": [
         {
          "font": {},
          "showarrow": false,
          "text": "class_set=word_only",
          "x": 0.49,
          "xanchor": "center",
          "xref": "paper",
          "y": 1,
          "yanchor": "bottom",
          "yref": "paper"
         },
         {
          "font": {},
          "showarrow": false,
          "text": "word=BLUE",
          "textangle": 90,
          "x": 0.98,
          "xanchor": "left",
          "xref": "paper",
          "y": 0.5,
          "yanchor": "middle",
          "yref": "paper"
         }
        ],
        "barmode": "group",
        "legend": {
         "title": {
          "text": "color"
         },
         "tracegroupgap": 0
        },
        "margin": {
         "t": 60
        },
        "template": {
         "data": {
          "bar": [
           {
            "error_x": {
             "color": "#2a3f5f"
            },
            "error_y": {
             "color": "#2a3f5f"
            },
            "marker": {
             "line": {
              "color": "#E5ECF6",
              "width": 0.5
             },
             "pattern": {
              "fillmode": "overlay",
              "size": 10,
              "solidity": 0.2
             }
            },
            "type": "bar"
           }
          ],
          "barpolar": [
           {
            "marker": {
             "line": {
              "color": "#E5ECF6",
              "width": 0.5
             },
             "pattern": {
              "fillmode": "overlay",
              "size": 10,
              "solidity": 0.2
             }
            },
            "type": "barpolar"
           }
          ],
          "carpet": [
           {
            "aaxis": {
             "endlinecolor": "#2a3f5f",
             "gridcolor": "white",
             "linecolor": "white",
             "minorgridcolor": "white",
             "startlinecolor": "#2a3f5f"
            },
            "baxis": {
             "endlinecolor": "#2a3f5f",
             "gridcolor": "white",
             "linecolor": "white",
             "minorgridcolor": "white",
             "startlinecolor": "#2a3f5f"
            },
            "type": "carpet"
           }
          ],
          "choropleth": [
           {
            "colorbar": {
             "outlinewidth": 0,
             "ticks": ""
            },
            "type": "choropleth"
           }
          ],
          "contour": [
           {
            "colorbar": {
             "outlinewidth": 0,
             "ticks": ""
            },
            "colorscale": [
             [
              0,
              "#0d0887"
             ],
             [
              0.1111111111111111,
              "#46039f"
             ],
             [
              0.2222222222222222,
              "#7201a8"
             ],
             [
              0.3333333333333333,
              "#9c179e"
             ],
             [
              0.4444444444444444,
              "#bd3786"
             ],
             [
              0.5555555555555556,
              "#d8576b"
             ],
             [
              0.6666666666666666,
              "#ed7953"
             ],
             [
              0.7777777777777778,
              "#fb9f3a"
             ],
             [
              0.8888888888888888,
              "#fdca26"
             ],
             [
              1,
              "#f0f921"
             ]
            ],
            "type": "contour"
           }
          ],
          "contourcarpet": [
           {
            "colorbar": {
             "outlinewidth": 0,
             "ticks": ""
            },
            "type": "contourcarpet"
           }
          ],
          "heatmap": [
           {
            "colorbar": {
             "outlinewidth": 0,
             "ticks": ""
            },
            "colorscale": [
             [
              0,
              "#0d0887"
             ],
             [
              0.1111111111111111,
              "#46039f"
             ],
             [
              0.2222222222222222,
              "#7201a8"
             ],
             [
              0.3333333333333333,
              "#9c179e"
             ],
             [
              0.4444444444444444,
              "#bd3786"
             ],
             [
              0.5555555555555556,
              "#d8576b"
             ],
             [
              0.6666666666666666,
              "#ed7953"
             ],
             [
              0.7777777777777778,
              "#fb9f3a"
             ],
             [
              0.8888888888888888,
              "#fdca26"
             ],
             [
              1,
              "#f0f921"
             ]
            ],
            "type": "heatmap"
           }
          ],
          "histogram": [
           {
            "marker": {
             "pattern": {
              "fillmode": "overlay",
              "size": 10,
              "solidity": 0.2
             }
            },
            "type": "histogram"
           }
          ],
          "histogram2d": [
           {
            "colorbar": {
             "outlinewidth": 0,
             "ticks": ""
            },
            "colorscale": [
             [
              0,
              "#0d0887"
             ],
             [
              0.1111111111111111,
              "#46039f"
             ],
             [
              0.2222222222222222,
              "#7201a8"
             ],
             [
              0.3333333333333333,
              "#9c179e"
             ],
             [
              0.4444444444444444,
              "#bd3786"
             ],
             [
              0.5555555555555556,
              "#d8576b"
             ],
             [
              0.6666666666666666,
              "#ed7953"
             ],
             [
              0.7777777777777778,
              "#fb9f3a"
             ],
             [
              0.8888888888888888,
              "#fdca26"
             ],
             [
              1,
              "#f0f921"
             ]
            ],
            "type": "histogram2d"
           }
          ],
          "histogram2dcontour": [
           {
            "colorbar": {
             "outlinewidth": 0,
             "ticks": ""
            },
            "colorscale": [
             [
              0,
              "#0d0887"
             ],
             [
              0.1111111111111111,
              "#46039f"
             ],
             [
              0.2222222222222222,
              "#7201a8"
             ],
             [
              0.3333333333333333,
              "#9c179e"
             ],
             [
              0.4444444444444444,
              "#bd3786"
             ],
             [
              0.5555555555555556,
              "#d8576b"
             ],
             [
              0.6666666666666666,
              "#ed7953"
             ],
             [
              0.7777777777777778,
              "#fb9f3a"
             ],
             [
              0.8888888888888888,
              "#fdca26"
             ],
             [
              1,
              "#f0f921"
             ]
            ],
            "type": "histogram2dcontour"
           }
          ],
          "mesh3d": [
           {
            "colorbar": {
             "outlinewidth": 0,
             "ticks": ""
            },
            "type": "mesh3d"
           }
          ],
          "parcoords": [
           {
            "line": {
             "colorbar": {
              "outlinewidth": 0,
              "ticks": ""
             }
            },
            "type": "parcoords"
           }
          ],
          "pie": [
           {
            "automargin": true,
            "type": "pie"
           }
          ],
          "scatter": [
           {
            "fillpattern": {
             "fillmode": "overlay",
             "size": 10,
             "solidity": 0.2
            },
            "type": "scatter"
           }
          ],
          "scatter3d": [
           {
            "line": {
             "colorbar": {
              "outlinewidth": 0,
              "ticks": ""
             }
            },
            "marker": {
             "colorbar": {
              "outlinewidth": 0,
              "ticks": ""
             }
            },
            "type": "scatter3d"
           }
          ],
          "scattercarpet": [
           {
            "marker": {
             "colorbar": {
              "outlinewidth": 0,
              "ticks": ""
             }
            },
            "type": "scattercarpet"
           }
          ],
          "scattergeo": [
           {
            "marker": {
             "colorbar": {
              "outlinewidth": 0,
              "ticks": ""
             }
            },
            "type": "scattergeo"
           }
          ],
          "scattergl": [
           {
            "marker": {
             "colorbar": {
              "outlinewidth": 0,
              "ticks": ""
             }
            },
            "type": "scattergl"
           }
          ],
          "scattermap": [
           {
            "marker": {
             "colorbar": {
              "outlinewidth": 0,
              "ticks": ""
             }
            },
            "type": "scattermap"
           }
          ],
          "scattermapbox": [
           {
            "marker": {
             "colorbar": {
              "outlinewidth": 0,
              "ticks": ""
             }
            },
            "type": "scattermapbox"
           }
          ],
          "scatterpolar": [
           {
            "marker": {
             "colorbar": {
              "outlinewidth": 0,
              "ticks": ""
             }
            },
            "type": "scatterpolar"
           }
          ],
          "scatterpolargl": [
           {
            "marker": {
             "colorbar": {
              "outlinewidth": 0,
              "ticks": ""
             }
            },
            "type": "scatterpolargl"
           }
          ],
          "scatterternary": [
           {
            "marker": {
             "colorbar": {
              "outlinewidth": 0,
              "ticks": ""
             }
            },
            "type": "scatterternary"
           }
          ],
          "surface": [
           {
            "colorbar": {
             "outlinewidth": 0,
             "ticks": ""
            },
            "colorscale": [
             [
              0,
              "#0d0887"
             ],
             [
              0.1111111111111111,
              "#46039f"
             ],
             [
              0.2222222222222222,
              "#7201a8"
             ],
             [
              0.3333333333333333,
              "#9c179e"
             ],
             [
              0.4444444444444444,
              "#bd3786"
             ],
             [
              0.5555555555555556,
              "#d8576b"
             ],
             [
              0.6666666666666666,
              "#ed7953"
             ],
             [
              0.7777777777777778,
              "#fb9f3a"
             ],
             [
              0.8888888888888888,
              "#fdca26"
             ],
             [
              1,
              "#f0f921"
             ]
            ],
            "type": "surface"
           }
          ],
          "table": [
           {
            "cells": {
             "fill": {
              "color": "#EBF0F8"
             },
             "line": {
              "color": "white"
             }
            },
            "header": {
             "fill": {
              "color": "#C8D4E3"
             },
             "line": {
              "color": "white"
             }
            },
            "type": "table"
           }
          ]
         },
         "layout": {
          "annotationdefaults": {
           "arrowcolor": "#2a3f5f",
           "arrowhead": 0,
           "arrowwidth": 1
          },
          "autotypenumbers": "strict",
          "coloraxis": {
           "colorbar": {
            "outlinewidth": 0,
            "ticks": ""
           }
          },
          "colorscale": {
           "diverging": [
            [
             0,
             "#8e0152"
            ],
            [
             0.1,
             "#c51b7d"
            ],
            [
             0.2,
             "#de77ae"
            ],
            [
             0.3,
             "#f1b6da"
            ],
            [
             0.4,
             "#fde0ef"
            ],
            [
             0.5,
             "#f7f7f7"
            ],
            [
             0.6,
             "#e6f5d0"
            ],
            [
             0.7,
             "#b8e186"
            ],
            [
             0.8,
             "#7fbc41"
            ],
            [
             0.9,
             "#4d9221"
            ],
            [
             1,
             "#276419"
            ]
           ],
           "sequential": [
            [
             0,
             "#0d0887"
            ],
            [
             0.1111111111111111,
             "#46039f"
            ],
            [
             0.2222222222222222,
             "#7201a8"
            ],
            [
             0.3333333333333333,
             "#9c179e"
            ],
            [
             0.4444444444444444,
             "#bd3786"
            ],
            [
             0.5555555555555556,
             "#d8576b"
            ],
            [
             0.6666666666666666,
             "#ed7953"
            ],
            [
             0.7777777777777778,
             "#fb9f3a"
            ],
            [
             0.8888888888888888,
             "#fdca26"
            ],
            [
             1,
             "#f0f921"
            ]
           ],
           "sequentialminus": [
            [
             0,
             "#0d0887"
            ],
            [
             0.1111111111111111,
             "#46039f"
            ],
            [
             0.2222222222222222,
             "#7201a8"
            ],
            [
             0.3333333333333333,
             "#9c179e"
            ],
            [
             0.4444444444444444,
             "#bd3786"
            ],
            [
             0.5555555555555556,
             "#d8576b"
            ],
            [
             0.6666666666666666,
             "#ed7953"
            ],
            [
             0.7777777777777778,
             "#fb9f3a"
            ],
            [
             0.8888888888888888,
             "#fdca26"
            ],
            [
             1,
             "#f0f921"
            ]
           ]
          },
          "colorway": [
           "#636efa",
           "#EF553B",
           "#00cc96",
           "#ab63fa",
           "#FFA15A",
           "#19d3f3",
           "#FF6692",
           "#B6E880",
           "#FF97FF",
           "#FECB52"
          ],
          "font": {
           "color": "#2a3f5f"
          },
          "geo": {
           "bgcolor": "white",
           "lakecolor": "white",
           "landcolor": "#E5ECF6",
           "showlakes": true,
           "showland": true,
           "subunitcolor": "white"
          },
          "hoverlabel": {
           "align": "left"
          },
          "hovermode": "closest",
          "mapbox": {
           "style": "light"
          },
          "paper_bgcolor": "white",
          "plot_bgcolor": "#E5ECF6",
          "polar": {
           "angularaxis": {
            "gridcolor": "white",
            "linecolor": "white",
            "ticks": ""
           },
           "bgcolor": "#E5ECF6",
           "radialaxis": {
            "gridcolor": "white",
            "linecolor": "white",
            "ticks": ""
           }
          },
          "scene": {
           "xaxis": {
            "backgroundcolor": "#E5ECF6",
            "gridcolor": "white",
            "gridwidth": 2,
            "linecolor": "white",
            "showbackground": true,
            "ticks": "",
            "zerolinecolor": "white"
           },
           "yaxis": {
            "backgroundcolor": "#E5ECF6",
            "gridcolor": "white",
            "gridwidth": 2,
            "linecolor": "white",
            "showbackground": true,
            "ticks": "",
            "zerolinecolor": "white"
           },
           "zaxis": {
            "backgroundcolor": "#E5ECF6",
            "gridcolor": "white",
            "gridwidth": 2,
            "linecolor": "white",
            "showbackground": true,
            "ticks": "",
            "zerolinecolor": "white"
           }
          },
          "shapedefaults": {
           "line": {
            "color": "#2a3f5f"
           }
          },
          "ternary": {
           "aaxis": {
            "gridcolor": "white",
            "linecolor": "white",
            "ticks": ""
           },
           "baxis": {
            "gridcolor": "white",
            "linecolor": "white",
            "ticks": ""
           },
           "bgcolor": "#E5ECF6",
           "caxis": {
            "gridcolor": "white",
            "linecolor": "white",
            "ticks": ""
           }
          },
          "title": {
           "x": 0.05
          },
          "xaxis": {
           "automargin": true,
           "gridcolor": "white",
           "linecolor": "white",
           "ticks": "",
           "title": {
            "standoff": 15
           },
           "zerolinecolor": "white",
           "zerolinewidth": 2
          },
          "yaxis": {
           "automargin": true,
           "gridcolor": "white",
           "linecolor": "white",
           "ticks": "",
           "title": {
            "standoff": 15
           },
           "zerolinecolor": "white",
           "zerolinewidth": 2
          }
         }
        },
        "xaxis": {
         "anchor": "y",
         "domain": [
          0,
          0.98
         ],
         "title": {
          "text": "class_name"
         }
        },
        "yaxis": {
         "anchor": "x",
         "domain": [
          0,
          1
         ],
         "title": {
          "text": "probability"
         }
        }
       }
      }
     },
     "metadata": {},
     "output_type": "display_data"
    }
   ],
   "source": [
    "fig = px.bar(df.query(\"(word == 'BLUE') & class_set == 'word_only'\"), \n",
    "             y='probability', \n",
    "             x='class_name', \n",
    "             facet_col='class_set', \n",
    "             color='color', \n",
    "             color_discrete_map={'blue': 'blue', 'red': 'red'},\n",
    "             facet_row='word',\n",
    "             hover_data=df.columns.tolist(),\n",
    "             barmode='group')\n",
    "fig.show()\n"
   ]
  }
 ],
 "metadata": {
  "kernelspec": {
   "display_name": ".venv",
   "language": "python",
   "name": "python3"
  },
  "language_info": {
   "codemirror_mode": {
    "name": "ipython",
    "version": 3
   },
   "file_extension": ".py",
   "mimetype": "text/x-python",
   "name": "python",
   "nbconvert_exporter": "python",
   "pygments_lexer": "ipython3",
   "version": "3.12.9"
  }
 },
 "nbformat": 4,
 "nbformat_minor": 2
}
