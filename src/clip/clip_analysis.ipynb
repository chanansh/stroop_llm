{
 "cells": [
  {
   "cell_type": "code",
   "execution_count": 17,
   "metadata": {},
   "outputs": [],
   "source": [
    "import pandas as pd\n",
    "import seaborn as sns\n",
    "import plotly.express as px\n",
    "import numpy as np\n",
    "import kaleido\n",
    "import plotly.io as pio\n",
    "pio.kaleido.scope.mathjax = None\n",
    "import os"
   ]
  },
  {
   "cell_type": "code",
   "execution_count": 18,
   "metadata": {},
   "outputs": [
    {
     "name": "stdout",
     "output_type": "stream",
     "text": [
      "clip_analysis_20250510_161715.csv\n"
     ]
    },
    {
     "data": {
      "text/html": [
       "<div>\n",
       "<style scoped>\n",
       "    .dataframe tbody tr th:only-of-type {\n",
       "        vertical-align: middle;\n",
       "    }\n",
       "\n",
       "    .dataframe tbody tr th {\n",
       "        vertical-align: top;\n",
       "    }\n",
       "\n",
       "    .dataframe thead th {\n",
       "        text-align: right;\n",
       "    }\n",
       "</style>\n",
       "<table border=\"1\" class=\"dataframe\">\n",
       "  <thead>\n",
       "    <tr style=\"text-align: right;\">\n",
       "      <th></th>\n",
       "      <th>word</th>\n",
       "      <th>color</th>\n",
       "      <th>experiment</th>\n",
       "      <th>prompt</th>\n",
       "      <th>probability</th>\n",
       "    </tr>\n",
       "  </thead>\n",
       "  <tbody>\n",
       "    <tr>\n",
       "      <th>0</th>\n",
       "      <td>BLUE</td>\n",
       "      <td>red</td>\n",
       "      <td>meaning_only</td>\n",
       "      <td>The word \"BLUE\"</td>\n",
       "      <td>0.995066</td>\n",
       "    </tr>\n",
       "    <tr>\n",
       "      <th>1</th>\n",
       "      <td>BLUE</td>\n",
       "      <td>red</td>\n",
       "      <td>meaning_only</td>\n",
       "      <td>The word \"RED\"</td>\n",
       "      <td>0.004934</td>\n",
       "    </tr>\n",
       "    <tr>\n",
       "      <th>2</th>\n",
       "      <td>BLUE</td>\n",
       "      <td>red</td>\n",
       "      <td>color_only</td>\n",
       "      <td>A word colored in blue</td>\n",
       "      <td>0.933951</td>\n",
       "    </tr>\n",
       "    <tr>\n",
       "      <th>3</th>\n",
       "      <td>BLUE</td>\n",
       "      <td>red</td>\n",
       "      <td>color_only</td>\n",
       "      <td>A word colored in red</td>\n",
       "      <td>0.066049</td>\n",
       "    </tr>\n",
       "    <tr>\n",
       "      <th>4</th>\n",
       "      <td>BLUE</td>\n",
       "      <td>red</td>\n",
       "      <td>combined</td>\n",
       "      <td>The word \"BLUE\"</td>\n",
       "      <td>0.667955</td>\n",
       "    </tr>\n",
       "    <tr>\n",
       "      <th>5</th>\n",
       "      <td>BLUE</td>\n",
       "      <td>red</td>\n",
       "      <td>combined</td>\n",
       "      <td>The word \"RED\"</td>\n",
       "      <td>0.003312</td>\n",
       "    </tr>\n",
       "    <tr>\n",
       "      <th>6</th>\n",
       "      <td>BLUE</td>\n",
       "      <td>red</td>\n",
       "      <td>combined</td>\n",
       "      <td>A word colored in blue</td>\n",
       "      <td>0.307021</td>\n",
       "    </tr>\n",
       "    <tr>\n",
       "      <th>7</th>\n",
       "      <td>BLUE</td>\n",
       "      <td>red</td>\n",
       "      <td>combined</td>\n",
       "      <td>A word colored in red</td>\n",
       "      <td>0.021712</td>\n",
       "    </tr>\n",
       "    <tr>\n",
       "      <th>8</th>\n",
       "      <td>BLUE</td>\n",
       "      <td>blue</td>\n",
       "      <td>meaning_only</td>\n",
       "      <td>The word \"BLUE\"</td>\n",
       "      <td>0.999564</td>\n",
       "    </tr>\n",
       "    <tr>\n",
       "      <th>9</th>\n",
       "      <td>BLUE</td>\n",
       "      <td>blue</td>\n",
       "      <td>meaning_only</td>\n",
       "      <td>The word \"RED\"</td>\n",
       "      <td>0.000436</td>\n",
       "    </tr>\n",
       "    <tr>\n",
       "      <th>10</th>\n",
       "      <td>BLUE</td>\n",
       "      <td>blue</td>\n",
       "      <td>color_only</td>\n",
       "      <td>A word colored in blue</td>\n",
       "      <td>0.996415</td>\n",
       "    </tr>\n",
       "    <tr>\n",
       "      <th>11</th>\n",
       "      <td>BLUE</td>\n",
       "      <td>blue</td>\n",
       "      <td>color_only</td>\n",
       "      <td>A word colored in red</td>\n",
       "      <td>0.003585</td>\n",
       "    </tr>\n",
       "    <tr>\n",
       "      <th>12</th>\n",
       "      <td>BLUE</td>\n",
       "      <td>blue</td>\n",
       "      <td>combined</td>\n",
       "      <td>The word \"BLUE\"</td>\n",
       "      <td>0.719787</td>\n",
       "    </tr>\n",
       "    <tr>\n",
       "      <th>13</th>\n",
       "      <td>BLUE</td>\n",
       "      <td>blue</td>\n",
       "      <td>combined</td>\n",
       "      <td>The word \"RED\"</td>\n",
       "      <td>0.000314</td>\n",
       "    </tr>\n",
       "    <tr>\n",
       "      <th>14</th>\n",
       "      <td>BLUE</td>\n",
       "      <td>blue</td>\n",
       "      <td>combined</td>\n",
       "      <td>A word colored in blue</td>\n",
       "      <td>0.278896</td>\n",
       "    </tr>\n",
       "    <tr>\n",
       "      <th>15</th>\n",
       "      <td>BLUE</td>\n",
       "      <td>blue</td>\n",
       "      <td>combined</td>\n",
       "      <td>A word colored in red</td>\n",
       "      <td>0.001004</td>\n",
       "    </tr>\n",
       "    <tr>\n",
       "      <th>16</th>\n",
       "      <td>RED</td>\n",
       "      <td>red</td>\n",
       "      <td>meaning_only</td>\n",
       "      <td>The word \"BLUE\"</td>\n",
       "      <td>0.000328</td>\n",
       "    </tr>\n",
       "    <tr>\n",
       "      <th>17</th>\n",
       "      <td>RED</td>\n",
       "      <td>red</td>\n",
       "      <td>meaning_only</td>\n",
       "      <td>The word \"RED\"</td>\n",
       "      <td>0.999672</td>\n",
       "    </tr>\n",
       "    <tr>\n",
       "      <th>18</th>\n",
       "      <td>RED</td>\n",
       "      <td>red</td>\n",
       "      <td>color_only</td>\n",
       "      <td>A word colored in blue</td>\n",
       "      <td>0.001374</td>\n",
       "    </tr>\n",
       "    <tr>\n",
       "      <th>19</th>\n",
       "      <td>RED</td>\n",
       "      <td>red</td>\n",
       "      <td>color_only</td>\n",
       "      <td>A word colored in red</td>\n",
       "      <td>0.998626</td>\n",
       "    </tr>\n",
       "    <tr>\n",
       "      <th>20</th>\n",
       "      <td>RED</td>\n",
       "      <td>red</td>\n",
       "      <td>combined</td>\n",
       "      <td>The word \"BLUE\"</td>\n",
       "      <td>0.000223</td>\n",
       "    </tr>\n",
       "    <tr>\n",
       "      <th>21</th>\n",
       "      <td>RED</td>\n",
       "      <td>red</td>\n",
       "      <td>combined</td>\n",
       "      <td>The word \"RED\"</td>\n",
       "      <td>0.677722</td>\n",
       "    </tr>\n",
       "    <tr>\n",
       "      <th>22</th>\n",
       "      <td>RED</td>\n",
       "      <td>red</td>\n",
       "      <td>combined</td>\n",
       "      <td>A word colored in blue</td>\n",
       "      <td>0.000443</td>\n",
       "    </tr>\n",
       "    <tr>\n",
       "      <th>23</th>\n",
       "      <td>RED</td>\n",
       "      <td>red</td>\n",
       "      <td>combined</td>\n",
       "      <td>A word colored in red</td>\n",
       "      <td>0.321613</td>\n",
       "    </tr>\n",
       "    <tr>\n",
       "      <th>24</th>\n",
       "      <td>RED</td>\n",
       "      <td>blue</td>\n",
       "      <td>meaning_only</td>\n",
       "      <td>The word \"BLUE\"</td>\n",
       "      <td>0.008169</td>\n",
       "    </tr>\n",
       "    <tr>\n",
       "      <th>25</th>\n",
       "      <td>RED</td>\n",
       "      <td>blue</td>\n",
       "      <td>meaning_only</td>\n",
       "      <td>The word \"RED\"</td>\n",
       "      <td>0.991831</td>\n",
       "    </tr>\n",
       "    <tr>\n",
       "      <th>26</th>\n",
       "      <td>RED</td>\n",
       "      <td>blue</td>\n",
       "      <td>color_only</td>\n",
       "      <td>A word colored in blue</td>\n",
       "      <td>0.034773</td>\n",
       "    </tr>\n",
       "    <tr>\n",
       "      <th>27</th>\n",
       "      <td>RED</td>\n",
       "      <td>blue</td>\n",
       "      <td>color_only</td>\n",
       "      <td>A word colored in red</td>\n",
       "      <td>0.965227</td>\n",
       "    </tr>\n",
       "    <tr>\n",
       "      <th>28</th>\n",
       "      <td>RED</td>\n",
       "      <td>blue</td>\n",
       "      <td>combined</td>\n",
       "      <td>The word \"BLUE\"</td>\n",
       "      <td>0.004983</td>\n",
       "    </tr>\n",
       "    <tr>\n",
       "      <th>29</th>\n",
       "      <td>RED</td>\n",
       "      <td>blue</td>\n",
       "      <td>combined</td>\n",
       "      <td>The word \"RED\"</td>\n",
       "      <td>0.604997</td>\n",
       "    </tr>\n",
       "    <tr>\n",
       "      <th>30</th>\n",
       "      <td>RED</td>\n",
       "      <td>blue</td>\n",
       "      <td>combined</td>\n",
       "      <td>A word colored in blue</td>\n",
       "      <td>0.013562</td>\n",
       "    </tr>\n",
       "    <tr>\n",
       "      <th>31</th>\n",
       "      <td>RED</td>\n",
       "      <td>blue</td>\n",
       "      <td>combined</td>\n",
       "      <td>A word colored in red</td>\n",
       "      <td>0.376458</td>\n",
       "    </tr>\n",
       "    <tr>\n",
       "      <th>32</th>\n",
       "      <td>XXXX</td>\n",
       "      <td>red</td>\n",
       "      <td>meaning_only</td>\n",
       "      <td>The word \"BLUE\"</td>\n",
       "      <td>0.125570</td>\n",
       "    </tr>\n",
       "    <tr>\n",
       "      <th>33</th>\n",
       "      <td>XXXX</td>\n",
       "      <td>red</td>\n",
       "      <td>meaning_only</td>\n",
       "      <td>The word \"RED\"</td>\n",
       "      <td>0.874430</td>\n",
       "    </tr>\n",
       "    <tr>\n",
       "      <th>34</th>\n",
       "      <td>XXXX</td>\n",
       "      <td>red</td>\n",
       "      <td>color_only</td>\n",
       "      <td>A word colored in blue</td>\n",
       "      <td>0.085979</td>\n",
       "    </tr>\n",
       "    <tr>\n",
       "      <th>35</th>\n",
       "      <td>XXXX</td>\n",
       "      <td>red</td>\n",
       "      <td>color_only</td>\n",
       "      <td>A word colored in red</td>\n",
       "      <td>0.914021</td>\n",
       "    </tr>\n",
       "    <tr>\n",
       "      <th>36</th>\n",
       "      <td>XXXX</td>\n",
       "      <td>red</td>\n",
       "      <td>combined</td>\n",
       "      <td>The word \"BLUE\"</td>\n",
       "      <td>0.035461</td>\n",
       "    </tr>\n",
       "    <tr>\n",
       "      <th>37</th>\n",
       "      <td>XXXX</td>\n",
       "      <td>red</td>\n",
       "      <td>combined</td>\n",
       "      <td>The word \"RED\"</td>\n",
       "      <td>0.246934</td>\n",
       "    </tr>\n",
       "    <tr>\n",
       "      <th>38</th>\n",
       "      <td>XXXX</td>\n",
       "      <td>red</td>\n",
       "      <td>combined</td>\n",
       "      <td>A word colored in blue</td>\n",
       "      <td>0.061699</td>\n",
       "    </tr>\n",
       "    <tr>\n",
       "      <th>39</th>\n",
       "      <td>XXXX</td>\n",
       "      <td>red</td>\n",
       "      <td>combined</td>\n",
       "      <td>A word colored in red</td>\n",
       "      <td>0.655907</td>\n",
       "    </tr>\n",
       "    <tr>\n",
       "      <th>40</th>\n",
       "      <td>XXXX</td>\n",
       "      <td>blue</td>\n",
       "      <td>meaning_only</td>\n",
       "      <td>The word \"BLUE\"</td>\n",
       "      <td>0.939694</td>\n",
       "    </tr>\n",
       "    <tr>\n",
       "      <th>41</th>\n",
       "      <td>XXXX</td>\n",
       "      <td>blue</td>\n",
       "      <td>meaning_only</td>\n",
       "      <td>The word \"RED\"</td>\n",
       "      <td>0.060306</td>\n",
       "    </tr>\n",
       "    <tr>\n",
       "      <th>42</th>\n",
       "      <td>XXXX</td>\n",
       "      <td>blue</td>\n",
       "      <td>color_only</td>\n",
       "      <td>A word colored in blue</td>\n",
       "      <td>0.938098</td>\n",
       "    </tr>\n",
       "    <tr>\n",
       "      <th>43</th>\n",
       "      <td>XXXX</td>\n",
       "      <td>blue</td>\n",
       "      <td>color_only</td>\n",
       "      <td>A word colored in red</td>\n",
       "      <td>0.061902</td>\n",
       "    </tr>\n",
       "    <tr>\n",
       "      <th>44</th>\n",
       "      <td>XXXX</td>\n",
       "      <td>blue</td>\n",
       "      <td>combined</td>\n",
       "      <td>The word \"BLUE\"</td>\n",
       "      <td>0.419366</td>\n",
       "    </tr>\n",
       "    <tr>\n",
       "      <th>45</th>\n",
       "      <td>XXXX</td>\n",
       "      <td>blue</td>\n",
       "      <td>combined</td>\n",
       "      <td>The word \"RED\"</td>\n",
       "      <td>0.026913</td>\n",
       "    </tr>\n",
       "    <tr>\n",
       "      <th>46</th>\n",
       "      <td>XXXX</td>\n",
       "      <td>blue</td>\n",
       "      <td>combined</td>\n",
       "      <td>A word colored in blue</td>\n",
       "      <td>0.519444</td>\n",
       "    </tr>\n",
       "    <tr>\n",
       "      <th>47</th>\n",
       "      <td>XXXX</td>\n",
       "      <td>blue</td>\n",
       "      <td>combined</td>\n",
       "      <td>A word colored in red</td>\n",
       "      <td>0.034277</td>\n",
       "    </tr>\n",
       "  </tbody>\n",
       "</table>\n",
       "</div>"
      ],
      "text/plain": [
       "    word color    experiment                  prompt  probability\n",
       "0   BLUE   red  meaning_only         The word \"BLUE\"     0.995066\n",
       "1   BLUE   red  meaning_only          The word \"RED\"     0.004934\n",
       "2   BLUE   red    color_only  A word colored in blue     0.933951\n",
       "3   BLUE   red    color_only   A word colored in red     0.066049\n",
       "4   BLUE   red      combined         The word \"BLUE\"     0.667955\n",
       "5   BLUE   red      combined          The word \"RED\"     0.003312\n",
       "6   BLUE   red      combined  A word colored in blue     0.307021\n",
       "7   BLUE   red      combined   A word colored in red     0.021712\n",
       "8   BLUE  blue  meaning_only         The word \"BLUE\"     0.999564\n",
       "9   BLUE  blue  meaning_only          The word \"RED\"     0.000436\n",
       "10  BLUE  blue    color_only  A word colored in blue     0.996415\n",
       "11  BLUE  blue    color_only   A word colored in red     0.003585\n",
       "12  BLUE  blue      combined         The word \"BLUE\"     0.719787\n",
       "13  BLUE  blue      combined          The word \"RED\"     0.000314\n",
       "14  BLUE  blue      combined  A word colored in blue     0.278896\n",
       "15  BLUE  blue      combined   A word colored in red     0.001004\n",
       "16   RED   red  meaning_only         The word \"BLUE\"     0.000328\n",
       "17   RED   red  meaning_only          The word \"RED\"     0.999672\n",
       "18   RED   red    color_only  A word colored in blue     0.001374\n",
       "19   RED   red    color_only   A word colored in red     0.998626\n",
       "20   RED   red      combined         The word \"BLUE\"     0.000223\n",
       "21   RED   red      combined          The word \"RED\"     0.677722\n",
       "22   RED   red      combined  A word colored in blue     0.000443\n",
       "23   RED   red      combined   A word colored in red     0.321613\n",
       "24   RED  blue  meaning_only         The word \"BLUE\"     0.008169\n",
       "25   RED  blue  meaning_only          The word \"RED\"     0.991831\n",
       "26   RED  blue    color_only  A word colored in blue     0.034773\n",
       "27   RED  blue    color_only   A word colored in red     0.965227\n",
       "28   RED  blue      combined         The word \"BLUE\"     0.004983\n",
       "29   RED  blue      combined          The word \"RED\"     0.604997\n",
       "30   RED  blue      combined  A word colored in blue     0.013562\n",
       "31   RED  blue      combined   A word colored in red     0.376458\n",
       "32  XXXX   red  meaning_only         The word \"BLUE\"     0.125570\n",
       "33  XXXX   red  meaning_only          The word \"RED\"     0.874430\n",
       "34  XXXX   red    color_only  A word colored in blue     0.085979\n",
       "35  XXXX   red    color_only   A word colored in red     0.914021\n",
       "36  XXXX   red      combined         The word \"BLUE\"     0.035461\n",
       "37  XXXX   red      combined          The word \"RED\"     0.246934\n",
       "38  XXXX   red      combined  A word colored in blue     0.061699\n",
       "39  XXXX   red      combined   A word colored in red     0.655907\n",
       "40  XXXX  blue  meaning_only         The word \"BLUE\"     0.939694\n",
       "41  XXXX  blue  meaning_only          The word \"RED\"     0.060306\n",
       "42  XXXX  blue    color_only  A word colored in blue     0.938098\n",
       "43  XXXX  blue    color_only   A word colored in red     0.061902\n",
       "44  XXXX  blue      combined         The word \"BLUE\"     0.419366\n",
       "45  XXXX  blue      combined          The word \"RED\"     0.026913\n",
       "46  XXXX  blue      combined  A word colored in blue     0.519444\n",
       "47  XXXX  blue      combined   A word colored in red     0.034277"
      ]
     },
     "execution_count": 18,
     "metadata": {},
     "output_type": "execute_result"
    }
   ],
   "source": [
    "latest_results = os.listdir('../results')\n",
    "latest_results = [f for f in latest_results if f.endswith('.csv') and 'clip_analysis' in f]\n",
    "latest_results = sorted(latest_results, key=lambda x: os.path.getmtime(os.path.join('../results', x)))[-1]\n",
    "df = pd.read_csv(os.path.join('../results', latest_results))\n",
    "print(latest_results)\n",
    "df.rename(columns={'class_set': 'experiment', 'class_name': 'prompt'}, inplace=True)\n",
    "df"
   ]
  },
  {
   "cell_type": "code",
   "execution_count": 19,
   "metadata": {},
   "outputs": [],
   "source": [
    "df['condition'] = np.where(df['word'].str.lower() == df['color'].str.lower(), 'congruent', 'incongruent')\n",
    "df.loc[df['word'] == 'XXXX', 'condition'] = 'neutral'\n",
    "# Initialize correct column\n",
    "df['correct'] = False\n",
    "# Extract response word and color from class_name\n",
    "df['prompt_word'] = df['prompt'].str.extract('word \"(\\\\w+)\"')\n",
    "df['prompt_color'] = df['prompt'].str.extract('colored in (\\\\w+)')"
   ]
  },
  {
   "cell_type": "code",
   "execution_count": 20,
   "metadata": {},
   "outputs": [],
   "source": [
    "\n",
    "# For meaning_only class set, correct answer is based on the word\n",
    "df.loc[df['experiment'] == 'meaning_only', 'correct'] = (\n",
    "    df['prompt_word'] == df['word']\n",
    ")\n",
    "\n",
    "# For color_only class set, correct answer is based on the color\n",
    "df.loc[df['experiment'] == 'color_only', 'correct'] = (\n",
    "    df['prompt_color'] == df['color']\n",
    ")\n",
    "\n",
    "# For combined class set, correct answer is based on both word and color\n",
    "df.loc[df['experiment'] == 'combined', 'correct'] = (\n",
    "    df['prompt_word'] == df['word'] \n",
    ") | (\n",
    "    df['prompt_color'] == df['color']\n",
    ")"
   ]
  },
  {
   "cell_type": "code",
   "execution_count": 58,
   "metadata": {},
   "outputs": [
    {
     "data": {
      "application/vnd.plotly.v1+json": {
       "config": {
        "plotlyServerURL": "https://plot.ly"
       },
       "data": [
        {
         "alignmentgroup": "True",
         "customdata": [
          [
           "BLUE",
           "color_only",
           "A word colored in blue",
           "incongruent",
           false,
           null,
           "blue",
           "Color",
           "✗",
           "‘A word colored in blue’"
          ],
          [
           "BLUE",
           "color_only",
           "A word colored in blue",
           "congruent",
           true,
           null,
           "blue",
           "Color",
           "✔",
           "‘A word colored in blue’"
          ]
         ],
         "hovertemplate": "prompt=%{customdata[2]}<br>word=%{customdata[0]}<br>color=%{x}<br>Probability=%{y}<br>correct_str=%{customdata[8]}<br>Experiment=%{customdata[1]}<br>condition=%{customdata[3]}<br>correct=%{customdata[4]}<br>prompt_word=%{customdata[5]}<br>prompt_color=%{customdata[6]}<br>experiment_str=%{customdata[7]}<br>Prompt=%{customdata[9]}<extra></extra>",
         "legendgroup": "A word colored in blue",
         "marker": {
          "color": "blue",
          "pattern": {
           "shape": ""
          }
         },
         "name": "A word colored in blue",
         "offsetgroup": "A word colored in blue",
         "orientation": "v",
         "showlegend": true,
         "text": [
          "✗",
          "✔"
         ],
         "textposition": "auto",
         "type": "bar",
         "x": [
          "red",
          "blue"
         ],
         "xaxis": "x",
         "y": {
          "bdata": "AAAAwO3i7T8BAAAAoeLvPw==",
          "dtype": "f8"
         },
         "yaxis": "y"
        },
        {
         "alignmentgroup": "True",
         "customdata": [
          [
           "RED",
           "color_only",
           "A word colored in blue",
           "congruent",
           false,
           null,
           "blue",
           "Color",
           "✗",
           "‘A word colored in blue’"
          ],
          [
           "RED",
           "color_only",
           "A word colored in blue",
           "incongruent",
           true,
           null,
           "blue",
           "Color",
           "✔",
           "‘A word colored in blue’"
          ]
         ],
         "hovertemplate": "prompt=%{customdata[2]}<br>word=%{customdata[0]}<br>color=%{x}<br>Probability=%{y}<br>correct_str=%{customdata[8]}<br>Experiment=%{customdata[1]}<br>condition=%{customdata[3]}<br>correct=%{customdata[4]}<br>prompt_word=%{customdata[5]}<br>prompt_color=%{customdata[6]}<br>experiment_str=%{customdata[7]}<br>Prompt=%{customdata[9]}<extra></extra>",
         "legendgroup": "A word colored in blue",
         "marker": {
          "color": "blue",
          "pattern": {
           "shape": ""
          }
         },
         "name": "A word colored in blue",
         "offsetgroup": "A word colored in blue",
         "orientation": "v",
         "showlegend": false,
         "text": [
          "✗",
          "✔"
         ],
         "textposition": "auto",
         "type": "bar",
         "x": [
          "red",
          "blue"
         ],
         "xaxis": "x2",
         "y": {
          "bdata": "f/7/H3CDVj/+///fxc2hPw==",
          "dtype": "f8"
         },
         "yaxis": "y2"
        },
        {
         "alignmentgroup": "True",
         "customdata": [
          [
           "XXXX",
           "color_only",
           "A word colored in blue",
           "neutral",
           false,
           null,
           "blue",
           "Color",
           "✗",
           "‘A word colored in blue’"
          ],
          [
           "XXXX",
           "color_only",
           "A word colored in blue",
           "neutral",
           true,
           null,
           "blue",
           "Color",
           "✔",
           "‘A word colored in blue’"
          ]
         ],
         "hovertemplate": "prompt=%{customdata[2]}<br>word=%{customdata[0]}<br>color=%{x}<br>Probability=%{y}<br>correct_str=%{customdata[8]}<br>Experiment=%{customdata[1]}<br>condition=%{customdata[3]}<br>correct=%{customdata[4]}<br>prompt_word=%{customdata[5]}<br>prompt_color=%{customdata[6]}<br>experiment_str=%{customdata[7]}<br>Prompt=%{customdata[9]}<extra></extra>",
         "legendgroup": "A word colored in blue",
         "marker": {
          "color": "blue",
          "pattern": {
           "shape": ""
          }
         },
         "name": "A word colored in blue",
         "offsetgroup": "A word colored in blue",
         "orientation": "v",
         "showlegend": false,
         "text": [
          "✗",
          "✔"
         ],
         "textposition": "auto",
         "type": "bar",
         "x": [
          "red",
          "blue"
         ],
         "xaxis": "x3",
         "y": {
          "bdata": "/f//X70Ctj8AAACg5gTuPw==",
          "dtype": "f8"
         },
         "yaxis": "y3"
        },
        {
         "alignmentgroup": "True",
         "customdata": [
          [
           "BLUE",
           "color_only",
           "A word colored in red",
           "incongruent",
           true,
           null,
           "red",
           "Color",
           "✔",
           "‘A word colored in red’"
          ],
          [
           "BLUE",
           "color_only",
           "A word colored in red",
           "congruent",
           false,
           null,
           "red",
           "Color",
           "✗",
           "‘A word colored in red’"
          ]
         ],
         "hovertemplate": "prompt=%{customdata[2]}<br>word=%{customdata[0]}<br>color=%{x}<br>Probability=%{y}<br>correct_str=%{customdata[8]}<br>Experiment=%{customdata[1]}<br>condition=%{customdata[3]}<br>correct=%{customdata[4]}<br>prompt_word=%{customdata[5]}<br>prompt_color=%{customdata[6]}<br>experiment_str=%{customdata[7]}<br>Prompt=%{customdata[9]}<extra></extra>",
         "legendgroup": "A word colored in red",
         "marker": {
          "color": "red",
          "pattern": {
           "shape": ""
          }
         },
         "name": "A word colored in red",
         "offsetgroup": "A word colored in red",
         "orientation": "v",
         "showlegend": true,
         "text": [
          "✔",
          "✗"
         ],
         "textposition": "auto",
         "type": "bar",
         "x": [
          "red",
          "blue"
         ],
         "xaxis": "x",
         "y": {
          "bdata": "+f//n5LosD9F//+f615tPw==",
          "dtype": "f8"
         },
         "yaxis": "y"
        },
        {
         "alignmentgroup": "True",
         "customdata": [
          [
           "RED",
           "color_only",
           "A word colored in red",
           "congruent",
           true,
           null,
           "red",
           "Color",
           "✔",
           "‘A word colored in red’"
          ],
          [
           "RED",
           "color_only",
           "A word colored in red",
           "incongruent",
           false,
           null,
           "red",
           "Color",
           "✗",
           "‘A word colored in red’"
          ]
         ],
         "hovertemplate": "prompt=%{customdata[2]}<br>word=%{customdata[0]}<br>color=%{x}<br>Probability=%{y}<br>correct_str=%{customdata[8]}<br>Experiment=%{customdata[1]}<br>condition=%{customdata[3]}<br>correct=%{customdata[4]}<br>prompt_word=%{customdata[5]}<br>prompt_color=%{customdata[6]}<br>experiment_str=%{customdata[7]}<br>Prompt=%{customdata[9]}<extra></extra>",
         "legendgroup": "A word colored in red",
         "marker": {
          "color": "red",
          "pattern": {
           "shape": ""
          }
         },
         "name": "A word colored in red",
         "offsetgroup": "A word colored in red",
         "orientation": "v",
         "showlegend": false,
         "text": [
          "✔",
          "✗"
         ],
         "textposition": "auto",
         "type": "bar",
         "x": [
          "red",
          "blue"
         ],
         "xaxis": "x2",
         "y": {
          "bdata": "////P7707z8AAACgI+PuPw==",
          "dtype": "f8"
         },
         "yaxis": "y2"
        },
        {
         "alignmentgroup": "True",
         "customdata": [
          [
           "XXXX",
           "color_only",
           "A word colored in red",
           "neutral",
           true,
           null,
           "red",
           "Color",
           "✔",
           "‘A word colored in red’"
          ],
          [
           "XXXX",
           "color_only",
           "A word colored in red",
           "neutral",
           false,
           null,
           "red",
           "Color",
           "✗",
           "‘A word colored in red’"
          ]
         ],
         "hovertemplate": "prompt=%{customdata[2]}<br>word=%{customdata[0]}<br>color=%{x}<br>Probability=%{y}<br>correct_str=%{customdata[8]}<br>Experiment=%{customdata[1]}<br>condition=%{customdata[3]}<br>correct=%{customdata[4]}<br>prompt_word=%{customdata[5]}<br>prompt_color=%{customdata[6]}<br>experiment_str=%{customdata[7]}<br>Prompt=%{customdata[9]}<extra></extra>",
         "legendgroup": "A word colored in red",
         "marker": {
          "color": "red",
          "pattern": {
           "shape": ""
          }
         },
         "name": "A word colored in red",
         "offsetgroup": "A word colored in red",
         "orientation": "v",
         "showlegend": false,
         "text": [
          "✔",
          "✗"
         ],
         "textposition": "auto",
         "type": "bar",
         "x": [
          "red",
          "blue"
         ],
         "xaxis": "x3",
         "y": {
          "bdata": "AAAAYKg/7T/7//9/k7GvPw==",
          "dtype": "f8"
         },
         "yaxis": "y3"
        }
       ],
       "layout": {
        "annotations": [
         {
          "showarrow": false,
          "text": "BLUE",
          "x": 0.15999999999999998,
          "xanchor": "center",
          "xref": "paper",
          "y": 1,
          "yanchor": "bottom",
          "yref": "paper"
         },
         {
          "showarrow": false,
          "text": "RED",
          "x": 0.49999999999999994,
          "xanchor": "center",
          "xref": "paper",
          "y": 1,
          "yanchor": "bottom",
          "yref": "paper"
         },
         {
          "showarrow": false,
          "text": "XXXX",
          "x": 0.8399999999999999,
          "xanchor": "center",
          "xref": "paper",
          "y": 1,
          "yanchor": "bottom",
          "yref": "paper"
         },
         {
          "showarrow": false,
          "text": "Color",
          "x": 0.5,
          "xref": "paper",
          "y": -0.3,
          "yref": "paper"
         },
         {
          "showarrow": false,
          "text": "Word",
          "x": 0.5,
          "xref": "paper",
          "y": 1.3,
          "yref": "paper"
         }
        ],
        "barmode": "group",
        "height": 250,
        "legend": {
         "title": {
          "text": "prompt"
         },
         "tracegroupgap": 0
        },
        "margin": {
         "b": 60,
         "l": 50,
         "r": 50,
         "t": 50
        },
        "template": {
         "data": {
          "bar": [
           {
            "error_x": {
             "color": "#2a3f5f"
            },
            "error_y": {
             "color": "#2a3f5f"
            },
            "marker": {
             "line": {
              "color": "#E5ECF6",
              "width": 0.5
             },
             "pattern": {
              "fillmode": "overlay",
              "size": 10,
              "solidity": 0.2
             }
            },
            "type": "bar"
           }
          ],
          "barpolar": [
           {
            "marker": {
             "line": {
              "color": "#E5ECF6",
              "width": 0.5
             },
             "pattern": {
              "fillmode": "overlay",
              "size": 10,
              "solidity": 0.2
             }
            },
            "type": "barpolar"
           }
          ],
          "carpet": [
           {
            "aaxis": {
             "endlinecolor": "#2a3f5f",
             "gridcolor": "white",
             "linecolor": "white",
             "minorgridcolor": "white",
             "startlinecolor": "#2a3f5f"
            },
            "baxis": {
             "endlinecolor": "#2a3f5f",
             "gridcolor": "white",
             "linecolor": "white",
             "minorgridcolor": "white",
             "startlinecolor": "#2a3f5f"
            },
            "type": "carpet"
           }
          ],
          "choropleth": [
           {
            "colorbar": {
             "outlinewidth": 0,
             "ticks": ""
            },
            "type": "choropleth"
           }
          ],
          "contour": [
           {
            "colorbar": {
             "outlinewidth": 0,
             "ticks": ""
            },
            "colorscale": [
             [
              0,
              "#0d0887"
             ],
             [
              0.1111111111111111,
              "#46039f"
             ],
             [
              0.2222222222222222,
              "#7201a8"
             ],
             [
              0.3333333333333333,
              "#9c179e"
             ],
             [
              0.4444444444444444,
              "#bd3786"
             ],
             [
              0.5555555555555556,
              "#d8576b"
             ],
             [
              0.6666666666666666,
              "#ed7953"
             ],
             [
              0.7777777777777778,
              "#fb9f3a"
             ],
             [
              0.8888888888888888,
              "#fdca26"
             ],
             [
              1,
              "#f0f921"
             ]
            ],
            "type": "contour"
           }
          ],
          "contourcarpet": [
           {
            "colorbar": {
             "outlinewidth": 0,
             "ticks": ""
            },
            "type": "contourcarpet"
           }
          ],
          "heatmap": [
           {
            "colorbar": {
             "outlinewidth": 0,
             "ticks": ""
            },
            "colorscale": [
             [
              0,
              "#0d0887"
             ],
             [
              0.1111111111111111,
              "#46039f"
             ],
             [
              0.2222222222222222,
              "#7201a8"
             ],
             [
              0.3333333333333333,
              "#9c179e"
             ],
             [
              0.4444444444444444,
              "#bd3786"
             ],
             [
              0.5555555555555556,
              "#d8576b"
             ],
             [
              0.6666666666666666,
              "#ed7953"
             ],
             [
              0.7777777777777778,
              "#fb9f3a"
             ],
             [
              0.8888888888888888,
              "#fdca26"
             ],
             [
              1,
              "#f0f921"
             ]
            ],
            "type": "heatmap"
           }
          ],
          "histogram": [
           {
            "marker": {
             "pattern": {
              "fillmode": "overlay",
              "size": 10,
              "solidity": 0.2
             }
            },
            "type": "histogram"
           }
          ],
          "histogram2d": [
           {
            "colorbar": {
             "outlinewidth": 0,
             "ticks": ""
            },
            "colorscale": [
             [
              0,
              "#0d0887"
             ],
             [
              0.1111111111111111,
              "#46039f"
             ],
             [
              0.2222222222222222,
              "#7201a8"
             ],
             [
              0.3333333333333333,
              "#9c179e"
             ],
             [
              0.4444444444444444,
              "#bd3786"
             ],
             [
              0.5555555555555556,
              "#d8576b"
             ],
             [
              0.6666666666666666,
              "#ed7953"
             ],
             [
              0.7777777777777778,
              "#fb9f3a"
             ],
             [
              0.8888888888888888,
              "#fdca26"
             ],
             [
              1,
              "#f0f921"
             ]
            ],
            "type": "histogram2d"
           }
          ],
          "histogram2dcontour": [
           {
            "colorbar": {
             "outlinewidth": 0,
             "ticks": ""
            },
            "colorscale": [
             [
              0,
              "#0d0887"
             ],
             [
              0.1111111111111111,
              "#46039f"
             ],
             [
              0.2222222222222222,
              "#7201a8"
             ],
             [
              0.3333333333333333,
              "#9c179e"
             ],
             [
              0.4444444444444444,
              "#bd3786"
             ],
             [
              0.5555555555555556,
              "#d8576b"
             ],
             [
              0.6666666666666666,
              "#ed7953"
             ],
             [
              0.7777777777777778,
              "#fb9f3a"
             ],
             [
              0.8888888888888888,
              "#fdca26"
             ],
             [
              1,
              "#f0f921"
             ]
            ],
            "type": "histogram2dcontour"
           }
          ],
          "mesh3d": [
           {
            "colorbar": {
             "outlinewidth": 0,
             "ticks": ""
            },
            "type": "mesh3d"
           }
          ],
          "parcoords": [
           {
            "line": {
             "colorbar": {
              "outlinewidth": 0,
              "ticks": ""
             }
            },
            "type": "parcoords"
           }
          ],
          "pie": [
           {
            "automargin": true,
            "type": "pie"
           }
          ],
          "scatter": [
           {
            "fillpattern": {
             "fillmode": "overlay",
             "size": 10,
             "solidity": 0.2
            },
            "type": "scatter"
           }
          ],
          "scatter3d": [
           {
            "line": {
             "colorbar": {
              "outlinewidth": 0,
              "ticks": ""
             }
            },
            "marker": {
             "colorbar": {
              "outlinewidth": 0,
              "ticks": ""
             }
            },
            "type": "scatter3d"
           }
          ],
          "scattercarpet": [
           {
            "marker": {
             "colorbar": {
              "outlinewidth": 0,
              "ticks": ""
             }
            },
            "type": "scattercarpet"
           }
          ],
          "scattergeo": [
           {
            "marker": {
             "colorbar": {
              "outlinewidth": 0,
              "ticks": ""
             }
            },
            "type": "scattergeo"
           }
          ],
          "scattergl": [
           {
            "marker": {
             "colorbar": {
              "outlinewidth": 0,
              "ticks": ""
             }
            },
            "type": "scattergl"
           }
          ],
          "scattermap": [
           {
            "marker": {
             "colorbar": {
              "outlinewidth": 0,
              "ticks": ""
             }
            },
            "type": "scattermap"
           }
          ],
          "scattermapbox": [
           {
            "marker": {
             "colorbar": {
              "outlinewidth": 0,
              "ticks": ""
             }
            },
            "type": "scattermapbox"
           }
          ],
          "scatterpolar": [
           {
            "marker": {
             "colorbar": {
              "outlinewidth": 0,
              "ticks": ""
             }
            },
            "type": "scatterpolar"
           }
          ],
          "scatterpolargl": [
           {
            "marker": {
             "colorbar": {
              "outlinewidth": 0,
              "ticks": ""
             }
            },
            "type": "scatterpolargl"
           }
          ],
          "scatterternary": [
           {
            "marker": {
             "colorbar": {
              "outlinewidth": 0,
              "ticks": ""
             }
            },
            "type": "scatterternary"
           }
          ],
          "surface": [
           {
            "colorbar": {
             "outlinewidth": 0,
             "ticks": ""
            },
            "colorscale": [
             [
              0,
              "#0d0887"
             ],
             [
              0.1111111111111111,
              "#46039f"
             ],
             [
              0.2222222222222222,
              "#7201a8"
             ],
             [
              0.3333333333333333,
              "#9c179e"
             ],
             [
              0.4444444444444444,
              "#bd3786"
             ],
             [
              0.5555555555555556,
              "#d8576b"
             ],
             [
              0.6666666666666666,
              "#ed7953"
             ],
             [
              0.7777777777777778,
              "#fb9f3a"
             ],
             [
              0.8888888888888888,
              "#fdca26"
             ],
             [
              1,
              "#f0f921"
             ]
            ],
            "type": "surface"
           }
          ],
          "table": [
           {
            "cells": {
             "fill": {
              "color": "#EBF0F8"
             },
             "line": {
              "color": "white"
             }
            },
            "header": {
             "fill": {
              "color": "#C8D4E3"
             },
             "line": {
              "color": "white"
             }
            },
            "type": "table"
           }
          ]
         },
         "layout": {
          "annotationdefaults": {
           "arrowcolor": "#2a3f5f",
           "arrowhead": 0,
           "arrowwidth": 1
          },
          "autotypenumbers": "strict",
          "coloraxis": {
           "colorbar": {
            "outlinewidth": 0,
            "ticks": ""
           }
          },
          "colorscale": {
           "diverging": [
            [
             0,
             "#8e0152"
            ],
            [
             0.1,
             "#c51b7d"
            ],
            [
             0.2,
             "#de77ae"
            ],
            [
             0.3,
             "#f1b6da"
            ],
            [
             0.4,
             "#fde0ef"
            ],
            [
             0.5,
             "#f7f7f7"
            ],
            [
             0.6,
             "#e6f5d0"
            ],
            [
             0.7,
             "#b8e186"
            ],
            [
             0.8,
             "#7fbc41"
            ],
            [
             0.9,
             "#4d9221"
            ],
            [
             1,
             "#276419"
            ]
           ],
           "sequential": [
            [
             0,
             "#0d0887"
            ],
            [
             0.1111111111111111,
             "#46039f"
            ],
            [
             0.2222222222222222,
             "#7201a8"
            ],
            [
             0.3333333333333333,
             "#9c179e"
            ],
            [
             0.4444444444444444,
             "#bd3786"
            ],
            [
             0.5555555555555556,
             "#d8576b"
            ],
            [
             0.6666666666666666,
             "#ed7953"
            ],
            [
             0.7777777777777778,
             "#fb9f3a"
            ],
            [
             0.8888888888888888,
             "#fdca26"
            ],
            [
             1,
             "#f0f921"
            ]
           ],
           "sequentialminus": [
            [
             0,
             "#0d0887"
            ],
            [
             0.1111111111111111,
             "#46039f"
            ],
            [
             0.2222222222222222,
             "#7201a8"
            ],
            [
             0.3333333333333333,
             "#9c179e"
            ],
            [
             0.4444444444444444,
             "#bd3786"
            ],
            [
             0.5555555555555556,
             "#d8576b"
            ],
            [
             0.6666666666666666,
             "#ed7953"
            ],
            [
             0.7777777777777778,
             "#fb9f3a"
            ],
            [
             0.8888888888888888,
             "#fdca26"
            ],
            [
             1,
             "#f0f921"
            ]
           ]
          },
          "colorway": [
           "#636efa",
           "#EF553B",
           "#00cc96",
           "#ab63fa",
           "#FFA15A",
           "#19d3f3",
           "#FF6692",
           "#B6E880",
           "#FF97FF",
           "#FECB52"
          ],
          "font": {
           "color": "#2a3f5f"
          },
          "geo": {
           "bgcolor": "white",
           "lakecolor": "white",
           "landcolor": "#E5ECF6",
           "showlakes": true,
           "showland": true,
           "subunitcolor": "white"
          },
          "hoverlabel": {
           "align": "left"
          },
          "hovermode": "closest",
          "mapbox": {
           "style": "light"
          },
          "paper_bgcolor": "white",
          "plot_bgcolor": "#E5ECF6",
          "polar": {
           "angularaxis": {
            "gridcolor": "white",
            "linecolor": "white",
            "ticks": ""
           },
           "bgcolor": "#E5ECF6",
           "radialaxis": {
            "gridcolor": "white",
            "linecolor": "white",
            "ticks": ""
           }
          },
          "scene": {
           "xaxis": {
            "backgroundcolor": "#E5ECF6",
            "gridcolor": "white",
            "gridwidth": 2,
            "linecolor": "white",
            "showbackground": true,
            "ticks": "",
            "zerolinecolor": "white"
           },
           "yaxis": {
            "backgroundcolor": "#E5ECF6",
            "gridcolor": "white",
            "gridwidth": 2,
            "linecolor": "white",
            "showbackground": true,
            "ticks": "",
            "zerolinecolor": "white"
           },
           "zaxis": {
            "backgroundcolor": "#E5ECF6",
            "gridcolor": "white",
            "gridwidth": 2,
            "linecolor": "white",
            "showbackground": true,
            "ticks": "",
            "zerolinecolor": "white"
           }
          },
          "shapedefaults": {
           "line": {
            "color": "#2a3f5f"
           }
          },
          "ternary": {
           "aaxis": {
            "gridcolor": "white",
            "linecolor": "white",
            "ticks": ""
           },
           "baxis": {
            "gridcolor": "white",
            "linecolor": "white",
            "ticks": ""
           },
           "bgcolor": "#E5ECF6",
           "caxis": {
            "gridcolor": "white",
            "linecolor": "white",
            "ticks": ""
           }
          },
          "title": {
           "x": 0.05
          },
          "xaxis": {
           "automargin": true,
           "gridcolor": "white",
           "linecolor": "white",
           "ticks": "",
           "title": {
            "standoff": 15
           },
           "zerolinecolor": "white",
           "zerolinewidth": 2
          },
          "yaxis": {
           "automargin": true,
           "gridcolor": "white",
           "linecolor": "white",
           "ticks": "",
           "title": {
            "standoff": 15
           },
           "zerolinecolor": "white",
           "zerolinewidth": 2
          }
         }
        },
        "width": 600,
        "xaxis": {
         "anchor": "y",
         "categoryarray": [
          "blue",
          "red"
         ],
         "categoryorder": "array",
         "domain": [
          0,
          0.31999999999999995
         ],
         "title": {
          "text": ""
         }
        },
        "xaxis2": {
         "anchor": "y2",
         "categoryarray": [
          "blue",
          "red"
         ],
         "categoryorder": "array",
         "domain": [
          0.33999999999999997,
          0.6599999999999999
         ],
         "matches": "x",
         "title": {
          "text": ""
         }
        },
        "xaxis3": {
         "anchor": "y3",
         "categoryarray": [
          "blue",
          "red"
         ],
         "categoryorder": "array",
         "domain": [
          0.6799999999999999,
          0.9999999999999999
         ],
         "matches": "x",
         "title": {
          "text": ""
         }
        },
        "yaxis": {
         "anchor": "x",
         "domain": [
          0,
          1
         ],
         "ticktext": [
          "0",
          "0.5",
          "1"
         ],
         "tickvals": [
          0,
          0.5,
          1
         ],
         "title": {
          "text": "Probability"
         }
        },
        "yaxis2": {
         "anchor": "x2",
         "domain": [
          0,
          1
         ],
         "matches": "y",
         "showticklabels": false,
         "ticktext": [
          "0",
          "0.5",
          "1"
         ],
         "tickvals": [
          0,
          0.5,
          1
         ]
        },
        "yaxis3": {
         "anchor": "x3",
         "domain": [
          0,
          1
         ],
         "matches": "y",
         "showticklabels": false,
         "ticktext": [
          "0",
          "0.5",
          "1"
         ],
         "tickvals": [
          0,
          0.5,
          1
         ]
        }
       }
      }
     },
     "metadata": {},
     "output_type": "display_data"
    },
    {
     "data": {
      "application/vnd.plotly.v1+json": {
       "config": {
        "plotlyServerURL": "https://plot.ly"
       },
       "data": [
        {
         "alignmentgroup": "True",
         "customdata": [
          [
           "BLUE",
           "combined",
           "The word \"BLUE\"",
           "incongruent",
           true,
           "BLUE",
           null,
           "Combined",
           "✔",
           "‘The word \"BLUE\"’"
          ],
          [
           "BLUE",
           "combined",
           "The word \"BLUE\"",
           "congruent",
           true,
           "BLUE",
           null,
           "Combined",
           "✔",
           "‘The word \"BLUE\"’"
          ]
         ],
         "hovertemplate": "prompt=%{customdata[2]}<br>word=%{customdata[0]}<br>color=%{x}<br>Probability=%{y}<br>correct_str=%{customdata[8]}<br>Experiment=%{customdata[1]}<br>condition=%{customdata[3]}<br>correct=%{customdata[4]}<br>prompt_word=%{customdata[5]}<br>prompt_color=%{customdata[6]}<br>experiment_str=%{customdata[7]}<br>Prompt=%{customdata[9]}<extra></extra>",
         "legendgroup": "The word \"BLUE\"",
         "marker": {
          "color": "blue",
          "pattern": {
           "shape": "/"
          }
         },
         "name": "The word \"BLUE\"",
         "offsetgroup": "The word \"BLUE\"",
         "orientation": "v",
         "showlegend": true,
         "text": [
          "✔",
          "✔"
         ],
         "textposition": "auto",
         "type": "bar",
         "x": [
          "red",
          "blue"
         ],
         "xaxis": "x",
         "y": {
          "bdata": "AAAA4OJf5T8AAADgfQjnPw==",
          "dtype": "f8"
         },
         "yaxis": "y"
        },
        {
         "alignmentgroup": "True",
         "customdata": [
          [
           "RED",
           "combined",
           "The word \"BLUE\"",
           "congruent",
           false,
           "BLUE",
           null,
           "Combined",
           "✗",
           "‘The word \"BLUE\"’"
          ],
          [
           "RED",
           "combined",
           "The word \"BLUE\"",
           "incongruent",
           false,
           "BLUE",
           null,
           "Combined",
           "✗",
           "‘The word \"BLUE\"’"
          ]
         ],
         "hovertemplate": "prompt=%{customdata[2]}<br>word=%{customdata[0]}<br>color=%{x}<br>Probability=%{y}<br>correct_str=%{customdata[8]}<br>Experiment=%{customdata[1]}<br>condition=%{customdata[3]}<br>correct=%{customdata[4]}<br>prompt_word=%{customdata[5]}<br>prompt_color=%{customdata[6]}<br>experiment_str=%{customdata[7]}<br>Prompt=%{customdata[9]}<extra></extra>",
         "legendgroup": "The word \"BLUE\"",
         "marker": {
          "color": "blue",
          "pattern": {
           "shape": "/"
          }
         },
         "name": "The word \"BLUE\"",
         "offsetgroup": "The word \"BLUE\"",
         "orientation": "v",
         "showlegend": false,
         "text": [
          "✗",
          "✗"
         ],
         "textposition": "auto",
         "type": "bar",
         "x": [
          "red",
          "blue"
         ],
         "xaxis": "x2",
         "y": {
          "bdata": "zPv//+EtLT+T////5mh0Pw==",
          "dtype": "f8"
         },
         "yaxis": "y2"
        },
        {
         "alignmentgroup": "True",
         "customdata": [
          [
           "XXXX",
           "combined",
           "The word \"BLUE\"",
           "neutral",
           false,
           "BLUE",
           null,
           "Combined",
           "✗",
           "‘The word \"BLUE\"’"
          ],
          [
           "XXXX",
           "combined",
           "The word \"BLUE\"",
           "neutral",
           false,
           "BLUE",
           null,
           "Combined",
           "✗",
           "‘The word \"BLUE\"’"
          ]
         ],
         "hovertemplate": "prompt=%{customdata[2]}<br>word=%{customdata[0]}<br>color=%{x}<br>Probability=%{y}<br>correct_str=%{customdata[8]}<br>Experiment=%{customdata[1]}<br>condition=%{customdata[3]}<br>correct=%{customdata[4]}<br>prompt_word=%{customdata[5]}<br>prompt_color=%{customdata[6]}<br>experiment_str=%{customdata[7]}<br>Prompt=%{customdata[9]}<extra></extra>",
         "legendgroup": "The word \"BLUE\"",
         "marker": {
          "color": "blue",
          "pattern": {
           "shape": "/"
          }
         },
         "name": "The word \"BLUE\"",
         "offsetgroup": "The word \"BLUE\"",
         "orientation": "v",
         "showlegend": false,
         "text": [
          "✗",
          "✗"
         ],
         "textposition": "auto",
         "type": "bar",
         "x": [
          "red",
          "blue"
         ],
         "xaxis": "x3",
         "y": {
          "bdata": "9///f+Inoj8AAADA5dbaPw==",
          "dtype": "f8"
         },
         "yaxis": "y3"
        },
        {
         "alignmentgroup": "True",
         "customdata": [
          [
           "BLUE",
           "combined",
           "The word \"RED\"",
           "incongruent",
           false,
           "RED",
           null,
           "Combined",
           "✗",
           "‘The word \"RED\"’"
          ],
          [
           "BLUE",
           "combined",
           "The word \"RED\"",
           "congruent",
           false,
           "RED",
           null,
           "Combined",
           "✗",
           "‘The word \"RED\"’"
          ]
         ],
         "hovertemplate": "prompt=%{customdata[2]}<br>word=%{customdata[0]}<br>color=%{x}<br>Probability=%{y}<br>correct_str=%{customdata[8]}<br>Experiment=%{customdata[1]}<br>condition=%{customdata[3]}<br>correct=%{customdata[4]}<br>prompt_word=%{customdata[5]}<br>prompt_color=%{customdata[6]}<br>experiment_str=%{customdata[7]}<br>Prompt=%{customdata[9]}<extra></extra>",
         "legendgroup": "The word \"RED\"",
         "marker": {
          "color": "red",
          "pattern": {
           "shape": "/"
          }
         },
         "name": "The word \"RED\"",
         "offsetgroup": "The word \"RED\"",
         "orientation": "v",
         "showlegend": true,
         "text": [
          "✗",
          "✗"
         ],
         "textposition": "auto",
         "type": "bar",
         "x": [
          "red",
          "blue"
         ],
         "xaxis": "x",
         "y": {
          "bdata": "5P//P+ghaz/F/f8fypM0Pw==",
          "dtype": "f8"
         },
         "yaxis": "y"
        },
        {
         "alignmentgroup": "True",
         "customdata": [
          [
           "RED",
           "combined",
           "The word \"RED\"",
           "congruent",
           true,
           "RED",
           null,
           "Combined",
           "✔",
           "‘The word \"RED\"’"
          ],
          [
           "RED",
           "combined",
           "The word \"RED\"",
           "incongruent",
           true,
           "RED",
           null,
           "Combined",
           "✔",
           "‘The word \"RED\"’"
          ]
         ],
         "hovertemplate": "prompt=%{customdata[2]}<br>word=%{customdata[0]}<br>color=%{x}<br>Probability=%{y}<br>correct_str=%{customdata[8]}<br>Experiment=%{customdata[1]}<br>condition=%{customdata[3]}<br>correct=%{customdata[4]}<br>prompt_word=%{customdata[5]}<br>prompt_color=%{customdata[6]}<br>experiment_str=%{customdata[7]}<br>Prompt=%{customdata[9]}<extra></extra>",
         "legendgroup": "The word \"RED\"",
         "marker": {
          "color": "red",
          "pattern": {
           "shape": "/"
          }
         },
         "name": "The word \"RED\"",
         "offsetgroup": "The word \"RED\"",
         "orientation": "v",
         "showlegend": false,
         "text": [
          "✔",
          "✔"
         ],
         "textposition": "auto",
         "type": "bar",
         "x": [
          "red",
          "blue"
         ],
         "xaxis": "x2",
         "y": {
          "bdata": "AAAAwOWv5T8AAABgI1zjPw==",
          "dtype": "f8"
         },
         "yaxis": "y2"
        },
        {
         "alignmentgroup": "True",
         "customdata": [
          [
           "XXXX",
           "combined",
           "The word \"RED\"",
           "neutral",
           false,
           "RED",
           null,
           "Combined",
           "✗",
           "‘The word \"RED\"’"
          ],
          [
           "XXXX",
           "combined",
           "The word \"RED\"",
           "neutral",
           false,
           "RED",
           null,
           "Combined",
           "✗",
           "‘The word \"RED\"’"
          ]
         ],
         "hovertemplate": "prompt=%{customdata[2]}<br>word=%{customdata[0]}<br>color=%{x}<br>Probability=%{y}<br>correct_str=%{customdata[8]}<br>Experiment=%{customdata[1]}<br>condition=%{customdata[3]}<br>correct=%{customdata[4]}<br>prompt_word=%{customdata[5]}<br>prompt_color=%{customdata[6]}<br>experiment_str=%{customdata[7]}<br>Prompt=%{customdata[9]}<extra></extra>",
         "legendgroup": "The word \"RED\"",
         "marker": {
          "color": "red",
          "pattern": {
           "shape": "/"
          }
         },
         "name": "The word \"RED\"",
         "offsetgroup": "The word \"RED\"",
         "orientation": "v",
         "showlegend": false,
         "text": [
          "✗",
          "✗"
         ],
         "textposition": "auto",
         "type": "bar",
         "x": [
          "red",
          "blue"
         ],
         "xaxis": "x3",
         "y": {
          "bdata": "/v//v4Sbzz/r///fKI+bPw==",
          "dtype": "f8"
         },
         "yaxis": "y3"
        },
        {
         "alignmentgroup": "True",
         "customdata": [
          [
           "BLUE",
           "combined",
           "A word colored in blue",
           "incongruent",
           false,
           null,
           "blue",
           "Combined",
           "✗",
           "‘A word colored in blue’"
          ],
          [
           "BLUE",
           "combined",
           "A word colored in blue",
           "congruent",
           true,
           null,
           "blue",
           "Combined",
           "✔",
           "‘A word colored in blue’"
          ]
         ],
         "hovertemplate": "prompt=%{customdata[2]}<br>word=%{customdata[0]}<br>color=%{x}<br>Probability=%{y}<br>correct_str=%{customdata[8]}<br>Experiment=%{customdata[1]}<br>condition=%{customdata[3]}<br>correct=%{customdata[4]}<br>prompt_word=%{customdata[5]}<br>prompt_color=%{customdata[6]}<br>experiment_str=%{customdata[7]}<br>Prompt=%{customdata[9]}<extra></extra>",
         "legendgroup": "A word colored in blue",
         "marker": {
          "color": "blue",
          "pattern": {
           "shape": ""
          }
         },
         "name": "A word colored in blue",
         "offsetgroup": "A word colored in blue",
         "orientation": "v",
         "showlegend": true,
         "text": [
          "✗",
          "✔"
         ],
         "textposition": "auto",
         "type": "bar",
         "x": [
          "red",
          "blue"
         ],
         "xaxis": "x",
         "y": {
          "bdata": "AAAAADqm0z//////bdnRPw==",
          "dtype": "f8"
         },
         "yaxis": "y"
        },
        {
         "alignmentgroup": "True",
         "customdata": [
          [
           "RED",
           "combined",
           "A word colored in blue",
           "congruent",
           false,
           null,
           "blue",
           "Combined",
           "✗",
           "‘A word colored in blue’"
          ],
          [
           "RED",
           "combined",
           "A word colored in blue",
           "incongruent",
           true,
           null,
           "blue",
           "Combined",
           "✔",
           "‘A word colored in blue’"
          ]
         ],
         "hovertemplate": "prompt=%{customdata[2]}<br>word=%{customdata[0]}<br>color=%{x}<br>Probability=%{y}<br>correct_str=%{customdata[8]}<br>Experiment=%{customdata[1]}<br>condition=%{customdata[3]}<br>correct=%{customdata[4]}<br>prompt_word=%{customdata[5]}<br>prompt_color=%{customdata[6]}<br>experiment_str=%{customdata[7]}<br>Prompt=%{customdata[9]}<extra></extra>",
         "legendgroup": "A word colored in blue",
         "marker": {
          "color": "blue",
          "pattern": {
           "shape": ""
          }
         },
         "name": "A word colored in blue",
         "offsetgroup": "A word colored in blue",
         "orientation": "v",
         "showlegend": false,
         "text": [
          "✗",
          "✔"
         ],
         "textposition": "auto",
         "type": "bar",
         "x": [
          "red",
          "blue"
         ],
         "xaxis": "x2",
         "y": {
          "bdata": "j/3/X48APT/L//9/fMaLPw==",
          "dtype": "f8"
         },
         "yaxis": "y2"
        },
        {
         "alignmentgroup": "True",
         "customdata": [
          [
           "XXXX",
           "combined",
           "A word colored in blue",
           "neutral",
           false,
           null,
           "blue",
           "Combined",
           "✗",
           "‘A word colored in blue’"
          ],
          [
           "XXXX",
           "combined",
           "A word colored in blue",
           "neutral",
           true,
           null,
           "blue",
           "Combined",
           "✔",
           "‘A word colored in blue’"
          ]
         ],
         "hovertemplate": "prompt=%{customdata[2]}<br>word=%{customdata[0]}<br>color=%{x}<br>Probability=%{y}<br>correct_str=%{customdata[8]}<br>Experiment=%{customdata[1]}<br>condition=%{customdata[3]}<br>correct=%{customdata[4]}<br>prompt_word=%{customdata[5]}<br>prompt_color=%{customdata[6]}<br>experiment_str=%{customdata[7]}<br>Prompt=%{customdata[9]}<extra></extra>",
         "legendgroup": "A word colored in blue",
         "marker": {
          "color": "blue",
          "pattern": {
           "shape": ""
          }
         },
         "name": "A word colored in blue",
         "offsetgroup": "A word colored in blue",
         "orientation": "v",
         "showlegend": false,
         "text": [
          "✗",
          "✔"
         ],
         "textposition": "auto",
         "type": "bar",
         "x": [
          "red",
          "blue"
         ],
         "xaxis": "x3",
         "y": {
          "bdata": "9f//n/WWrz8AAADASJ/gPw==",
          "dtype": "f8"
         },
         "yaxis": "y3"
        },
        {
         "alignmentgroup": "True",
         "customdata": [
          [
           "BLUE",
           "combined",
           "A word colored in red",
           "incongruent",
           true,
           null,
           "red",
           "Combined",
           "✔",
           "‘A word colored in red’"
          ],
          [
           "BLUE",
           "combined",
           "A word colored in red",
           "congruent",
           false,
           null,
           "red",
           "Combined",
           "✗",
           "‘A word colored in red’"
          ]
         ],
         "hovertemplate": "prompt=%{customdata[2]}<br>word=%{customdata[0]}<br>color=%{x}<br>Probability=%{y}<br>correct_str=%{customdata[8]}<br>Experiment=%{customdata[1]}<br>condition=%{customdata[3]}<br>correct=%{customdata[4]}<br>prompt_word=%{customdata[5]}<br>prompt_color=%{customdata[6]}<br>experiment_str=%{customdata[7]}<br>Prompt=%{customdata[9]}<extra></extra>",
         "legendgroup": "A word colored in red",
         "marker": {
          "color": "red",
          "pattern": {
           "shape": ""
          }
         },
         "name": "A word colored in red",
         "offsetgroup": "A word colored in red",
         "orientation": "v",
         "showlegend": true,
         "text": [
          "✔",
          "✗"
         ],
         "textposition": "auto",
         "type": "bar",
         "x": [
          "red",
          "blue"
         ],
         "xaxis": "x",
         "y": {
          "bdata": "/P//38Q7lj/a/v8fGXFQPw==",
          "dtype": "f8"
         },
         "yaxis": "y"
        },
        {
         "alignmentgroup": "True",
         "customdata": [
          [
           "RED",
           "combined",
           "A word colored in red",
           "congruent",
           true,
           null,
           "red",
           "Combined",
           "✔",
           "‘A word colored in red’"
          ],
          [
           "RED",
           "combined",
           "A word colored in red",
           "incongruent",
           false,
           null,
           "red",
           "Combined",
           "✗",
           "‘A word colored in red’"
          ]
         ],
         "hovertemplate": "prompt=%{customdata[2]}<br>word=%{customdata[0]}<br>color=%{x}<br>Probability=%{y}<br>correct_str=%{customdata[8]}<br>Experiment=%{customdata[1]}<br>condition=%{customdata[3]}<br>correct=%{customdata[4]}<br>prompt_word=%{customdata[5]}<br>prompt_color=%{customdata[6]}<br>experiment_str=%{customdata[7]}<br>Prompt=%{customdata[9]}<extra></extra>",
         "legendgroup": "A word colored in red",
         "marker": {
          "color": "red",
          "pattern": {
           "shape": ""
          }
         },
         "name": "A word colored in red",
         "offsetgroup": "A word colored in red",
         "orientation": "v",
         "showlegend": false,
         "text": [
          "✔",
          "✗"
         ],
         "textposition": "auto",
         "type": "bar",
         "x": [
          "red",
          "blue"
         ],
         "xaxis": "x2",
         "y": {
          "bdata": "////n06V1D8AAACA4RfYPw==",
          "dtype": "f8"
         },
         "yaxis": "y2"
        },
        {
         "alignmentgroup": "True",
         "customdata": [
          [
           "XXXX",
           "combined",
           "A word colored in red",
           "neutral",
           true,
           null,
           "red",
           "Combined",
           "✔",
           "‘A word colored in red’"
          ],
          [
           "XXXX",
           "combined",
           "A word colored in red",
           "neutral",
           false,
           null,
           "red",
           "Combined",
           "✗",
           "‘A word colored in red’"
          ]
         ],
         "hovertemplate": "prompt=%{customdata[2]}<br>word=%{customdata[0]}<br>color=%{x}<br>Probability=%{y}<br>correct_str=%{customdata[8]}<br>Experiment=%{customdata[1]}<br>condition=%{customdata[3]}<br>correct=%{customdata[4]}<br>prompt_word=%{customdata[5]}<br>prompt_color=%{customdata[6]}<br>experiment_str=%{customdata[7]}<br>Prompt=%{customdata[9]}<extra></extra>",
         "legendgroup": "A word colored in red",
         "marker": {
          "color": "red",
          "pattern": {
           "shape": ""
          }
         },
         "name": "A word colored in red",
         "offsetgroup": "A word colored in red",
         "orientation": "v",
         "showlegend": false,
         "text": [
          "✔",
          "✗"
         ],
         "textposition": "auto",
         "type": "bar",
         "x": [
          "red",
          "blue"
         ],
         "xaxis": "x3",
         "y": {
          "bdata": "AAAAQDH95D/+//9/sYyhPw==",
          "dtype": "f8"
         },
         "yaxis": "y3"
        }
       ],
       "layout": {
        "annotations": [
         {
          "showarrow": false,
          "text": "BLUE",
          "x": 0.15999999999999998,
          "xanchor": "center",
          "xref": "paper",
          "y": 1,
          "yanchor": "bottom",
          "yref": "paper"
         },
         {
          "showarrow": false,
          "text": "RED",
          "x": 0.49999999999999994,
          "xanchor": "center",
          "xref": "paper",
          "y": 1,
          "yanchor": "bottom",
          "yref": "paper"
         },
         {
          "showarrow": false,
          "text": "XXXX",
          "x": 0.8399999999999999,
          "xanchor": "center",
          "xref": "paper",
          "y": 1,
          "yanchor": "bottom",
          "yref": "paper"
         },
         {
          "showarrow": false,
          "text": "Color",
          "x": 0.5,
          "xref": "paper",
          "y": -0.3,
          "yref": "paper"
         },
         {
          "showarrow": false,
          "text": "Word",
          "x": 0.5,
          "xref": "paper",
          "y": 1.3,
          "yref": "paper"
         }
        ],
        "barmode": "group",
        "height": 250,
        "legend": {
         "title": {
          "text": "prompt"
         },
         "tracegroupgap": 0
        },
        "margin": {
         "b": 60,
         "l": 50,
         "r": 50,
         "t": 50
        },
        "template": {
         "data": {
          "bar": [
           {
            "error_x": {
             "color": "#2a3f5f"
            },
            "error_y": {
             "color": "#2a3f5f"
            },
            "marker": {
             "line": {
              "color": "#E5ECF6",
              "width": 0.5
             },
             "pattern": {
              "fillmode": "overlay",
              "size": 10,
              "solidity": 0.2
             }
            },
            "type": "bar"
           }
          ],
          "barpolar": [
           {
            "marker": {
             "line": {
              "color": "#E5ECF6",
              "width": 0.5
             },
             "pattern": {
              "fillmode": "overlay",
              "size": 10,
              "solidity": 0.2
             }
            },
            "type": "barpolar"
           }
          ],
          "carpet": [
           {
            "aaxis": {
             "endlinecolor": "#2a3f5f",
             "gridcolor": "white",
             "linecolor": "white",
             "minorgridcolor": "white",
             "startlinecolor": "#2a3f5f"
            },
            "baxis": {
             "endlinecolor": "#2a3f5f",
             "gridcolor": "white",
             "linecolor": "white",
             "minorgridcolor": "white",
             "startlinecolor": "#2a3f5f"
            },
            "type": "carpet"
           }
          ],
          "choropleth": [
           {
            "colorbar": {
             "outlinewidth": 0,
             "ticks": ""
            },
            "type": "choropleth"
           }
          ],
          "contour": [
           {
            "colorbar": {
             "outlinewidth": 0,
             "ticks": ""
            },
            "colorscale": [
             [
              0,
              "#0d0887"
             ],
             [
              0.1111111111111111,
              "#46039f"
             ],
             [
              0.2222222222222222,
              "#7201a8"
             ],
             [
              0.3333333333333333,
              "#9c179e"
             ],
             [
              0.4444444444444444,
              "#bd3786"
             ],
             [
              0.5555555555555556,
              "#d8576b"
             ],
             [
              0.6666666666666666,
              "#ed7953"
             ],
             [
              0.7777777777777778,
              "#fb9f3a"
             ],
             [
              0.8888888888888888,
              "#fdca26"
             ],
             [
              1,
              "#f0f921"
             ]
            ],
            "type": "contour"
           }
          ],
          "contourcarpet": [
           {
            "colorbar": {
             "outlinewidth": 0,
             "ticks": ""
            },
            "type": "contourcarpet"
           }
          ],
          "heatmap": [
           {
            "colorbar": {
             "outlinewidth": 0,
             "ticks": ""
            },
            "colorscale": [
             [
              0,
              "#0d0887"
             ],
             [
              0.1111111111111111,
              "#46039f"
             ],
             [
              0.2222222222222222,
              "#7201a8"
             ],
             [
              0.3333333333333333,
              "#9c179e"
             ],
             [
              0.4444444444444444,
              "#bd3786"
             ],
             [
              0.5555555555555556,
              "#d8576b"
             ],
             [
              0.6666666666666666,
              "#ed7953"
             ],
             [
              0.7777777777777778,
              "#fb9f3a"
             ],
             [
              0.8888888888888888,
              "#fdca26"
             ],
             [
              1,
              "#f0f921"
             ]
            ],
            "type": "heatmap"
           }
          ],
          "histogram": [
           {
            "marker": {
             "pattern": {
              "fillmode": "overlay",
              "size": 10,
              "solidity": 0.2
             }
            },
            "type": "histogram"
           }
          ],
          "histogram2d": [
           {
            "colorbar": {
             "outlinewidth": 0,
             "ticks": ""
            },
            "colorscale": [
             [
              0,
              "#0d0887"
             ],
             [
              0.1111111111111111,
              "#46039f"
             ],
             [
              0.2222222222222222,
              "#7201a8"
             ],
             [
              0.3333333333333333,
              "#9c179e"
             ],
             [
              0.4444444444444444,
              "#bd3786"
             ],
             [
              0.5555555555555556,
              "#d8576b"
             ],
             [
              0.6666666666666666,
              "#ed7953"
             ],
             [
              0.7777777777777778,
              "#fb9f3a"
             ],
             [
              0.8888888888888888,
              "#fdca26"
             ],
             [
              1,
              "#f0f921"
             ]
            ],
            "type": "histogram2d"
           }
          ],
          "histogram2dcontour": [
           {
            "colorbar": {
             "outlinewidth": 0,
             "ticks": ""
            },
            "colorscale": [
             [
              0,
              "#0d0887"
             ],
             [
              0.1111111111111111,
              "#46039f"
             ],
             [
              0.2222222222222222,
              "#7201a8"
             ],
             [
              0.3333333333333333,
              "#9c179e"
             ],
             [
              0.4444444444444444,
              "#bd3786"
             ],
             [
              0.5555555555555556,
              "#d8576b"
             ],
             [
              0.6666666666666666,
              "#ed7953"
             ],
             [
              0.7777777777777778,
              "#fb9f3a"
             ],
             [
              0.8888888888888888,
              "#fdca26"
             ],
             [
              1,
              "#f0f921"
             ]
            ],
            "type": "histogram2dcontour"
           }
          ],
          "mesh3d": [
           {
            "colorbar": {
             "outlinewidth": 0,
             "ticks": ""
            },
            "type": "mesh3d"
           }
          ],
          "parcoords": [
           {
            "line": {
             "colorbar": {
              "outlinewidth": 0,
              "ticks": ""
             }
            },
            "type": "parcoords"
           }
          ],
          "pie": [
           {
            "automargin": true,
            "type": "pie"
           }
          ],
          "scatter": [
           {
            "fillpattern": {
             "fillmode": "overlay",
             "size": 10,
             "solidity": 0.2
            },
            "type": "scatter"
           }
          ],
          "scatter3d": [
           {
            "line": {
             "colorbar": {
              "outlinewidth": 0,
              "ticks": ""
             }
            },
            "marker": {
             "colorbar": {
              "outlinewidth": 0,
              "ticks": ""
             }
            },
            "type": "scatter3d"
           }
          ],
          "scattercarpet": [
           {
            "marker": {
             "colorbar": {
              "outlinewidth": 0,
              "ticks": ""
             }
            },
            "type": "scattercarpet"
           }
          ],
          "scattergeo": [
           {
            "marker": {
             "colorbar": {
              "outlinewidth": 0,
              "ticks": ""
             }
            },
            "type": "scattergeo"
           }
          ],
          "scattergl": [
           {
            "marker": {
             "colorbar": {
              "outlinewidth": 0,
              "ticks": ""
             }
            },
            "type": "scattergl"
           }
          ],
          "scattermap": [
           {
            "marker": {
             "colorbar": {
              "outlinewidth": 0,
              "ticks": ""
             }
            },
            "type": "scattermap"
           }
          ],
          "scattermapbox": [
           {
            "marker": {
             "colorbar": {
              "outlinewidth": 0,
              "ticks": ""
             }
            },
            "type": "scattermapbox"
           }
          ],
          "scatterpolar": [
           {
            "marker": {
             "colorbar": {
              "outlinewidth": 0,
              "ticks": ""
             }
            },
            "type": "scatterpolar"
           }
          ],
          "scatterpolargl": [
           {
            "marker": {
             "colorbar": {
              "outlinewidth": 0,
              "ticks": ""
             }
            },
            "type": "scatterpolargl"
           }
          ],
          "scatterternary": [
           {
            "marker": {
             "colorbar": {
              "outlinewidth": 0,
              "ticks": ""
             }
            },
            "type": "scatterternary"
           }
          ],
          "surface": [
           {
            "colorbar": {
             "outlinewidth": 0,
             "ticks": ""
            },
            "colorscale": [
             [
              0,
              "#0d0887"
             ],
             [
              0.1111111111111111,
              "#46039f"
             ],
             [
              0.2222222222222222,
              "#7201a8"
             ],
             [
              0.3333333333333333,
              "#9c179e"
             ],
             [
              0.4444444444444444,
              "#bd3786"
             ],
             [
              0.5555555555555556,
              "#d8576b"
             ],
             [
              0.6666666666666666,
              "#ed7953"
             ],
             [
              0.7777777777777778,
              "#fb9f3a"
             ],
             [
              0.8888888888888888,
              "#fdca26"
             ],
             [
              1,
              "#f0f921"
             ]
            ],
            "type": "surface"
           }
          ],
          "table": [
           {
            "cells": {
             "fill": {
              "color": "#EBF0F8"
             },
             "line": {
              "color": "white"
             }
            },
            "header": {
             "fill": {
              "color": "#C8D4E3"
             },
             "line": {
              "color": "white"
             }
            },
            "type": "table"
           }
          ]
         },
         "layout": {
          "annotationdefaults": {
           "arrowcolor": "#2a3f5f",
           "arrowhead": 0,
           "arrowwidth": 1
          },
          "autotypenumbers": "strict",
          "coloraxis": {
           "colorbar": {
            "outlinewidth": 0,
            "ticks": ""
           }
          },
          "colorscale": {
           "diverging": [
            [
             0,
             "#8e0152"
            ],
            [
             0.1,
             "#c51b7d"
            ],
            [
             0.2,
             "#de77ae"
            ],
            [
             0.3,
             "#f1b6da"
            ],
            [
             0.4,
             "#fde0ef"
            ],
            [
             0.5,
             "#f7f7f7"
            ],
            [
             0.6,
             "#e6f5d0"
            ],
            [
             0.7,
             "#b8e186"
            ],
            [
             0.8,
             "#7fbc41"
            ],
            [
             0.9,
             "#4d9221"
            ],
            [
             1,
             "#276419"
            ]
           ],
           "sequential": [
            [
             0,
             "#0d0887"
            ],
            [
             0.1111111111111111,
             "#46039f"
            ],
            [
             0.2222222222222222,
             "#7201a8"
            ],
            [
             0.3333333333333333,
             "#9c179e"
            ],
            [
             0.4444444444444444,
             "#bd3786"
            ],
            [
             0.5555555555555556,
             "#d8576b"
            ],
            [
             0.6666666666666666,
             "#ed7953"
            ],
            [
             0.7777777777777778,
             "#fb9f3a"
            ],
            [
             0.8888888888888888,
             "#fdca26"
            ],
            [
             1,
             "#f0f921"
            ]
           ],
           "sequentialminus": [
            [
             0,
             "#0d0887"
            ],
            [
             0.1111111111111111,
             "#46039f"
            ],
            [
             0.2222222222222222,
             "#7201a8"
            ],
            [
             0.3333333333333333,
             "#9c179e"
            ],
            [
             0.4444444444444444,
             "#bd3786"
            ],
            [
             0.5555555555555556,
             "#d8576b"
            ],
            [
             0.6666666666666666,
             "#ed7953"
            ],
            [
             0.7777777777777778,
             "#fb9f3a"
            ],
            [
             0.8888888888888888,
             "#fdca26"
            ],
            [
             1,
             "#f0f921"
            ]
           ]
          },
          "colorway": [
           "#636efa",
           "#EF553B",
           "#00cc96",
           "#ab63fa",
           "#FFA15A",
           "#19d3f3",
           "#FF6692",
           "#B6E880",
           "#FF97FF",
           "#FECB52"
          ],
          "font": {
           "color": "#2a3f5f"
          },
          "geo": {
           "bgcolor": "white",
           "lakecolor": "white",
           "landcolor": "#E5ECF6",
           "showlakes": true,
           "showland": true,
           "subunitcolor": "white"
          },
          "hoverlabel": {
           "align": "left"
          },
          "hovermode": "closest",
          "mapbox": {
           "style": "light"
          },
          "paper_bgcolor": "white",
          "plot_bgcolor": "#E5ECF6",
          "polar": {
           "angularaxis": {
            "gridcolor": "white",
            "linecolor": "white",
            "ticks": ""
           },
           "bgcolor": "#E5ECF6",
           "radialaxis": {
            "gridcolor": "white",
            "linecolor": "white",
            "ticks": ""
           }
          },
          "scene": {
           "xaxis": {
            "backgroundcolor": "#E5ECF6",
            "gridcolor": "white",
            "gridwidth": 2,
            "linecolor": "white",
            "showbackground": true,
            "ticks": "",
            "zerolinecolor": "white"
           },
           "yaxis": {
            "backgroundcolor": "#E5ECF6",
            "gridcolor": "white",
            "gridwidth": 2,
            "linecolor": "white",
            "showbackground": true,
            "ticks": "",
            "zerolinecolor": "white"
           },
           "zaxis": {
            "backgroundcolor": "#E5ECF6",
            "gridcolor": "white",
            "gridwidth": 2,
            "linecolor": "white",
            "showbackground": true,
            "ticks": "",
            "zerolinecolor": "white"
           }
          },
          "shapedefaults": {
           "line": {
            "color": "#2a3f5f"
           }
          },
          "ternary": {
           "aaxis": {
            "gridcolor": "white",
            "linecolor": "white",
            "ticks": ""
           },
           "baxis": {
            "gridcolor": "white",
            "linecolor": "white",
            "ticks": ""
           },
           "bgcolor": "#E5ECF6",
           "caxis": {
            "gridcolor": "white",
            "linecolor": "white",
            "ticks": ""
           }
          },
          "title": {
           "x": 0.05
          },
          "xaxis": {
           "automargin": true,
           "gridcolor": "white",
           "linecolor": "white",
           "ticks": "",
           "title": {
            "standoff": 15
           },
           "zerolinecolor": "white",
           "zerolinewidth": 2
          },
          "yaxis": {
           "automargin": true,
           "gridcolor": "white",
           "linecolor": "white",
           "ticks": "",
           "title": {
            "standoff": 15
           },
           "zerolinecolor": "white",
           "zerolinewidth": 2
          }
         }
        },
        "width": 600,
        "xaxis": {
         "anchor": "y",
         "categoryarray": [
          "blue",
          "red"
         ],
         "categoryorder": "array",
         "domain": [
          0,
          0.31999999999999995
         ],
         "title": {
          "text": ""
         }
        },
        "xaxis2": {
         "anchor": "y2",
         "categoryarray": [
          "blue",
          "red"
         ],
         "categoryorder": "array",
         "domain": [
          0.33999999999999997,
          0.6599999999999999
         ],
         "matches": "x",
         "title": {
          "text": ""
         }
        },
        "xaxis3": {
         "anchor": "y3",
         "categoryarray": [
          "blue",
          "red"
         ],
         "categoryorder": "array",
         "domain": [
          0.6799999999999999,
          0.9999999999999999
         ],
         "matches": "x",
         "title": {
          "text": ""
         }
        },
        "yaxis": {
         "anchor": "x",
         "domain": [
          0,
          1
         ],
         "ticktext": [
          "0",
          "0.5",
          "1"
         ],
         "tickvals": [
          0,
          0.5,
          1
         ],
         "title": {
          "text": "Probability"
         }
        },
        "yaxis2": {
         "anchor": "x2",
         "domain": [
          0,
          1
         ],
         "matches": "y",
         "showticklabels": false,
         "ticktext": [
          "0",
          "0.5",
          "1"
         ],
         "tickvals": [
          0,
          0.5,
          1
         ]
        },
        "yaxis3": {
         "anchor": "x3",
         "domain": [
          0,
          1
         ],
         "matches": "y",
         "showticklabels": false,
         "ticktext": [
          "0",
          "0.5",
          "1"
         ],
         "tickvals": [
          0,
          0.5,
          1
         ]
        }
       }
      }
     },
     "metadata": {},
     "output_type": "display_data"
    },
    {
     "data": {
      "application/vnd.plotly.v1+json": {
       "config": {
        "plotlyServerURL": "https://plot.ly"
       },
       "data": [
        {
         "alignmentgroup": "True",
         "customdata": [
          [
           "BLUE",
           "meaning_only",
           "The word \"BLUE\"",
           "incongruent",
           true,
           "BLUE",
           null,
           "Word",
           "✔",
           "‘The word \"BLUE\"’"
          ],
          [
           "BLUE",
           "meaning_only",
           "The word \"BLUE\"",
           "congruent",
           true,
           "BLUE",
           null,
           "Word",
           "✔",
           "‘The word \"BLUE\"’"
          ]
         ],
         "hovertemplate": "prompt=%{customdata[2]}<br>word=%{customdata[0]}<br>color=%{x}<br>Probability=%{y}<br>correct_str=%{customdata[8]}<br>Experiment=%{customdata[1]}<br>condition=%{customdata[3]}<br>correct=%{customdata[4]}<br>prompt_word=%{customdata[5]}<br>prompt_color=%{customdata[6]}<br>experiment_str=%{customdata[7]}<br>Prompt=%{customdata[9]}<extra></extra>",
         "legendgroup": "The word \"BLUE\"",
         "marker": {
          "color": "blue",
          "pattern": {
           "shape": "/"
          }
         },
         "name": "The word \"BLUE\"",
         "offsetgroup": "The word \"BLUE\"",
         "orientation": "v",
         "showlegend": true,
         "text": [
          "✔",
          "✔"
         ],
         "textposition": "auto",
         "type": "bar",
         "x": [
          "red",
          "blue"
         ],
         "xaxis": "x",
         "y": {
          "bdata": "AAAAQJTX7z8AAACgbfzvPw==",
          "dtype": "f8"
         },
         "yaxis": "y"
        },
        {
         "alignmentgroup": "True",
         "customdata": [
          [
           "RED",
           "meaning_only",
           "The word \"BLUE\"",
           "congruent",
           false,
           "BLUE",
           null,
           "Word",
           "✗",
           "‘The word \"BLUE\"’"
          ],
          [
           "RED",
           "meaning_only",
           "The word \"BLUE\"",
           "incongruent",
           false,
           "BLUE",
           null,
           "Word",
           "✗",
           "‘The word \"BLUE\"’"
          ]
         ],
         "hovertemplate": "prompt=%{customdata[2]}<br>word=%{customdata[0]}<br>color=%{x}<br>Probability=%{y}<br>correct_str=%{customdata[8]}<br>Experiment=%{customdata[1]}<br>condition=%{customdata[3]}<br>correct=%{customdata[4]}<br>prompt_word=%{customdata[5]}<br>prompt_color=%{customdata[6]}<br>experiment_str=%{customdata[7]}<br>Prompt=%{customdata[9]}<extra></extra>",
         "legendgroup": "The word \"BLUE\"",
         "marker": {
          "color": "blue",
          "pattern": {
           "shape": "/"
          }
         },
         "name": "The word \"BLUE\"",
         "offsetgroup": "The word \"BLUE\"",
         "orientation": "v",
         "showlegend": false,
         "text": [
          "✗",
          "✗"
         ],
         "textposition": "auto",
         "type": "bar",
         "x": [
          "red",
          "blue"
         ],
         "xaxis": "x2",
         "y": {
          "bdata": "3vj/3yaFNT/7//9f0LqAPw==",
          "dtype": "f8"
         },
         "yaxis": "y2"
        },
        {
         "alignmentgroup": "True",
         "customdata": [
          [
           "XXXX",
           "meaning_only",
           "The word \"BLUE\"",
           "neutral",
           false,
           "BLUE",
           null,
           "Word",
           "✗",
           "‘The word \"BLUE\"’"
          ],
          [
           "XXXX",
           "meaning_only",
           "The word \"BLUE\"",
           "neutral",
           false,
           "BLUE",
           null,
           "Word",
           "✗",
           "‘The word \"BLUE\"’"
          ]
         ],
         "hovertemplate": "prompt=%{customdata[2]}<br>word=%{customdata[0]}<br>color=%{x}<br>Probability=%{y}<br>correct_str=%{customdata[8]}<br>Experiment=%{customdata[1]}<br>condition=%{customdata[3]}<br>correct=%{customdata[4]}<br>prompt_word=%{customdata[5]}<br>prompt_color=%{customdata[6]}<br>experiment_str=%{customdata[7]}<br>Prompt=%{customdata[9]}<extra></extra>",
         "legendgroup": "The word \"BLUE\"",
         "marker": {
          "color": "blue",
          "pattern": {
           "shape": "/"
          }
         },
         "name": "The word \"BLUE\"",
         "offsetgroup": "The word \"BLUE\"",
         "orientation": "v",
         "showlegend": false,
         "text": [
          "✗",
          "✗"
         ],
         "textposition": "auto",
         "type": "bar",
         "x": [
          "red",
          "blue"
         ],
         "xaxis": "x3",
         "y": {
          "bdata": "////X6wSwD8BAACA+BHuPw==",
          "dtype": "f8"
         },
         "yaxis": "y3"
        },
        {
         "alignmentgroup": "True",
         "customdata": [
          [
           "BLUE",
           "meaning_only",
           "The word \"RED\"",
           "incongruent",
           false,
           "RED",
           null,
           "Word",
           "✗",
           "‘The word \"RED\"’"
          ],
          [
           "BLUE",
           "meaning_only",
           "The word \"RED\"",
           "congruent",
           false,
           "RED",
           null,
           "Word",
           "✗",
           "‘The word \"RED\"’"
          ]
         ],
         "hovertemplate": "prompt=%{customdata[2]}<br>word=%{customdata[0]}<br>color=%{x}<br>Probability=%{y}<br>correct_str=%{customdata[8]}<br>Experiment=%{customdata[1]}<br>condition=%{customdata[3]}<br>correct=%{customdata[4]}<br>prompt_word=%{customdata[5]}<br>prompt_color=%{customdata[6]}<br>experiment_str=%{customdata[7]}<br>Prompt=%{customdata[9]}<extra></extra>",
         "legendgroup": "The word \"RED\"",
         "marker": {
          "color": "red",
          "pattern": {
           "shape": "/"
          }
         },
         "name": "The word \"RED\"",
         "offsetgroup": "The word \"RED\"",
         "orientation": "v",
         "showlegend": true,
         "text": [
          "✗",
          "✗"
         ],
         "textposition": "auto",
         "type": "bar",
         "x": [
          "red",
          "blue"
         ],
         "xaxis": "x",
         "y": {
          "bdata": "8f///841dD8F/v8fbJM8Pw==",
          "dtype": "f8"
         },
         "yaxis": "y"
        },
        {
         "alignmentgroup": "True",
         "customdata": [
          [
           "RED",
           "meaning_only",
           "The word \"RED\"",
           "congruent",
           true,
           "RED",
           null,
           "Word",
           "✔",
           "‘The word \"RED\"’"
          ],
          [
           "RED",
           "meaning_only",
           "The word \"RED\"",
           "incongruent",
           true,
           "RED",
           null,
           "Word",
           "✔",
           "‘The word \"RED\"’"
          ]
         ],
         "hovertemplate": "prompt=%{customdata[2]}<br>word=%{customdata[0]}<br>color=%{x}<br>Probability=%{y}<br>correct_str=%{customdata[8]}<br>Experiment=%{customdata[1]}<br>condition=%{customdata[3]}<br>correct=%{customdata[4]}<br>prompt_word=%{customdata[5]}<br>prompt_color=%{customdata[6]}<br>experiment_str=%{customdata[7]}<br>Prompt=%{customdata[9]}<extra></extra>",
         "legendgroup": "The word \"RED\"",
         "marker": {
          "color": "red",
          "pattern": {
           "shape": "/"
          }
         },
         "name": "The word \"RED\"",
         "offsetgroup": "The word \"RED\"",
         "orientation": "v",
         "showlegend": false,
         "text": [
          "✔",
          "✔"
         ],
         "textposition": "auto",
         "type": "bar",
         "x": [
          "red",
          "blue"
         ],
         "xaxis": "x2",
         "y": {
          "bdata": "AAAAgE/97z8BAADgFL3vPw==",
          "dtype": "f8"
         },
         "yaxis": "y2"
        },
        {
         "alignmentgroup": "True",
         "customdata": [
          [
           "XXXX",
           "meaning_only",
           "The word \"RED\"",
           "neutral",
           false,
           "RED",
           null,
           "Word",
           "✗",
           "‘The word \"RED\"’"
          ],
          [
           "XXXX",
           "meaning_only",
           "The word \"RED\"",
           "neutral",
           false,
           "RED",
           null,
           "Word",
           "✗",
           "‘The word \"RED\"’"
          ]
         ],
         "hovertemplate": "prompt=%{customdata[2]}<br>word=%{customdata[0]}<br>color=%{x}<br>Probability=%{y}<br>correct_str=%{customdata[8]}<br>Experiment=%{customdata[1]}<br>condition=%{customdata[3]}<br>correct=%{customdata[4]}<br>prompt_word=%{customdata[5]}<br>prompt_color=%{customdata[6]}<br>experiment_str=%{customdata[7]}<br>Prompt=%{customdata[9]}<extra></extra>",
         "legendgroup": "The word \"RED\"",
         "marker": {
          "color": "red",
          "pattern": {
           "shape": "/"
          }
         },
         "name": "The word \"RED\"",
         "offsetgroup": "The word \"RED\"",
         "orientation": "v",
         "showlegend": false,
         "text": [
          "✗",
          "✗"
         ],
         "textposition": "auto",
         "type": "bar",
         "x": [
          "red",
          "blue"
         ],
         "xaxis": "x3",
         "y": {
          "bdata": "AAAAAFX76z////8feeCuPw==",
          "dtype": "f8"
         },
         "yaxis": "y3"
        }
       ],
       "layout": {
        "annotations": [
         {
          "showarrow": false,
          "text": "BLUE",
          "x": 0.15999999999999998,
          "xanchor": "center",
          "xref": "paper",
          "y": 1,
          "yanchor": "bottom",
          "yref": "paper"
         },
         {
          "showarrow": false,
          "text": "RED",
          "x": 0.49999999999999994,
          "xanchor": "center",
          "xref": "paper",
          "y": 1,
          "yanchor": "bottom",
          "yref": "paper"
         },
         {
          "showarrow": false,
          "text": "XXXX",
          "x": 0.8399999999999999,
          "xanchor": "center",
          "xref": "paper",
          "y": 1,
          "yanchor": "bottom",
          "yref": "paper"
         },
         {
          "showarrow": false,
          "text": "Color",
          "x": 0.5,
          "xref": "paper",
          "y": -0.3,
          "yref": "paper"
         },
         {
          "showarrow": false,
          "text": "Word",
          "x": 0.5,
          "xref": "paper",
          "y": 1.3,
          "yref": "paper"
         }
        ],
        "barmode": "group",
        "height": 250,
        "legend": {
         "title": {
          "text": "prompt"
         },
         "tracegroupgap": 0
        },
        "margin": {
         "b": 60,
         "l": 50,
         "r": 50,
         "t": 50
        },
        "template": {
         "data": {
          "bar": [
           {
            "error_x": {
             "color": "#2a3f5f"
            },
            "error_y": {
             "color": "#2a3f5f"
            },
            "marker": {
             "line": {
              "color": "#E5ECF6",
              "width": 0.5
             },
             "pattern": {
              "fillmode": "overlay",
              "size": 10,
              "solidity": 0.2
             }
            },
            "type": "bar"
           }
          ],
          "barpolar": [
           {
            "marker": {
             "line": {
              "color": "#E5ECF6",
              "width": 0.5
             },
             "pattern": {
              "fillmode": "overlay",
              "size": 10,
              "solidity": 0.2
             }
            },
            "type": "barpolar"
           }
          ],
          "carpet": [
           {
            "aaxis": {
             "endlinecolor": "#2a3f5f",
             "gridcolor": "white",
             "linecolor": "white",
             "minorgridcolor": "white",
             "startlinecolor": "#2a3f5f"
            },
            "baxis": {
             "endlinecolor": "#2a3f5f",
             "gridcolor": "white",
             "linecolor": "white",
             "minorgridcolor": "white",
             "startlinecolor": "#2a3f5f"
            },
            "type": "carpet"
           }
          ],
          "choropleth": [
           {
            "colorbar": {
             "outlinewidth": 0,
             "ticks": ""
            },
            "type": "choropleth"
           }
          ],
          "contour": [
           {
            "colorbar": {
             "outlinewidth": 0,
             "ticks": ""
            },
            "colorscale": [
             [
              0,
              "#0d0887"
             ],
             [
              0.1111111111111111,
              "#46039f"
             ],
             [
              0.2222222222222222,
              "#7201a8"
             ],
             [
              0.3333333333333333,
              "#9c179e"
             ],
             [
              0.4444444444444444,
              "#bd3786"
             ],
             [
              0.5555555555555556,
              "#d8576b"
             ],
             [
              0.6666666666666666,
              "#ed7953"
             ],
             [
              0.7777777777777778,
              "#fb9f3a"
             ],
             [
              0.8888888888888888,
              "#fdca26"
             ],
             [
              1,
              "#f0f921"
             ]
            ],
            "type": "contour"
           }
          ],
          "contourcarpet": [
           {
            "colorbar": {
             "outlinewidth": 0,
             "ticks": ""
            },
            "type": "contourcarpet"
           }
          ],
          "heatmap": [
           {
            "colorbar": {
             "outlinewidth": 0,
             "ticks": ""
            },
            "colorscale": [
             [
              0,
              "#0d0887"
             ],
             [
              0.1111111111111111,
              "#46039f"
             ],
             [
              0.2222222222222222,
              "#7201a8"
             ],
             [
              0.3333333333333333,
              "#9c179e"
             ],
             [
              0.4444444444444444,
              "#bd3786"
             ],
             [
              0.5555555555555556,
              "#d8576b"
             ],
             [
              0.6666666666666666,
              "#ed7953"
             ],
             [
              0.7777777777777778,
              "#fb9f3a"
             ],
             [
              0.8888888888888888,
              "#fdca26"
             ],
             [
              1,
              "#f0f921"
             ]
            ],
            "type": "heatmap"
           }
          ],
          "histogram": [
           {
            "marker": {
             "pattern": {
              "fillmode": "overlay",
              "size": 10,
              "solidity": 0.2
             }
            },
            "type": "histogram"
           }
          ],
          "histogram2d": [
           {
            "colorbar": {
             "outlinewidth": 0,
             "ticks": ""
            },
            "colorscale": [
             [
              0,
              "#0d0887"
             ],
             [
              0.1111111111111111,
              "#46039f"
             ],
             [
              0.2222222222222222,
              "#7201a8"
             ],
             [
              0.3333333333333333,
              "#9c179e"
             ],
             [
              0.4444444444444444,
              "#bd3786"
             ],
             [
              0.5555555555555556,
              "#d8576b"
             ],
             [
              0.6666666666666666,
              "#ed7953"
             ],
             [
              0.7777777777777778,
              "#fb9f3a"
             ],
             [
              0.8888888888888888,
              "#fdca26"
             ],
             [
              1,
              "#f0f921"
             ]
            ],
            "type": "histogram2d"
           }
          ],
          "histogram2dcontour": [
           {
            "colorbar": {
             "outlinewidth": 0,
             "ticks": ""
            },
            "colorscale": [
             [
              0,
              "#0d0887"
             ],
             [
              0.1111111111111111,
              "#46039f"
             ],
             [
              0.2222222222222222,
              "#7201a8"
             ],
             [
              0.3333333333333333,
              "#9c179e"
             ],
             [
              0.4444444444444444,
              "#bd3786"
             ],
             [
              0.5555555555555556,
              "#d8576b"
             ],
             [
              0.6666666666666666,
              "#ed7953"
             ],
             [
              0.7777777777777778,
              "#fb9f3a"
             ],
             [
              0.8888888888888888,
              "#fdca26"
             ],
             [
              1,
              "#f0f921"
             ]
            ],
            "type": "histogram2dcontour"
           }
          ],
          "mesh3d": [
           {
            "colorbar": {
             "outlinewidth": 0,
             "ticks": ""
            },
            "type": "mesh3d"
           }
          ],
          "parcoords": [
           {
            "line": {
             "colorbar": {
              "outlinewidth": 0,
              "ticks": ""
             }
            },
            "type": "parcoords"
           }
          ],
          "pie": [
           {
            "automargin": true,
            "type": "pie"
           }
          ],
          "scatter": [
           {
            "fillpattern": {
             "fillmode": "overlay",
             "size": 10,
             "solidity": 0.2
            },
            "type": "scatter"
           }
          ],
          "scatter3d": [
           {
            "line": {
             "colorbar": {
              "outlinewidth": 0,
              "ticks": ""
             }
            },
            "marker": {
             "colorbar": {
              "outlinewidth": 0,
              "ticks": ""
             }
            },
            "type": "scatter3d"
           }
          ],
          "scattercarpet": [
           {
            "marker": {
             "colorbar": {
              "outlinewidth": 0,
              "ticks": ""
             }
            },
            "type": "scattercarpet"
           }
          ],
          "scattergeo": [
           {
            "marker": {
             "colorbar": {
              "outlinewidth": 0,
              "ticks": ""
             }
            },
            "type": "scattergeo"
           }
          ],
          "scattergl": [
           {
            "marker": {
             "colorbar": {
              "outlinewidth": 0,
              "ticks": ""
             }
            },
            "type": "scattergl"
           }
          ],
          "scattermap": [
           {
            "marker": {
             "colorbar": {
              "outlinewidth": 0,
              "ticks": ""
             }
            },
            "type": "scattermap"
           }
          ],
          "scattermapbox": [
           {
            "marker": {
             "colorbar": {
              "outlinewidth": 0,
              "ticks": ""
             }
            },
            "type": "scattermapbox"
           }
          ],
          "scatterpolar": [
           {
            "marker": {
             "colorbar": {
              "outlinewidth": 0,
              "ticks": ""
             }
            },
            "type": "scatterpolar"
           }
          ],
          "scatterpolargl": [
           {
            "marker": {
             "colorbar": {
              "outlinewidth": 0,
              "ticks": ""
             }
            },
            "type": "scatterpolargl"
           }
          ],
          "scatterternary": [
           {
            "marker": {
             "colorbar": {
              "outlinewidth": 0,
              "ticks": ""
             }
            },
            "type": "scatterternary"
           }
          ],
          "surface": [
           {
            "colorbar": {
             "outlinewidth": 0,
             "ticks": ""
            },
            "colorscale": [
             [
              0,
              "#0d0887"
             ],
             [
              0.1111111111111111,
              "#46039f"
             ],
             [
              0.2222222222222222,
              "#7201a8"
             ],
             [
              0.3333333333333333,
              "#9c179e"
             ],
             [
              0.4444444444444444,
              "#bd3786"
             ],
             [
              0.5555555555555556,
              "#d8576b"
             ],
             [
              0.6666666666666666,
              "#ed7953"
             ],
             [
              0.7777777777777778,
              "#fb9f3a"
             ],
             [
              0.8888888888888888,
              "#fdca26"
             ],
             [
              1,
              "#f0f921"
             ]
            ],
            "type": "surface"
           }
          ],
          "table": [
           {
            "cells": {
             "fill": {
              "color": "#EBF0F8"
             },
             "line": {
              "color": "white"
             }
            },
            "header": {
             "fill": {
              "color": "#C8D4E3"
             },
             "line": {
              "color": "white"
             }
            },
            "type": "table"
           }
          ]
         },
         "layout": {
          "annotationdefaults": {
           "arrowcolor": "#2a3f5f",
           "arrowhead": 0,
           "arrowwidth": 1
          },
          "autotypenumbers": "strict",
          "coloraxis": {
           "colorbar": {
            "outlinewidth": 0,
            "ticks": ""
           }
          },
          "colorscale": {
           "diverging": [
            [
             0,
             "#8e0152"
            ],
            [
             0.1,
             "#c51b7d"
            ],
            [
             0.2,
             "#de77ae"
            ],
            [
             0.3,
             "#f1b6da"
            ],
            [
             0.4,
             "#fde0ef"
            ],
            [
             0.5,
             "#f7f7f7"
            ],
            [
             0.6,
             "#e6f5d0"
            ],
            [
             0.7,
             "#b8e186"
            ],
            [
             0.8,
             "#7fbc41"
            ],
            [
             0.9,
             "#4d9221"
            ],
            [
             1,
             "#276419"
            ]
           ],
           "sequential": [
            [
             0,
             "#0d0887"
            ],
            [
             0.1111111111111111,
             "#46039f"
            ],
            [
             0.2222222222222222,
             "#7201a8"
            ],
            [
             0.3333333333333333,
             "#9c179e"
            ],
            [
             0.4444444444444444,
             "#bd3786"
            ],
            [
             0.5555555555555556,
             "#d8576b"
            ],
            [
             0.6666666666666666,
             "#ed7953"
            ],
            [
             0.7777777777777778,
             "#fb9f3a"
            ],
            [
             0.8888888888888888,
             "#fdca26"
            ],
            [
             1,
             "#f0f921"
            ]
           ],
           "sequentialminus": [
            [
             0,
             "#0d0887"
            ],
            [
             0.1111111111111111,
             "#46039f"
            ],
            [
             0.2222222222222222,
             "#7201a8"
            ],
            [
             0.3333333333333333,
             "#9c179e"
            ],
            [
             0.4444444444444444,
             "#bd3786"
            ],
            [
             0.5555555555555556,
             "#d8576b"
            ],
            [
             0.6666666666666666,
             "#ed7953"
            ],
            [
             0.7777777777777778,
             "#fb9f3a"
            ],
            [
             0.8888888888888888,
             "#fdca26"
            ],
            [
             1,
             "#f0f921"
            ]
           ]
          },
          "colorway": [
           "#636efa",
           "#EF553B",
           "#00cc96",
           "#ab63fa",
           "#FFA15A",
           "#19d3f3",
           "#FF6692",
           "#B6E880",
           "#FF97FF",
           "#FECB52"
          ],
          "font": {
           "color": "#2a3f5f"
          },
          "geo": {
           "bgcolor": "white",
           "lakecolor": "white",
           "landcolor": "#E5ECF6",
           "showlakes": true,
           "showland": true,
           "subunitcolor": "white"
          },
          "hoverlabel": {
           "align": "left"
          },
          "hovermode": "closest",
          "mapbox": {
           "style": "light"
          },
          "paper_bgcolor": "white",
          "plot_bgcolor": "#E5ECF6",
          "polar": {
           "angularaxis": {
            "gridcolor": "white",
            "linecolor": "white",
            "ticks": ""
           },
           "bgcolor": "#E5ECF6",
           "radialaxis": {
            "gridcolor": "white",
            "linecolor": "white",
            "ticks": ""
           }
          },
          "scene": {
           "xaxis": {
            "backgroundcolor": "#E5ECF6",
            "gridcolor": "white",
            "gridwidth": 2,
            "linecolor": "white",
            "showbackground": true,
            "ticks": "",
            "zerolinecolor": "white"
           },
           "yaxis": {
            "backgroundcolor": "#E5ECF6",
            "gridcolor": "white",
            "gridwidth": 2,
            "linecolor": "white",
            "showbackground": true,
            "ticks": "",
            "zerolinecolor": "white"
           },
           "zaxis": {
            "backgroundcolor": "#E5ECF6",
            "gridcolor": "white",
            "gridwidth": 2,
            "linecolor": "white",
            "showbackground": true,
            "ticks": "",
            "zerolinecolor": "white"
           }
          },
          "shapedefaults": {
           "line": {
            "color": "#2a3f5f"
           }
          },
          "ternary": {
           "aaxis": {
            "gridcolor": "white",
            "linecolor": "white",
            "ticks": ""
           },
           "baxis": {
            "gridcolor": "white",
            "linecolor": "white",
            "ticks": ""
           },
           "bgcolor": "#E5ECF6",
           "caxis": {
            "gridcolor": "white",
            "linecolor": "white",
            "ticks": ""
           }
          },
          "title": {
           "x": 0.05
          },
          "xaxis": {
           "automargin": true,
           "gridcolor": "white",
           "linecolor": "white",
           "ticks": "",
           "title": {
            "standoff": 15
           },
           "zerolinecolor": "white",
           "zerolinewidth": 2
          },
          "yaxis": {
           "automargin": true,
           "gridcolor": "white",
           "linecolor": "white",
           "ticks": "",
           "title": {
            "standoff": 15
           },
           "zerolinecolor": "white",
           "zerolinewidth": 2
          }
         }
        },
        "width": 600,
        "xaxis": {
         "anchor": "y",
         "categoryarray": [
          "blue",
          "red"
         ],
         "categoryorder": "array",
         "domain": [
          0,
          0.31999999999999995
         ],
         "title": {
          "text": ""
         }
        },
        "xaxis2": {
         "anchor": "y2",
         "categoryarray": [
          "blue",
          "red"
         ],
         "categoryorder": "array",
         "domain": [
          0.33999999999999997,
          0.6599999999999999
         ],
         "matches": "x",
         "title": {
          "text": ""
         }
        },
        "xaxis3": {
         "anchor": "y3",
         "categoryarray": [
          "blue",
          "red"
         ],
         "categoryorder": "array",
         "domain": [
          0.6799999999999999,
          0.9999999999999999
         ],
         "matches": "x",
         "title": {
          "text": ""
         }
        },
        "yaxis": {
         "anchor": "x",
         "domain": [
          0,
          1
         ],
         "ticktext": [
          "0",
          "0.5",
          "1"
         ],
         "tickvals": [
          0,
          0.5,
          1
         ],
         "title": {
          "text": "Probability"
         }
        },
        "yaxis2": {
         "anchor": "x2",
         "domain": [
          0,
          1
         ],
         "matches": "y",
         "showticklabels": false,
         "ticktext": [
          "0",
          "0.5",
          "1"
         ],
         "tickvals": [
          0,
          0.5,
          1
         ]
        },
        "yaxis3": {
         "anchor": "x3",
         "domain": [
          0,
          1
         ],
         "matches": "y",
         "showticklabels": false,
         "ticktext": [
          "0",
          "0.5",
          "1"
         ],
         "tickvals": [
          0,
          0.5,
          1
         ]
        }
       }
      }
     },
     "metadata": {},
     "output_type": "display_data"
    }
   ],
   "source": [
    "prompts = df[\"prompt\"].unique()\n",
    "df['correct_str'] = df['correct'].map({True: \"✔\", False: \"✗\"})\n",
    "df['prompt_str'] = '‘' + df['prompt'] + \"’\"\n",
    "x_range = None\n",
    "for experiment, experiment_df in df.groupby(\"experiment\"):\n",
    "    fig = px.bar(\n",
    "        experiment_df,\n",
    "        x=\"color\",\n",
    "        y=\"probability\",\n",
    "        color=\"prompt\",\n",
    "        text=\"correct_str\",\n",
    "        facet_col=\"word\",\n",
    "        color_discrete_map={\"A word colored in blue\": \"blue\", \n",
    "                            \"A word colored in red\": \"red\",\n",
    "                            'The word \"BLUE\"': \"blue\",\n",
    "                            'The word \"RED\"': \"red\"},\n",
    "        pattern_shape=\"prompt\",\n",
    "        pattern_shape_map={\"A word colored in blue\": \"\", \n",
    "                            \"A word colored in red\": \"\",\n",
    "                            'The word \"BLUE\"': \"/\",\n",
    "                            'The word \"RED\"': \"/\"},\n",
    "        hover_data=df.columns.tolist(),\n",
    "        labels={\"probability\": \"Probability\", \n",
    "                \"experiment\": \"Experiment\", \n",
    "                'prompt_str': 'Prompt'},\n",
    "        barmode=\"group\",\n",
    "        category_orders={\"prompt\": prompts, \"color\": ['blue','red'], \"word\": [\"BLUE\",\"RED\",\"XXXX\"]},\n",
    "        width=600,\n",
    "        height=250\n",
    "        #range_x=[0, 1],\n",
    "    )\n",
    "    # remove Word= from the facet col \n",
    "    fig.for_each_annotation(lambda a: a.update(text=a.text.split(\"=\")[-1]))\n",
    "    fig.update_xaxes(title='')\n",
    "    # add super x-label without arrow\n",
    "    fig.add_annotation(x=0.5, y=-0.3, \n",
    "                       text=\"Color\", \n",
    "                       xref='paper', yref='paper',\n",
    "                       showarrow=False\n",
    "                       )\n",
    "    fig.add_annotation(x=0.5, y=+1.3, \n",
    "                text=\"Word\", \n",
    "                xref='paper', yref='paper',\n",
    "                showarrow=False\n",
    "                )\n",
    "\n",
    "    fig.update_yaxes(tickvals=[0, 0.5, 1], ticktext=[\"0\", \"0.5\", \"1\"])\n",
    "    fig.update_layout(margin=dict(l=50, r=50, t=50, b=60))\n",
    "\n",
    "\n",
    "    # get current x-axis range\n",
    "\n",
    "    fig.show()\n",
    "    fig.write_image(f'../results/figures/{experiment}.png', scale=3)\n",
    "    "
   ]
  },
  {
   "cell_type": "code",
   "execution_count": 128,
   "metadata": {},
   "outputs": [
    {
     "data": {
      "text/plain": [
       "experiment\n",
       "combined        24\n",
       "meaning_only    12\n",
       "color_only      12\n",
       "Name: count, dtype: int64"
      ]
     },
     "execution_count": 128,
     "metadata": {},
     "output_type": "execute_result"
    }
   ],
   "source": [
    "df['experiment'].value_counts()"
   ]
  },
  {
   "cell_type": "code",
   "execution_count": 74,
   "metadata": {},
   "outputs": [
    {
     "data": {
      "application/vnd.plotly.v1+json": {
       "config": {
        "plotlyServerURL": "https://plot.ly"
       },
       "data": [
        {
         "alignmentgroup": "True",
         "hovertemplate": "condition=congruent<br>experiment_str=%{x}<br>probability=%{y}<extra></extra>",
         "legendgroup": "congruent",
         "marker": {
          "color": "blue"
         },
         "name": "congruent",
         "notched": false,
         "offsetgroup": "congruent",
         "orientation": "v",
         "showlegend": true,
         "type": "box",
         "x": [
          "Word",
          "Color",
          "Combined",
          "Combined",
          "Word",
          "Color",
          "Combined",
          "Combined"
         ],
         "x0": " ",
         "xaxis": "x",
         "y": {
          "bdata": "AAAAoG387z8BAAAAoeLvPwAAAOB9COc//////23Z0T8AAACAT/3vP////z++9O8/AAAAwOWv5T////+fTpXUPw==",
          "dtype": "f8"
         },
         "y0": " ",
         "yaxis": "y"
        },
        {
         "alignmentgroup": "True",
         "hovertemplate": "condition=incongruent<br>experiment_str=%{x}<br>probability=%{y}<extra></extra>",
         "legendgroup": "incongruent",
         "marker": {
          "color": "red"
         },
         "name": "incongruent",
         "notched": false,
         "offsetgroup": "incongruent",
         "orientation": "v",
         "showlegend": true,
         "type": "box",
         "x": [
          "Word",
          "Color",
          "Combined",
          "Combined",
          "Word",
          "Color",
          "Combined",
          "Combined"
         ],
         "x0": " ",
         "xaxis": "x",
         "y": {
          "bdata": "AAAAQJTX7z/5//+fkuiwPwAAAODiX+U//P//38Q7lj8BAADgFL3vP/7//9/FzaE/AAAAYCNc4z/L//9/fMaLPw==",
          "dtype": "f8"
         },
         "y0": " ",
         "yaxis": "y"
        },
        {
         "alignmentgroup": "True",
         "hovertemplate": "condition=neutral<br>experiment_str=%{x}<br>probability=%{y}<extra></extra>",
         "legendgroup": "neutral",
         "marker": {
          "color": "green"
         },
         "name": "neutral",
         "notched": false,
         "offsetgroup": "neutral",
         "orientation": "v",
         "showlegend": true,
         "type": "box",
         "x": [
          "Color",
          "Combined",
          "Color",
          "Combined"
         ],
         "x0": " ",
         "xaxis": "x",
         "y": {
          "bdata": "AAAAYKg/7T8AAABAMf3kPwAAAKDmBO4/AAAAwEif4D8=",
          "dtype": "f8"
         },
         "y0": " ",
         "yaxis": "y"
        }
       ],
       "layout": {
        "annotations": [
         {
          "showarrow": false,
          "text": "Experiment",
          "x": 0.5,
          "xref": "paper",
          "y": -0.2,
          "yref": "paper"
         }
        ],
        "boxmode": "group",
        "height": 300,
        "legend": {
         "title": {
          "text": "condition"
         },
         "tracegroupgap": 0
        },
        "margin": {
         "b": 60,
         "l": 50,
         "r": 50,
         "t": 10
        },
        "template": {
         "data": {
          "bar": [
           {
            "error_x": {
             "color": "#2a3f5f"
            },
            "error_y": {
             "color": "#2a3f5f"
            },
            "marker": {
             "line": {
              "color": "#E5ECF6",
              "width": 0.5
             },
             "pattern": {
              "fillmode": "overlay",
              "size": 10,
              "solidity": 0.2
             }
            },
            "type": "bar"
           }
          ],
          "barpolar": [
           {
            "marker": {
             "line": {
              "color": "#E5ECF6",
              "width": 0.5
             },
             "pattern": {
              "fillmode": "overlay",
              "size": 10,
              "solidity": 0.2
             }
            },
            "type": "barpolar"
           }
          ],
          "carpet": [
           {
            "aaxis": {
             "endlinecolor": "#2a3f5f",
             "gridcolor": "white",
             "linecolor": "white",
             "minorgridcolor": "white",
             "startlinecolor": "#2a3f5f"
            },
            "baxis": {
             "endlinecolor": "#2a3f5f",
             "gridcolor": "white",
             "linecolor": "white",
             "minorgridcolor": "white",
             "startlinecolor": "#2a3f5f"
            },
            "type": "carpet"
           }
          ],
          "choropleth": [
           {
            "colorbar": {
             "outlinewidth": 0,
             "ticks": ""
            },
            "type": "choropleth"
           }
          ],
          "contour": [
           {
            "colorbar": {
             "outlinewidth": 0,
             "ticks": ""
            },
            "colorscale": [
             [
              0,
              "#0d0887"
             ],
             [
              0.1111111111111111,
              "#46039f"
             ],
             [
              0.2222222222222222,
              "#7201a8"
             ],
             [
              0.3333333333333333,
              "#9c179e"
             ],
             [
              0.4444444444444444,
              "#bd3786"
             ],
             [
              0.5555555555555556,
              "#d8576b"
             ],
             [
              0.6666666666666666,
              "#ed7953"
             ],
             [
              0.7777777777777778,
              "#fb9f3a"
             ],
             [
              0.8888888888888888,
              "#fdca26"
             ],
             [
              1,
              "#f0f921"
             ]
            ],
            "type": "contour"
           }
          ],
          "contourcarpet": [
           {
            "colorbar": {
             "outlinewidth": 0,
             "ticks": ""
            },
            "type": "contourcarpet"
           }
          ],
          "heatmap": [
           {
            "colorbar": {
             "outlinewidth": 0,
             "ticks": ""
            },
            "colorscale": [
             [
              0,
              "#0d0887"
             ],
             [
              0.1111111111111111,
              "#46039f"
             ],
             [
              0.2222222222222222,
              "#7201a8"
             ],
             [
              0.3333333333333333,
              "#9c179e"
             ],
             [
              0.4444444444444444,
              "#bd3786"
             ],
             [
              0.5555555555555556,
              "#d8576b"
             ],
             [
              0.6666666666666666,
              "#ed7953"
             ],
             [
              0.7777777777777778,
              "#fb9f3a"
             ],
             [
              0.8888888888888888,
              "#fdca26"
             ],
             [
              1,
              "#f0f921"
             ]
            ],
            "type": "heatmap"
           }
          ],
          "histogram": [
           {
            "marker": {
             "pattern": {
              "fillmode": "overlay",
              "size": 10,
              "solidity": 0.2
             }
            },
            "type": "histogram"
           }
          ],
          "histogram2d": [
           {
            "colorbar": {
             "outlinewidth": 0,
             "ticks": ""
            },
            "colorscale": [
             [
              0,
              "#0d0887"
             ],
             [
              0.1111111111111111,
              "#46039f"
             ],
             [
              0.2222222222222222,
              "#7201a8"
             ],
             [
              0.3333333333333333,
              "#9c179e"
             ],
             [
              0.4444444444444444,
              "#bd3786"
             ],
             [
              0.5555555555555556,
              "#d8576b"
             ],
             [
              0.6666666666666666,
              "#ed7953"
             ],
             [
              0.7777777777777778,
              "#fb9f3a"
             ],
             [
              0.8888888888888888,
              "#fdca26"
             ],
             [
              1,
              "#f0f921"
             ]
            ],
            "type": "histogram2d"
           }
          ],
          "histogram2dcontour": [
           {
            "colorbar": {
             "outlinewidth": 0,
             "ticks": ""
            },
            "colorscale": [
             [
              0,
              "#0d0887"
             ],
             [
              0.1111111111111111,
              "#46039f"
             ],
             [
              0.2222222222222222,
              "#7201a8"
             ],
             [
              0.3333333333333333,
              "#9c179e"
             ],
             [
              0.4444444444444444,
              "#bd3786"
             ],
             [
              0.5555555555555556,
              "#d8576b"
             ],
             [
              0.6666666666666666,
              "#ed7953"
             ],
             [
              0.7777777777777778,
              "#fb9f3a"
             ],
             [
              0.8888888888888888,
              "#fdca26"
             ],
             [
              1,
              "#f0f921"
             ]
            ],
            "type": "histogram2dcontour"
           }
          ],
          "mesh3d": [
           {
            "colorbar": {
             "outlinewidth": 0,
             "ticks": ""
            },
            "type": "mesh3d"
           }
          ],
          "parcoords": [
           {
            "line": {
             "colorbar": {
              "outlinewidth": 0,
              "ticks": ""
             }
            },
            "type": "parcoords"
           }
          ],
          "pie": [
           {
            "automargin": true,
            "type": "pie"
           }
          ],
          "scatter": [
           {
            "fillpattern": {
             "fillmode": "overlay",
             "size": 10,
             "solidity": 0.2
            },
            "type": "scatter"
           }
          ],
          "scatter3d": [
           {
            "line": {
             "colorbar": {
              "outlinewidth": 0,
              "ticks": ""
             }
            },
            "marker": {
             "colorbar": {
              "outlinewidth": 0,
              "ticks": ""
             }
            },
            "type": "scatter3d"
           }
          ],
          "scattercarpet": [
           {
            "marker": {
             "colorbar": {
              "outlinewidth": 0,
              "ticks": ""
             }
            },
            "type": "scattercarpet"
           }
          ],
          "scattergeo": [
           {
            "marker": {
             "colorbar": {
              "outlinewidth": 0,
              "ticks": ""
             }
            },
            "type": "scattergeo"
           }
          ],
          "scattergl": [
           {
            "marker": {
             "colorbar": {
              "outlinewidth": 0,
              "ticks": ""
             }
            },
            "type": "scattergl"
           }
          ],
          "scattermap": [
           {
            "marker": {
             "colorbar": {
              "outlinewidth": 0,
              "ticks": ""
             }
            },
            "type": "scattermap"
           }
          ],
          "scattermapbox": [
           {
            "marker": {
             "colorbar": {
              "outlinewidth": 0,
              "ticks": ""
             }
            },
            "type": "scattermapbox"
           }
          ],
          "scatterpolar": [
           {
            "marker": {
             "colorbar": {
              "outlinewidth": 0,
              "ticks": ""
             }
            },
            "type": "scatterpolar"
           }
          ],
          "scatterpolargl": [
           {
            "marker": {
             "colorbar": {
              "outlinewidth": 0,
              "ticks": ""
             }
            },
            "type": "scatterpolargl"
           }
          ],
          "scatterternary": [
           {
            "marker": {
             "colorbar": {
              "outlinewidth": 0,
              "ticks": ""
             }
            },
            "type": "scatterternary"
           }
          ],
          "surface": [
           {
            "colorbar": {
             "outlinewidth": 0,
             "ticks": ""
            },
            "colorscale": [
             [
              0,
              "#0d0887"
             ],
             [
              0.1111111111111111,
              "#46039f"
             ],
             [
              0.2222222222222222,
              "#7201a8"
             ],
             [
              0.3333333333333333,
              "#9c179e"
             ],
             [
              0.4444444444444444,
              "#bd3786"
             ],
             [
              0.5555555555555556,
              "#d8576b"
             ],
             [
              0.6666666666666666,
              "#ed7953"
             ],
             [
              0.7777777777777778,
              "#fb9f3a"
             ],
             [
              0.8888888888888888,
              "#fdca26"
             ],
             [
              1,
              "#f0f921"
             ]
            ],
            "type": "surface"
           }
          ],
          "table": [
           {
            "cells": {
             "fill": {
              "color": "#EBF0F8"
             },
             "line": {
              "color": "white"
             }
            },
            "header": {
             "fill": {
              "color": "#C8D4E3"
             },
             "line": {
              "color": "white"
             }
            },
            "type": "table"
           }
          ]
         },
         "layout": {
          "annotationdefaults": {
           "arrowcolor": "#2a3f5f",
           "arrowhead": 0,
           "arrowwidth": 1
          },
          "autotypenumbers": "strict",
          "coloraxis": {
           "colorbar": {
            "outlinewidth": 0,
            "ticks": ""
           }
          },
          "colorscale": {
           "diverging": [
            [
             0,
             "#8e0152"
            ],
            [
             0.1,
             "#c51b7d"
            ],
            [
             0.2,
             "#de77ae"
            ],
            [
             0.3,
             "#f1b6da"
            ],
            [
             0.4,
             "#fde0ef"
            ],
            [
             0.5,
             "#f7f7f7"
            ],
            [
             0.6,
             "#e6f5d0"
            ],
            [
             0.7,
             "#b8e186"
            ],
            [
             0.8,
             "#7fbc41"
            ],
            [
             0.9,
             "#4d9221"
            ],
            [
             1,
             "#276419"
            ]
           ],
           "sequential": [
            [
             0,
             "#0d0887"
            ],
            [
             0.1111111111111111,
             "#46039f"
            ],
            [
             0.2222222222222222,
             "#7201a8"
            ],
            [
             0.3333333333333333,
             "#9c179e"
            ],
            [
             0.4444444444444444,
             "#bd3786"
            ],
            [
             0.5555555555555556,
             "#d8576b"
            ],
            [
             0.6666666666666666,
             "#ed7953"
            ],
            [
             0.7777777777777778,
             "#fb9f3a"
            ],
            [
             0.8888888888888888,
             "#fdca26"
            ],
            [
             1,
             "#f0f921"
            ]
           ],
           "sequentialminus": [
            [
             0,
             "#0d0887"
            ],
            [
             0.1111111111111111,
             "#46039f"
            ],
            [
             0.2222222222222222,
             "#7201a8"
            ],
            [
             0.3333333333333333,
             "#9c179e"
            ],
            [
             0.4444444444444444,
             "#bd3786"
            ],
            [
             0.5555555555555556,
             "#d8576b"
            ],
            [
             0.6666666666666666,
             "#ed7953"
            ],
            [
             0.7777777777777778,
             "#fb9f3a"
            ],
            [
             0.8888888888888888,
             "#fdca26"
            ],
            [
             1,
             "#f0f921"
            ]
           ]
          },
          "colorway": [
           "#636efa",
           "#EF553B",
           "#00cc96",
           "#ab63fa",
           "#FFA15A",
           "#19d3f3",
           "#FF6692",
           "#B6E880",
           "#FF97FF",
           "#FECB52"
          ],
          "font": {
           "color": "#2a3f5f"
          },
          "geo": {
           "bgcolor": "white",
           "lakecolor": "white",
           "landcolor": "#E5ECF6",
           "showlakes": true,
           "showland": true,
           "subunitcolor": "white"
          },
          "hoverlabel": {
           "align": "left"
          },
          "hovermode": "closest",
          "mapbox": {
           "style": "light"
          },
          "paper_bgcolor": "white",
          "plot_bgcolor": "#E5ECF6",
          "polar": {
           "angularaxis": {
            "gridcolor": "white",
            "linecolor": "white",
            "ticks": ""
           },
           "bgcolor": "#E5ECF6",
           "radialaxis": {
            "gridcolor": "white",
            "linecolor": "white",
            "ticks": ""
           }
          },
          "scene": {
           "xaxis": {
            "backgroundcolor": "#E5ECF6",
            "gridcolor": "white",
            "gridwidth": 2,
            "linecolor": "white",
            "showbackground": true,
            "ticks": "",
            "zerolinecolor": "white"
           },
           "yaxis": {
            "backgroundcolor": "#E5ECF6",
            "gridcolor": "white",
            "gridwidth": 2,
            "linecolor": "white",
            "showbackground": true,
            "ticks": "",
            "zerolinecolor": "white"
           },
           "zaxis": {
            "backgroundcolor": "#E5ECF6",
            "gridcolor": "white",
            "gridwidth": 2,
            "linecolor": "white",
            "showbackground": true,
            "ticks": "",
            "zerolinecolor": "white"
           }
          },
          "shapedefaults": {
           "line": {
            "color": "#2a3f5f"
           }
          },
          "ternary": {
           "aaxis": {
            "gridcolor": "white",
            "linecolor": "white",
            "ticks": ""
           },
           "baxis": {
            "gridcolor": "white",
            "linecolor": "white",
            "ticks": ""
           },
           "bgcolor": "#E5ECF6",
           "caxis": {
            "gridcolor": "white",
            "linecolor": "white",
            "ticks": ""
           }
          },
          "title": {
           "x": 0.05
          },
          "xaxis": {
           "automargin": true,
           "gridcolor": "white",
           "linecolor": "white",
           "ticks": "",
           "title": {
            "standoff": 15
           },
           "zerolinecolor": "white",
           "zerolinewidth": 2
          },
          "yaxis": {
           "automargin": true,
           "gridcolor": "white",
           "linecolor": "white",
           "ticks": "",
           "title": {
            "standoff": 15
           },
           "zerolinecolor": "white",
           "zerolinewidth": 2
          }
         }
        },
        "width": 600,
        "xaxis": {
         "anchor": "y",
         "categoryarray": [
          "Color",
          "Word",
          "Combined"
         ],
         "categoryorder": "array",
         "domain": [
          0,
          1
         ],
         "title": {
          "text": ""
         }
        },
        "yaxis": {
         "anchor": "x",
         "domain": [
          0,
          1
         ],
         "title": {
          "text": "probability"
         }
        }
       }
      }
     },
     "metadata": {},
     "output_type": "display_data"
    }
   ],
   "source": [
    "df['experiment_str'] = df['experiment'].map({\"color_only\": \"Color\", \"meaning_only\": \"Word\", \"combined\": \"Combined\"})\n",
    "fig = px.box(df[df['correct']], \n",
    "       y='probability', \n",
    "       color='condition',\n",
    "       color_discrete_map={'congruent':'blue', \"incongruent\": 'red', \"neutral\": 'green'},\n",
    "       x='experiment_str',\n",
    "       category_orders={'correct':[False, True], \n",
    "                        'experiment_str': ['Color','Word', 'Combined'],\n",
    "                        'condition': ['congruent','incongruent', 'neutral']\n",
    "                        },\n",
    "       width=600, height=300, \n",
    "       )\n",
    "fig.for_each_annotation(lambda a: a.update(text=a.text.split(\"=\")[-1]))\n",
    "fig.update_xaxes(title='')\n",
    "fig.add_annotation(x=0.5, y=-0.2, text=\"Experiment\", showarrow=False, xref=\"paper\", yref=\"paper\")\n",
    "#fig.add_annotation(x=0.5, y=1.3, text=\"Experiment\", showarrow=False, xref=\"paper\", yref=\"paper\")\n",
    "# make the figure tight:\n",
    "fig.update_layout(margin=dict(l=50, r=50, t=10, b=60))\n",
    "\n",
    "fig.show()\n",
    "\n",
    "fig.write_image(f'../results/figures/probability_conditioned.png', scale=3)\n"
   ]
  },
  {
   "cell_type": "code",
   "execution_count": 7,
   "metadata": {},
   "outputs": [],
   "source": [
    "# anova\n",
    "from statsmodels.formula.api import ols\n",
    "from statsmodels.stats.anova import anova_lm\n"
   ]
  },
  {
   "cell_type": "code",
   "execution_count": 51,
   "metadata": {},
   "outputs": [],
   "source": [
    "latex_df=df[['experiment','word','color',\t'prompt', 'probability','condition','correct']]\n",
    "latex_df = latex_df.sort_values(by=['experiment','word','color','prompt'])# change probability to 2 decimal places\n",
    "latex_df['probability'] = latex_df['probability'].round(2)\n",
    "latex_df.reset_index(drop=True).to_clipboard()"
   ]
  },
  {
   "cell_type": "code",
   "execution_count": 69,
   "metadata": {},
   "outputs": [
    {
     "data": {
      "image/png": "[encoded data removed]",
      "text/plain": [
       "<Figure size 800x400 with 6 Axes>"
      ]
     },
     "metadata": {},
     "output_type": "display_data"
    }
   ],
   "source": [
    "import matplotlib.pyplot as plt\n",
    "import matplotlib.image as mpimg\n",
    "import os\n",
    "\n",
    "# Define the grid\n",
    "words = [\"BLUE\", \"RED\", \"XXXX\"]\n",
    "colors = [(\"blue\", \"0_0_255\"), (\"red\", \"255_0_0\")]\n",
    "\n",
    "fig, axes = plt.subplots(nrows=2, ncols=3, figsize=(8, 4))\n",
    "#fig.suptitle(\"Stroop Stimuli (Columns: Word, Rows: Color)\", fontsize=16)\n",
    "\n",
    "for row, (color_name, rgb) in enumerate(colors):\n",
    "    for col, word in enumerate(words):\n",
    "        fname = f\"{word}_{rgb}.png\"\n",
    "        fpath = os.path.join(\"../stimuli_images\", fname)\n",
    "        ax = axes[row, col]\n",
    "        if os.path.exists(fpath):\n",
    "            img = mpimg.imread(fpath)\n",
    "            ax.imshow(img)\n",
    "        ax.set_xticks([])\n",
    "        ax.set_yticks([])\n",
    "        if row == 0:\n",
    "            ax.set_title(word, fontsize=14)\n",
    "        if col == 0:\n",
    "            ax.set_ylabel(color_name.capitalize(), fontsize=14)\n",
    "        ax.spines['top'].set_visible(False)\n",
    "        ax.spines['right'].set_visible(False)\n",
    "        ax.spines['bottom'].set_visible(False)\n",
    "        ax.spines['left'].set_visible(False)\n",
    "# add super x-label\n",
    "fig.supxlabel('Word', fontsize=14, y=1)\n",
    "fig.supylabel('Color', fontsize=14)\n",
    "plt.tight_layout()\n",
    "fig.savefig('../results/figures/stimuli.png', dpi=200, bbox_inches='tight')"
   ]
  }
 ],
 "metadata": {
  "kernelspec": {
   "display_name": ".venv",
   "language": "python",
   "name": "python3"
  },
  "language_info": {
   "codemirror_mode": {
    "name": "ipython",
    "version": 3
   },
   "file_extension": ".py",
   "mimetype": "text/x-python",
   "name": "python",
   "nbconvert_exporter": "python",
   "pygments_lexer": "ipython3",
   "version": "3.12.9"
  }
 },
 "nbformat": 4,
 "nbformat_minor": 2
}
